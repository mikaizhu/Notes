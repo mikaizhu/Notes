{
 "cells": [
  {
   "cell_type": "markdown",
   "id": "308c07ce",
   "metadata": {},
   "source": [
    "# 数据读取"
   ]
  },
  {
   "cell_type": "code",
   "execution_count": 3,
   "id": "4ebbaeb6",
   "metadata": {},
   "outputs": [],
   "source": [
    "import os\n",
    "import numpy as np\n",
    "import pandas as pd\n",
    "from collections import Counter"
   ]
  },
  {
   "cell_type": "code",
   "execution_count": 4,
   "id": "63b8e05b",
   "metadata": {},
   "outputs": [
    {
     "data": {
      "text/plain": [
       "['val',\n",
       " 'train',\n",
       " 'label and phone.xls',\n",
       " 'parameter_get.py',\n",
       " 'some_package.py',\n",
       " 'preds.npy',\n",
       " '.ipynb_checkpoints',\n",
       " 'submmit.npy',\n",
       " 'eda0.ipynb',\n",
       " 'baseline.ipynb',\n",
       " 'resnet_best_model.point',\n",
       " 'baseline.py',\n",
       " 'catboost_info',\n",
       " '.DS_Store',\n",
       " 'resnet.py',\n",
       " 'dnn.py',\n",
       " 'model.point',\n",
       " 'log_dnn_layer_1_512_layer_2_256_layer_3_128.csv',\n",
       " 'dnn_no_fft.py',\n",
       " '__pycache__',\n",
       " 'test']"
      ]
     },
     "execution_count": 4,
     "metadata": {},
     "output_type": "execute_result"
    }
   ],
   "source": [
    "# 查看当前目录下的文件内容\n",
    "os.listdir()"
   ]
  },
  {
   "cell_type": "code",
   "execution_count": 5,
   "id": "09cd985e",
   "metadata": {},
   "outputs": [],
   "source": [
    "train_path = './train'\n",
    "val_path = './val'\n",
    "test_path = './test'"
   ]
  },
  {
   "cell_type": "code",
   "execution_count": 6,
   "id": "19aca406",
   "metadata": {},
   "outputs": [
    {
     "name": "stdout",
     "output_type": "stream",
     "text": [
      "['10type_sort_train_data_8192.npy', '10type_sort_train_label_8192.npy']\n",
      "['10type_sort_test_data_8192.npy']\n",
      "['10type_sort_eval_data_8192.npy', '10type_sort_eval_label_8192.npy']\n"
     ]
    }
   ],
   "source": [
    "# 查看目录里面的文件\n",
    "print(os.listdir(train_path))\n",
    "print(os.listdir(test_path))\n",
    "print(os.listdir(val_path))"
   ]
  },
  {
   "cell_type": "code",
   "execution_count": 7,
   "id": "0685822c",
   "metadata": {},
   "outputs": [],
   "source": [
    "# 读取训练集，测试集和验证集\n",
    "train = np.load(train_path + '/' + '10type_sort_train_data_8192.npy')\n",
    "test = np.load(test_path + '/' + '10type_sort_test_data_8192.npy')\n",
    "val = np.load(val_path + '/' + '10type_sort_eval_data_8192.npy')"
   ]
  },
  {
   "cell_type": "code",
   "execution_count": 8,
   "id": "7aac74ec",
   "metadata": {},
   "outputs": [],
   "source": [
    "# 读取训练集和验证集的标签，测试集是没有标签的，需要你使用模型进行分类，并将结果进行提交\n",
    "train_label = np.load(train_path + '/' + '10type_sort_train_label_8192.npy')\n",
    "val_label = np.load(val_path + '/' + '10type_sort_eval_label_8192.npy')"
   ]
  },
  {
   "cell_type": "code",
   "execution_count": 9,
   "id": "69dc12cd",
   "metadata": {},
   "outputs": [
    {
     "data": {
      "text/plain": [
       "Counter({5: 2118,\n",
       "         4: 1558,\n",
       "         8: 1714,\n",
       "         3: 5745,\n",
       "         0: 1404,\n",
       "         6: 3398,\n",
       "         7: 1248,\n",
       "         9: 1386,\n",
       "         1: 3365,\n",
       "         2: 1467})"
      ]
     },
     "execution_count": 9,
     "metadata": {},
     "output_type": "execute_result"
    }
   ],
   "source": [
    "Counter(val_label)"
   ]
  },
  {
   "cell_type": "code",
   "execution_count": 10,
   "id": "6c4181f2",
   "metadata": {},
   "outputs": [
    {
     "name": "stdout",
     "output_type": "stream",
     "text": [
      "(70209, 8192)\n",
      "(23403, 8192)\n",
      "(23403, 8192)\n"
     ]
    }
   ],
   "source": [
    "# 查看数据的shape，可以发现序列长度都是8192\n",
    "print(train.shape)\n",
    "print(test.shape)\n",
    "print(val.shape)"
   ]
  },
  {
   "cell_type": "code",
   "execution_count": 11,
   "id": "26f24952",
   "metadata": {},
   "outputs": [
    {
     "name": "stdout",
     "output_type": "stream",
     "text": [
      "(70209,)\n",
      "(23403,)\n"
     ]
    }
   ],
   "source": [
    "# 查看训练集和验证集的标签数量是不是对应\n",
    "print(train_label.shape)\n",
    "print(val_label.shape)"
   ]
  },
  {
   "cell_type": "code",
   "execution_count": 12,
   "id": "e3a68c53",
   "metadata": {
    "scrolled": true
   },
   "outputs": [
    {
     "name": "stdout",
     "output_type": "stream",
     "text": [
      "[0 0 0 ... 9 9 9]\n"
     ]
    }
   ],
   "source": [
    "# 查看标签结果，注意分类标签应该从0开始\n",
    "print(train_label)"
   ]
  },
  {
   "cell_type": "markdown",
   "id": "3ead1fce",
   "metadata": {},
   "source": [
    "# 数据处理"
   ]
  },
  {
   "cell_type": "code",
   "execution_count": 13,
   "id": "33a78586",
   "metadata": {},
   "outputs": [],
   "source": [
    "# 数据归一化\n",
    "from sklearn.preprocessing import MinMaxScaler"
   ]
  },
  {
   "cell_type": "code",
   "execution_count": 14,
   "id": "91488953",
   "metadata": {},
   "outputs": [],
   "source": [
    "import matplotlib.pyplot as plt"
   ]
  },
  {
   "cell_type": "code",
   "execution_count": 15,
   "id": "226c59e1",
   "metadata": {},
   "outputs": [
    {
     "data": {
      "text/plain": [
       "[<matplotlib.lines.Line2D at 0x7f9057741f40>]"
      ]
     },
     "execution_count": 15,
     "metadata": {},
     "output_type": "execute_result"
    },
    {
     "data": {
      "image/png": "[encoded data removed]",
      "text/plain": [
       "<Figure size 432x288 with 1 Axes>"
      ]
     },
     "metadata": {
      "needs_background": "light"
     },
     "output_type": "display_data"
    }
   ],
   "source": [
    "plt.plot(train[0])"
   ]
  },
  {
   "cell_type": "code",
   "execution_count": 16,
   "id": "b9310956",
   "metadata": {},
   "outputs": [],
   "source": [
    "def get_fft_and_scaler(data, start=5192, end=8192):\n",
    "    data = np.fft.fft(data)\n",
    "    data = np.abs(data)\n",
    "    data = data/np.expand_dims(data.max(axis=1), axis=1)\n",
    "    return data[:,start:end]"
   ]
  },
  {
   "cell_type": "code",
   "execution_count": 17,
   "id": "8da08bed",
   "metadata": {},
   "outputs": [],
   "source": [
    "train_sp = get_fft_and_scaler(train)\n",
    "test_sp = get_fft_and_scaler(test)\n",
    "val_sp = get_fft_and_scaler(val)\n",
    "#train_fft = np.fft.fft(train)\n",
    "#val_fft = np.fft.fft(val)\n",
    "#test_fft = np.fft.fft(test)"
   ]
  },
  {
   "cell_type": "code",
   "execution_count": 18,
   "id": "15929181",
   "metadata": {},
   "outputs": [],
   "source": [
    "#train_abs = np.abs(train_fft)\n",
    "#val_abs = np.abs(val_fft)\n",
    "#test_abs = np.abs(test_fft)"
   ]
  },
  {
   "cell_type": "code",
   "execution_count": 19,
   "id": "a97c5b2c",
   "metadata": {
    "scrolled": false
   },
   "outputs": [
    {
     "data": {
      "text/plain": [
       "[<matplotlib.lines.Line2D at 0x7f905760e1f0>]"
      ]
     },
     "execution_count": 19,
     "metadata": {},
     "output_type": "execute_result"
    },
    {
     "data": {
      "image/png": "[encoded data removed]",
      "text/plain": [
       "<Figure size 432x288 with 1 Axes>"
      ]
     },
     "metadata": {
      "needs_background": "light"
     },
     "output_type": "display_data"
    },
    {
     "data": {
      "image/png": "[encoded data removed]",
      "text/plain": [
       "<Figure size 432x288 with 1 Axes>"
      ]
     },
     "metadata": {
      "needs_background": "light"
     },
     "output_type": "display_data"
    }
   ],
   "source": [
    "plt.figure()\n",
    "plt.plot(train_sp[0])\n",
    "plt.figure()\n",
    "plt.plot(val_sp[0])"
   ]
  },
  {
   "cell_type": "markdown",
   "id": "b9c68101",
   "metadata": {},
   "source": [
    "# DNN建模分析"
   ]
  },
  {
   "cell_type": "code",
   "execution_count": 17,
   "id": "0bb21c03",
   "metadata": {},
   "outputs": [
    {
     "ename": "ModuleNotFoundError",
     "evalue": "No module named 'tqdm'",
     "output_type": "error",
     "traceback": [
      "\u001b[0;31m---------------------------------------\u001b[0m",
      "\u001b[0;31mModuleNotFoundError\u001b[0mTraceback (most recent call last)",
      "\u001b[0;32m<ipython-input-17-b767689ec8db>\u001b[0m in \u001b[0;36m<module>\u001b[0;34m\u001b[0m\n\u001b[1;32m      1\u001b[0m \u001b[0;31m# dnn模型构建\u001b[0m\u001b[0;34m\u001b[0m\u001b[0;34m\u001b[0m\u001b[0;34m\u001b[0m\u001b[0m\n\u001b[0;32m----> 2\u001b[0;31m \u001b[0;32mfrom\u001b[0m \u001b[0mtqdm\u001b[0m \u001b[0;32mimport\u001b[0m \u001b[0mtqdm\u001b[0m\u001b[0;34m\u001b[0m\u001b[0;34m\u001b[0m\u001b[0m\n\u001b[0m\u001b[1;32m      3\u001b[0m \u001b[0;32mimport\u001b[0m \u001b[0mos\u001b[0m\u001b[0;34m\u001b[0m\u001b[0;34m\u001b[0m\u001b[0m\n\u001b[1;32m      4\u001b[0m \u001b[0;32mimport\u001b[0m \u001b[0mtorch\u001b[0m\u001b[0;34m\u001b[0m\u001b[0;34m\u001b[0m\u001b[0m\n\u001b[1;32m      5\u001b[0m \u001b[0;32mimport\u001b[0m \u001b[0mtorch\u001b[0m\u001b[0;34m.\u001b[0m\u001b[0mnn\u001b[0m \u001b[0;32mas\u001b[0m \u001b[0mnn\u001b[0m\u001b[0;34m\u001b[0m\u001b[0;34m\u001b[0m\u001b[0m\n",
      "\u001b[0;31mModuleNotFoundError\u001b[0m: No module named 'tqdm'"
     ]
    }
   ],
   "source": [
    "# dnn模型构建\n",
    "from tqdm import tqdm\n",
    "import os\n",
    "import torch\n",
    "import torch.nn as nn\n",
    "import torch.optim as optim\n",
    "from torch.utils.data import TensorDataset, DataLoader, Dataset\n",
    "import torch.nn.functional as F\n",
    "import random"
   ]
  },
  {
   "cell_type": "code",
   "execution_count": null,
   "id": "bb9b5e0c",
   "metadata": {},
   "outputs": [],
   "source": [
    "# 固定随机数种子，确保实验的可重复性\n",
    "def set_seed(seed=42):\n",
    "    random.seed(seed)\n",
    "    np.random.seed(seed)\n",
    "    torch.manual_seed(seed)\n",
    "    torch.cuda.manual_seed_all(seed)\n",
    "    torch.backends.cudnn.deterministic = True\n",
    "\n",
    "set_seed(42)"
   ]
  },
  {
   "cell_type": "code",
   "execution_count": null,
   "id": "5805c6b1",
   "metadata": {},
   "outputs": [],
   "source": [
    "# 搭建DNN模型\n",
    "class DNN(nn.Module):\n",
    "    def __init__(self):\n",
    "        super().__init__()\n",
    "        self.dnn = nn.Sequential(\n",
    "            nn.BatchNorm1d(3000),\n",
    "            nn.Linear(3000, 512),\n",
    "            nn.BatchNorm1d(512),\n",
    "            nn.ReLU(),\n",
    "            nn.Dropout(p=0.2),\n",
    "            nn.Linear(512,256),\n",
    "            nn.BatchNorm1d(256),\n",
    "            nn.ReLU(),\n",
    "            nn.Dropout(p=0.2),\n",
    "            nn.Linear(256, 10),\n",
    "        )\n",
    "    def forward(self, x):\n",
    "        x = self.dnn(x)\n",
    "        return F.softmax(x, dim=1)"
   ]
  },
  {
   "cell_type": "code",
   "execution_count": 21,
   "id": "c2130834",
   "metadata": {},
   "outputs": [
    {
     "name": "stdout",
     "output_type": "stream",
     "text": [
      "4257\n",
      "10081\n",
      "4270\n",
      "17187\n",
      "4746\n",
      "6337\n",
      "10298\n",
      "3694\n",
      "5058\n",
      "4281\n"
     ]
    }
   ],
   "source": [
    "for i in Counter(train_label).values():\n",
    "    print(i)"
   ]
  },
  {
   "cell_type": "code",
   "execution_count": 22,
   "id": "a8a2ef56",
   "metadata": {},
   "outputs": [],
   "source": [
    "# 将数据转换成pytorch的tensor\n",
    "batch_size = 128\n",
    "\n",
    "train_tensor = torch.tensor(train_sp).float()\n",
    "y_train_tensor = torch.tensor(train_label).long()\n",
    "val_tensor = torch.tensor(val_sp).float()\n",
    "y_val_tensor = torch.tensor(val_label).long()\n",
    "\n",
    "# 使用Dataloader对数据进行封装\n",
    "train_tensor = TensorDataset(train_tensor, y_train_tensor)\n",
    "val_tensor = TensorDataset(val_tensor, y_val_tensor)\n",
    "\n",
    "\n",
    "train_loader = DataLoader(train_tensor, shuffle=True, batch_size=batch_size, drop_last=True)\n",
    "val_loader = DataLoader(val_tensor, shuffle=False, batch_size=batch_size)"
   ]
  },
  {
   "cell_type": "code",
   "execution_count": 64,
   "id": "d9d159a7",
   "metadata": {},
   "outputs": [],
   "source": [
    "lr = 0.0001\n",
    "gamma = 1\n",
    "step_size = 5\n",
    "EPOCH = 80\n",
    "\n",
    "model = DNN().cuda()\n",
    "optimizer = optim.Adam(model.parameters(), lr=lr)\n",
    "lf = nn.CrossEntropyLoss()\n",
    "scheduler = optim.lr_scheduler.StepLR(optimizer, step_size=step_size, gamma=gamma)"
   ]
  },
  {
   "cell_type": "code",
   "execution_count": 65,
   "id": "fe20f01b",
   "metadata": {
    "scrolled": true
   },
   "outputs": [
    {
     "name": "stdout",
     "output_type": "stream",
     "text": [
      "DNN(\n",
      "  (dnn): Sequential(\n",
      "    (0): BatchNorm1d(3000, eps=1e-05, momentum=0.1, affine=True, track_running_stats=True)\n",
      "    (1): Linear(in_features=3000, out_features=512, bias=True)\n",
      "    (2): BatchNorm1d(512, eps=1e-05, momentum=0.1, affine=True, track_running_stats=True)\n",
      "    (3): ReLU()\n",
      "    (4): Dropout(p=0.2, inplace=False)\n",
      "    (5): Linear(in_features=512, out_features=256, bias=True)\n",
      "    (6): BatchNorm1d(256, eps=1e-05, momentum=0.1, affine=True, track_running_stats=True)\n",
      "    (7): ReLU()\n",
      "    (8): Dropout(p=0.2, inplace=False)\n",
      "    (9): Linear(in_features=256, out_features=10, bias=True)\n",
      "  )\n",
      ")\n"
     ]
    }
   ],
   "source": [
    "print(model)"
   ]
  },
  {
   "cell_type": "code",
   "execution_count": 66,
   "id": "18756b8c",
   "metadata": {
    "scrolled": true
   },
   "outputs": [
    {
     "name": "stderr",
     "output_type": "stream",
     "text": [
      "100%|██████████| 548/548 [00:03<00:00, 151.59it/s]\n",
      "100%|██████████| 183/183 [00:00<00:00, 383.17it/s]\n",
      "  3%|▎         | 15/548 [00:00<00:03, 141.27it/s]"
     ]
    },
    {
     "name": "stdout",
     "output_type": "stream",
     "text": [
      "epoch: 0 loss:1.810878 train_acc:0.549317\n",
      "val_acc:0.493911\n"
     ]
    },
    {
     "name": "stderr",
     "output_type": "stream",
     "text": [
      "100%|██████████| 548/548 [00:03<00:00, 160.79it/s]\n",
      "100%|██████████| 183/183 [00:00<00:00, 447.25it/s]\n",
      "  2%|▏         | 12/548 [00:00<00:04, 114.37it/s]"
     ]
    },
    {
     "name": "stdout",
     "output_type": "stream",
     "text": [
      "epoch: 1 loss:1.819555 train_acc:0.659901\n",
      "val_acc:0.498739\n"
     ]
    },
    {
     "name": "stderr",
     "output_type": "stream",
     "text": [
      "100%|██████████| 548/548 [00:04<00:00, 120.52it/s]\n",
      "100%|██████████| 183/183 [00:00<00:00, 436.95it/s]\n",
      "  3%|▎         | 16/548 [00:00<00:03, 152.51it/s]"
     ]
    },
    {
     "name": "stdout",
     "output_type": "stream",
     "text": [
      "epoch: 2 loss:1.798020 train_acc:0.694085\n",
      "val_acc:0.491347\n"
     ]
    },
    {
     "name": "stderr",
     "output_type": "stream",
     "text": [
      "100%|██████████| 548/548 [00:04<00:00, 123.23it/s]\n",
      "100%|██████████| 183/183 [00:00<00:00, 371.75it/s]\n",
      "  2%|▏         | 12/548 [00:00<00:04, 113.12it/s]"
     ]
    },
    {
     "name": "stdout",
     "output_type": "stream",
     "text": [
      "epoch: 3 loss:1.783508 train_acc:0.721218\n",
      "val_acc:0.481135\n"
     ]
    },
    {
     "name": "stderr",
     "output_type": "stream",
     "text": [
      "100%|██████████| 548/548 [00:04<00:00, 131.93it/s]\n",
      "100%|██████████| 183/183 [00:00<00:00, 441.58it/s]\n",
      "  3%|▎         | 16/548 [00:00<00:03, 151.38it/s]"
     ]
    },
    {
     "name": "stdout",
     "output_type": "stream",
     "text": [
      "epoch: 4 loss:1.759122 train_acc:0.739777\n",
      "val_acc:0.492202\n"
     ]
    },
    {
     "name": "stderr",
     "output_type": "stream",
     "text": [
      "100%|██████████| 548/548 [00:03<00:00, 161.97it/s]\n",
      "100%|██████████| 183/183 [00:00<00:00, 390.03it/s]\n",
      "  2%|▏         | 13/548 [00:00<00:04, 129.76it/s]"
     ]
    },
    {
     "name": "stdout",
     "output_type": "stream",
     "text": [
      "epoch: 5 loss:1.771167 train_acc:0.756698\n",
      "val_acc:0.479938\n"
     ]
    },
    {
     "name": "stderr",
     "output_type": "stream",
     "text": [
      "100%|██████████| 548/548 [00:03<00:00, 148.41it/s]\n",
      "100%|██████████| 183/183 [00:00<00:00, 456.52it/s]\n",
      "  3%|▎         | 15/548 [00:00<00:03, 148.55it/s]"
     ]
    },
    {
     "name": "stdout",
     "output_type": "stream",
     "text": [
      "epoch: 6 loss:1.662324 train_acc:0.776382\n",
      "val_acc:0.482630\n"
     ]
    },
    {
     "name": "stderr",
     "output_type": "stream",
     "text": [
      "100%|██████████| 548/548 [00:03<00:00, 161.89it/s]\n",
      "100%|██████████| 183/183 [00:00<00:00, 462.79it/s]\n",
      "  2%|▏         | 13/548 [00:00<00:04, 128.80it/s]"
     ]
    },
    {
     "name": "stdout",
     "output_type": "stream",
     "text": [
      "epoch: 7 loss:1.688476 train_acc:0.795681\n",
      "val_acc:0.494766\n"
     ]
    },
    {
     "name": "stderr",
     "output_type": "stream",
     "text": [
      "100%|██████████| 548/548 [00:03<00:00, 159.76it/s]\n",
      "100%|██████████| 183/183 [00:00<00:00, 390.90it/s]\n",
      "  3%|▎         | 14/548 [00:00<00:04, 133.14it/s]"
     ]
    },
    {
     "name": "stdout",
     "output_type": "stream",
     "text": [
      "epoch: 8 loss:1.691044 train_acc:0.805467\n",
      "val_acc:0.505106\n"
     ]
    },
    {
     "name": "stderr",
     "output_type": "stream",
     "text": [
      "100%|██████████| 548/548 [00:04<00:00, 135.71it/s]\n",
      "100%|██████████| 183/183 [00:00<00:00, 419.16it/s]\n",
      "  3%|▎         | 19/548 [00:00<00:02, 181.18it/s]"
     ]
    },
    {
     "name": "stdout",
     "output_type": "stream",
     "text": [
      "epoch: 9 loss:1.668591 train_acc:0.815280\n",
      "val_acc:0.487630\n"
     ]
    },
    {
     "name": "stderr",
     "output_type": "stream",
     "text": [
      "100%|██████████| 548/548 [00:03<00:00, 142.10it/s]\n",
      "100%|██████████| 183/183 [00:00<00:00, 441.98it/s]\n",
      "  3%|▎         | 18/548 [00:00<00:03, 172.26it/s]"
     ]
    },
    {
     "name": "stdout",
     "output_type": "stream",
     "text": [
      "epoch:10 loss:1.657607 train_acc:0.821120\n",
      "val_acc:0.504593\n"
     ]
    },
    {
     "name": "stderr",
     "output_type": "stream",
     "text": [
      "100%|██████████| 548/548 [00:03<00:00, 158.28it/s]\n",
      "100%|██████████| 183/183 [00:00<00:00, 378.27it/s]\n",
      "  2%|▏         | 13/548 [00:00<00:04, 125.89it/s]"
     ]
    },
    {
     "name": "stdout",
     "output_type": "stream",
     "text": [
      "epoch:11 loss:1.639763 train_acc:0.826960\n",
      "val_acc:0.500961\n"
     ]
    },
    {
     "name": "stderr",
     "output_type": "stream",
     "text": [
      "100%|██████████| 548/548 [00:04<00:00, 121.26it/s]\n",
      "100%|██████████| 183/183 [00:00<00:00, 458.04it/s]\n",
      "  3%|▎         | 16/548 [00:00<00:03, 157.07it/s]"
     ]
    },
    {
     "name": "stdout",
     "output_type": "stream",
     "text": [
      "epoch:12 loss:1.651890 train_acc:0.831674\n",
      "val_acc:0.496389\n"
     ]
    },
    {
     "name": "stderr",
     "output_type": "stream",
     "text": [
      "100%|██████████| 548/548 [00:04<00:00, 119.54it/s]\n",
      "100%|██████████| 183/183 [00:00<00:00, 375.85it/s]\n",
      "  3%|▎         | 15/548 [00:00<00:03, 140.53it/s]"
     ]
    },
    {
     "name": "stdout",
     "output_type": "stream",
     "text": [
      "epoch:13 loss:1.591116 train_acc:0.837272\n",
      "val_acc:0.488570\n"
     ]
    },
    {
     "name": "stderr",
     "output_type": "stream",
     "text": [
      "100%|██████████| 548/548 [00:03<00:00, 146.55it/s]\n",
      "100%|██████████| 183/183 [00:00<00:00, 420.26it/s]\n",
      "  3%|▎         | 16/548 [00:00<00:03, 154.01it/s]"
     ]
    },
    {
     "name": "stdout",
     "output_type": "stream",
     "text": [
      "epoch:14 loss:1.632923 train_acc:0.842456\n",
      "val_acc:0.507627\n"
     ]
    },
    {
     "name": "stderr",
     "output_type": "stream",
     "text": [
      "100%|██████████| 548/548 [00:03<00:00, 151.82it/s]\n",
      "100%|██████████| 183/183 [00:00<00:00, 412.69it/s]\n",
      "  3%|▎         | 14/548 [00:00<00:03, 137.07it/s]"
     ]
    },
    {
     "name": "stdout",
     "output_type": "stream",
     "text": [
      "epoch:15 loss:1.628713 train_acc:0.844934\n",
      "val_acc:0.501218\n"
     ]
    },
    {
     "name": "stderr",
     "output_type": "stream",
     "text": [
      "100%|██████████| 548/548 [00:03<00:00, 139.86it/s]\n",
      "100%|██████████| 183/183 [00:00<00:00, 463.28it/s]\n",
      "  3%|▎         | 16/548 [00:00<00:03, 152.65it/s]"
     ]
    },
    {
     "name": "stdout",
     "output_type": "stream",
     "text": [
      "epoch:16 loss:1.618376 train_acc:0.848780\n",
      "val_acc:0.491817\n"
     ]
    },
    {
     "name": "stderr",
     "output_type": "stream",
     "text": [
      " 49%|████▊     | 267/548 [00:01<00:01, 163.87it/s]\n"
     ]
    },
    {
     "ename": "KeyboardInterrupt",
     "evalue": "",
     "output_type": "error",
     "traceback": [
      "\u001b[0;31m--------------------------------------------------------------------------\u001b[0m",
      "\u001b[0;31mKeyboardInterrupt\u001b[0m                        Traceback (most recent call last)",
      "\u001b[0;32m<ipython-input-66-2284e356782a>\u001b[0m in \u001b[0;36m<module>\u001b[0;34m\u001b[0m\n\u001b[1;32m      8\u001b[0m         \u001b[0mlabel\u001b[0m \u001b[0;34m=\u001b[0m \u001b[0mlabel\u001b[0m\u001b[0;34m.\u001b[0m\u001b[0mcuda\u001b[0m\u001b[0;34m(\u001b[0m\u001b[0;34m)\u001b[0m\u001b[0;34m\u001b[0m\u001b[0;34m\u001b[0m\u001b[0m\n\u001b[1;32m      9\u001b[0m         \u001b[0moptimizer\u001b[0m\u001b[0;34m.\u001b[0m\u001b[0mzero_grad\u001b[0m\u001b[0;34m(\u001b[0m\u001b[0;34m)\u001b[0m\u001b[0;34m\u001b[0m\u001b[0;34m\u001b[0m\u001b[0m\n\u001b[0;32m---> 10\u001b[0;31m         \u001b[0mpreds\u001b[0m \u001b[0;34m=\u001b[0m \u001b[0mmodel\u001b[0m\u001b[0;34m(\u001b[0m\u001b[0mfeature\u001b[0m\u001b[0;34m)\u001b[0m\u001b[0;34m\u001b[0m\u001b[0;34m\u001b[0m\u001b[0m\n\u001b[0m\u001b[1;32m     11\u001b[0m         \u001b[0mloss\u001b[0m \u001b[0;34m=\u001b[0m \u001b[0mlf\u001b[0m\u001b[0;34m(\u001b[0m\u001b[0mpreds\u001b[0m\u001b[0;34m,\u001b[0m \u001b[0mlabel\u001b[0m\u001b[0;34m)\u001b[0m\u001b[0;34m\u001b[0m\u001b[0;34m\u001b[0m\u001b[0m\n\u001b[1;32m     12\u001b[0m         \u001b[0mloss\u001b[0m\u001b[0;34m.\u001b[0m\u001b[0mbackward\u001b[0m\u001b[0;34m(\u001b[0m\u001b[0;34m)\u001b[0m\u001b[0;34m\u001b[0m\u001b[0;34m\u001b[0m\u001b[0m\n",
      "\u001b[0;32m~/miniconda3/envs/asr/lib/python3.8/site-packages/torch/nn/modules/module.py\u001b[0m in \u001b[0;36m_call_impl\u001b[0;34m(self, *input, **kwargs)\u001b[0m\n\u001b[1;32m    887\u001b[0m             \u001b[0mresult\u001b[0m \u001b[0;34m=\u001b[0m \u001b[0mself\u001b[0m\u001b[0;34m.\u001b[0m\u001b[0m_slow_forward\u001b[0m\u001b[0;34m(\u001b[0m\u001b[0;34m*\u001b[0m\u001b[0minput\u001b[0m\u001b[0;34m,\u001b[0m \u001b[0;34m**\u001b[0m\u001b[0mkwargs\u001b[0m\u001b[0;34m)\u001b[0m\u001b[0;34m\u001b[0m\u001b[0;34m\u001b[0m\u001b[0m\n\u001b[1;32m    888\u001b[0m         \u001b[0;32melse\u001b[0m\u001b[0;34m:\u001b[0m\u001b[0;34m\u001b[0m\u001b[0;34m\u001b[0m\u001b[0m\n\u001b[0;32m--> 889\u001b[0;31m             \u001b[0mresult\u001b[0m \u001b[0;34m=\u001b[0m \u001b[0mself\u001b[0m\u001b[0;34m.\u001b[0m\u001b[0mforward\u001b[0m\u001b[0;34m(\u001b[0m\u001b[0;34m*\u001b[0m\u001b[0minput\u001b[0m\u001b[0;34m,\u001b[0m \u001b[0;34m**\u001b[0m\u001b[0mkwargs\u001b[0m\u001b[0;34m)\u001b[0m\u001b[0;34m\u001b[0m\u001b[0;34m\u001b[0m\u001b[0m\n\u001b[0m\u001b[1;32m    890\u001b[0m         for hook in itertools.chain(\n\u001b[1;32m    891\u001b[0m                 \u001b[0m_global_forward_hooks\u001b[0m\u001b[0;34m.\u001b[0m\u001b[0mvalues\u001b[0m\u001b[0;34m(\u001b[0m\u001b[0;34m)\u001b[0m\u001b[0;34m,\u001b[0m\u001b[0;34m\u001b[0m\u001b[0;34m\u001b[0m\u001b[0m\n",
      "\u001b[0;32m<ipython-input-61-b61a1ca9bc38>\u001b[0m in \u001b[0;36mforward\u001b[0;34m(self, x)\u001b[0m\n\u001b[1;32m     16\u001b[0m         )\n\u001b[1;32m     17\u001b[0m     \u001b[0;32mdef\u001b[0m \u001b[0mforward\u001b[0m\u001b[0;34m(\u001b[0m\u001b[0mself\u001b[0m\u001b[0;34m,\u001b[0m \u001b[0mx\u001b[0m\u001b[0;34m)\u001b[0m\u001b[0;34m:\u001b[0m\u001b[0;34m\u001b[0m\u001b[0;34m\u001b[0m\u001b[0m\n\u001b[0;32m---> 18\u001b[0;31m         \u001b[0mx\u001b[0m \u001b[0;34m=\u001b[0m \u001b[0mself\u001b[0m\u001b[0;34m.\u001b[0m\u001b[0mdnn\u001b[0m\u001b[0;34m(\u001b[0m\u001b[0mx\u001b[0m\u001b[0;34m)\u001b[0m\u001b[0;34m\u001b[0m\u001b[0;34m\u001b[0m\u001b[0m\n\u001b[0m\u001b[1;32m     19\u001b[0m         \u001b[0;32mreturn\u001b[0m \u001b[0mF\u001b[0m\u001b[0;34m.\u001b[0m\u001b[0msoftmax\u001b[0m\u001b[0;34m(\u001b[0m\u001b[0mx\u001b[0m\u001b[0;34m,\u001b[0m \u001b[0mdim\u001b[0m\u001b[0;34m=\u001b[0m\u001b[0;36m1\u001b[0m\u001b[0;34m)\u001b[0m\u001b[0;34m\u001b[0m\u001b[0;34m\u001b[0m\u001b[0m\n",
      "\u001b[0;32m~/miniconda3/envs/asr/lib/python3.8/site-packages/torch/nn/modules/module.py\u001b[0m in \u001b[0;36m_call_impl\u001b[0;34m(self, *input, **kwargs)\u001b[0m\n\u001b[1;32m    887\u001b[0m             \u001b[0mresult\u001b[0m \u001b[0;34m=\u001b[0m \u001b[0mself\u001b[0m\u001b[0;34m.\u001b[0m\u001b[0m_slow_forward\u001b[0m\u001b[0;34m(\u001b[0m\u001b[0;34m*\u001b[0m\u001b[0minput\u001b[0m\u001b[0;34m,\u001b[0m \u001b[0;34m**\u001b[0m\u001b[0mkwargs\u001b[0m\u001b[0;34m)\u001b[0m\u001b[0;34m\u001b[0m\u001b[0;34m\u001b[0m\u001b[0m\n\u001b[1;32m    888\u001b[0m         \u001b[0;32melse\u001b[0m\u001b[0;34m:\u001b[0m\u001b[0;34m\u001b[0m\u001b[0;34m\u001b[0m\u001b[0m\n\u001b[0;32m--> 889\u001b[0;31m             \u001b[0mresult\u001b[0m \u001b[0;34m=\u001b[0m \u001b[0mself\u001b[0m\u001b[0;34m.\u001b[0m\u001b[0mforward\u001b[0m\u001b[0;34m(\u001b[0m\u001b[0;34m*\u001b[0m\u001b[0minput\u001b[0m\u001b[0;34m,\u001b[0m \u001b[0;34m**\u001b[0m\u001b[0mkwargs\u001b[0m\u001b[0;34m)\u001b[0m\u001b[0;34m\u001b[0m\u001b[0;34m\u001b[0m\u001b[0m\n\u001b[0m\u001b[1;32m    890\u001b[0m         for hook in itertools.chain(\n\u001b[1;32m    891\u001b[0m                 \u001b[0m_global_forward_hooks\u001b[0m\u001b[0;34m.\u001b[0m\u001b[0mvalues\u001b[0m\u001b[0;34m(\u001b[0m\u001b[0;34m)\u001b[0m\u001b[0;34m,\u001b[0m\u001b[0;34m\u001b[0m\u001b[0;34m\u001b[0m\u001b[0m\n",
      "\u001b[0;32m~/miniconda3/envs/asr/lib/python3.8/site-packages/torch/nn/modules/container.py\u001b[0m in \u001b[0;36mforward\u001b[0;34m(self, input)\u001b[0m\n\u001b[1;32m    117\u001b[0m     \u001b[0;32mdef\u001b[0m \u001b[0mforward\u001b[0m\u001b[0;34m(\u001b[0m\u001b[0mself\u001b[0m\u001b[0;34m,\u001b[0m \u001b[0minput\u001b[0m\u001b[0;34m)\u001b[0m\u001b[0;34m:\u001b[0m\u001b[0;34m\u001b[0m\u001b[0;34m\u001b[0m\u001b[0m\n\u001b[1;32m    118\u001b[0m         \u001b[0;32mfor\u001b[0m \u001b[0mmodule\u001b[0m \u001b[0;32min\u001b[0m \u001b[0mself\u001b[0m\u001b[0;34m:\u001b[0m\u001b[0;34m\u001b[0m\u001b[0;34m\u001b[0m\u001b[0m\n\u001b[0;32m--> 119\u001b[0;31m             \u001b[0minput\u001b[0m \u001b[0;34m=\u001b[0m \u001b[0mmodule\u001b[0m\u001b[0;34m(\u001b[0m\u001b[0minput\u001b[0m\u001b[0;34m)\u001b[0m\u001b[0;34m\u001b[0m\u001b[0;34m\u001b[0m\u001b[0m\n\u001b[0m\u001b[1;32m    120\u001b[0m         \u001b[0;32mreturn\u001b[0m \u001b[0minput\u001b[0m\u001b[0;34m\u001b[0m\u001b[0;34m\u001b[0m\u001b[0m\n\u001b[1;32m    121\u001b[0m \u001b[0;34m\u001b[0m\u001b[0m\n",
      "\u001b[0;32m~/miniconda3/envs/asr/lib/python3.8/site-packages/torch/nn/modules/module.py\u001b[0m in \u001b[0;36m_call_impl\u001b[0;34m(self, *input, **kwargs)\u001b[0m\n\u001b[1;32m    887\u001b[0m             \u001b[0mresult\u001b[0m \u001b[0;34m=\u001b[0m \u001b[0mself\u001b[0m\u001b[0;34m.\u001b[0m\u001b[0m_slow_forward\u001b[0m\u001b[0;34m(\u001b[0m\u001b[0;34m*\u001b[0m\u001b[0minput\u001b[0m\u001b[0;34m,\u001b[0m \u001b[0;34m**\u001b[0m\u001b[0mkwargs\u001b[0m\u001b[0;34m)\u001b[0m\u001b[0;34m\u001b[0m\u001b[0;34m\u001b[0m\u001b[0m\n\u001b[1;32m    888\u001b[0m         \u001b[0;32melse\u001b[0m\u001b[0;34m:\u001b[0m\u001b[0;34m\u001b[0m\u001b[0;34m\u001b[0m\u001b[0m\n\u001b[0;32m--> 889\u001b[0;31m             \u001b[0mresult\u001b[0m \u001b[0;34m=\u001b[0m \u001b[0mself\u001b[0m\u001b[0;34m.\u001b[0m\u001b[0mforward\u001b[0m\u001b[0;34m(\u001b[0m\u001b[0;34m*\u001b[0m\u001b[0minput\u001b[0m\u001b[0;34m,\u001b[0m \u001b[0;34m**\u001b[0m\u001b[0mkwargs\u001b[0m\u001b[0;34m)\u001b[0m\u001b[0;34m\u001b[0m\u001b[0;34m\u001b[0m\u001b[0m\n\u001b[0m\u001b[1;32m    890\u001b[0m         for hook in itertools.chain(\n\u001b[1;32m    891\u001b[0m                 \u001b[0m_global_forward_hooks\u001b[0m\u001b[0;34m.\u001b[0m\u001b[0mvalues\u001b[0m\u001b[0;34m(\u001b[0m\u001b[0;34m)\u001b[0m\u001b[0;34m,\u001b[0m\u001b[0;34m\u001b[0m\u001b[0;34m\u001b[0m\u001b[0m\n",
      "\u001b[0;32m~/miniconda3/envs/asr/lib/python3.8/site-packages/torch/nn/modules/linear.py\u001b[0m in \u001b[0;36mforward\u001b[0;34m(self, input)\u001b[0m\n\u001b[1;32m     92\u001b[0m \u001b[0;34m\u001b[0m\u001b[0m\n\u001b[1;32m     93\u001b[0m     \u001b[0;32mdef\u001b[0m \u001b[0mforward\u001b[0m\u001b[0;34m(\u001b[0m\u001b[0mself\u001b[0m\u001b[0;34m,\u001b[0m \u001b[0minput\u001b[0m\u001b[0;34m:\u001b[0m \u001b[0mTensor\u001b[0m\u001b[0;34m)\u001b[0m \u001b[0;34m->\u001b[0m \u001b[0mTensor\u001b[0m\u001b[0;34m:\u001b[0m\u001b[0;34m\u001b[0m\u001b[0;34m\u001b[0m\u001b[0m\n\u001b[0;32m---> 94\u001b[0;31m         \u001b[0;32mreturn\u001b[0m \u001b[0mF\u001b[0m\u001b[0;34m.\u001b[0m\u001b[0mlinear\u001b[0m\u001b[0;34m(\u001b[0m\u001b[0minput\u001b[0m\u001b[0;34m,\u001b[0m \u001b[0mself\u001b[0m\u001b[0;34m.\u001b[0m\u001b[0mweight\u001b[0m\u001b[0;34m,\u001b[0m \u001b[0mself\u001b[0m\u001b[0;34m.\u001b[0m\u001b[0mbias\u001b[0m\u001b[0;34m)\u001b[0m\u001b[0;34m\u001b[0m\u001b[0;34m\u001b[0m\u001b[0m\n\u001b[0m\u001b[1;32m     95\u001b[0m \u001b[0;34m\u001b[0m\u001b[0m\n\u001b[1;32m     96\u001b[0m     \u001b[0;32mdef\u001b[0m \u001b[0mextra_repr\u001b[0m\u001b[0;34m(\u001b[0m\u001b[0mself\u001b[0m\u001b[0;34m)\u001b[0m \u001b[0;34m->\u001b[0m \u001b[0mstr\u001b[0m\u001b[0;34m:\u001b[0m\u001b[0;34m\u001b[0m\u001b[0;34m\u001b[0m\u001b[0m\n",
      "\u001b[0;32m~/miniconda3/envs/asr/lib/python3.8/site-packages/torch/nn/functional.py\u001b[0m in \u001b[0;36mlinear\u001b[0;34m(input, weight, bias)\u001b[0m\n\u001b[1;32m   1751\u001b[0m     \u001b[0;32mif\u001b[0m \u001b[0mhas_torch_function_variadic\u001b[0m\u001b[0;34m(\u001b[0m\u001b[0minput\u001b[0m\u001b[0;34m,\u001b[0m \u001b[0mweight\u001b[0m\u001b[0;34m)\u001b[0m\u001b[0;34m:\u001b[0m\u001b[0;34m\u001b[0m\u001b[0;34m\u001b[0m\u001b[0m\n\u001b[1;32m   1752\u001b[0m         \u001b[0;32mreturn\u001b[0m \u001b[0mhandle_torch_function\u001b[0m\u001b[0;34m(\u001b[0m\u001b[0mlinear\u001b[0m\u001b[0;34m,\u001b[0m \u001b[0;34m(\u001b[0m\u001b[0minput\u001b[0m\u001b[0;34m,\u001b[0m \u001b[0mweight\u001b[0m\u001b[0;34m)\u001b[0m\u001b[0;34m,\u001b[0m \u001b[0minput\u001b[0m\u001b[0;34m,\u001b[0m \u001b[0mweight\u001b[0m\u001b[0;34m,\u001b[0m \u001b[0mbias\u001b[0m\u001b[0;34m=\u001b[0m\u001b[0mbias\u001b[0m\u001b[0;34m)\u001b[0m\u001b[0;34m\u001b[0m\u001b[0;34m\u001b[0m\u001b[0m\n\u001b[0;32m-> 1753\u001b[0;31m     \u001b[0;32mreturn\u001b[0m \u001b[0mtorch\u001b[0m\u001b[0;34m.\u001b[0m\u001b[0m_C\u001b[0m\u001b[0;34m.\u001b[0m\u001b[0m_nn\u001b[0m\u001b[0;34m.\u001b[0m\u001b[0mlinear\u001b[0m\u001b[0;34m(\u001b[0m\u001b[0minput\u001b[0m\u001b[0;34m,\u001b[0m \u001b[0mweight\u001b[0m\u001b[0;34m,\u001b[0m \u001b[0mbias\u001b[0m\u001b[0;34m)\u001b[0m\u001b[0;34m\u001b[0m\u001b[0;34m\u001b[0m\u001b[0m\n\u001b[0m\u001b[1;32m   1754\u001b[0m \u001b[0;34m\u001b[0m\u001b[0m\n\u001b[1;32m   1755\u001b[0m \u001b[0;34m\u001b[0m\u001b[0m\n",
      "\u001b[0;31mKeyboardInterrupt\u001b[0m: "
     ]
    }
   ],
   "source": [
    "train_best = 1000\n",
    "for epoch in range(EPOCH):\n",
    "    model.train()\n",
    "    train_total_acc = 0\n",
    "    \n",
    "    for feature, label in tqdm(train_loader):\n",
    "        feature = feature.cuda()\n",
    "        label = label.cuda()\n",
    "        optimizer.zero_grad()\n",
    "        preds = model(feature)\n",
    "        loss = lf(preds, label)\n",
    "        loss.backward()\n",
    "        optimizer.step()\n",
    "        \n",
    "        train_total_acc += model(feature).argmax(dim=1).eq(label).sum().item()\n",
    "        \n",
    "        feature.cpu()\n",
    "        label.cpu()\n",
    "    \n",
    "    model.eval()\n",
    "    with torch.no_grad():\n",
    "        val_total_acc = 0\n",
    "        for feature, label in tqdm(val_loader):\n",
    "            feature = feature.cuda()\n",
    "            label = label.cuda()\n",
    "            val_total_acc += model(feature).argmax(dim=1).eq(label).sum().item()\n",
    "            \n",
    "            feature.cpu()\n",
    "            label.cpu()\n",
    "    \n",
    "    scheduler.step()\n",
    "    print(f'epoch:{epoch:2} loss:{loss:4f} train_acc:{train_total_acc/len(train_label):4f}')\n",
    "    print('val_acc:{:4f}'.format(val_total_acc/len(val_label)))\n",
    "    \n",
    "    # 保存最佳的训练模型\n",
    "    if loss <= train_best:\n",
    "        train_best = loss\n",
    "        torch.save(model.state_dict(), './model.point')"
   ]
  },
  {
   "cell_type": "code",
   "execution_count": 18,
   "id": "26737f7d",
   "metadata": {},
   "outputs": [
    {
     "data": {
      "text/plain": [
       "tensor(0.3997)"
      ]
     },
     "execution_count": 18,
     "metadata": {},
     "output_type": "execute_result"
    }
   ],
   "source": [
    "model(torch.tensor(val).float().cuda()).cpu().argmax(dim=1).eq(torch.tensor(val_label)).sum()/len(val_label)"
   ]
  },
  {
   "cell_type": "markdown",
   "id": "5bada4e8",
   "metadata": {},
   "source": [
    "# Xgboost模型"
   ]
  },
  {
   "cell_type": "code",
   "execution_count": 2,
   "id": "e69dd29e",
   "metadata": {},
   "outputs": [],
   "source": [
    "import xgboost as xgb\n",
    "# https://github.com/dmlc/xgboost/tree/master/demo\n",
    "# https://github.com/dmlc/xgboost/blob/master/demo/gpu_acceleration/cover_type.py\n",
    "# https://github.com/dmlc/xgboost/blob/master/demo/multiclass_classification/train.py"
   ]
  },
  {
   "cell_type": "code",
   "execution_count": 20,
   "id": "e9793cf3",
   "metadata": {},
   "outputs": [],
   "source": [
    "xg_train = xgb.DMatrix(train_sp, label=train_label)\n",
    "xg_val = xgb.DMatrix(val_sp, label=val_label)\n",
    "xg_test = xgb.DMatrix(test_sp)"
   ]
  },
  {
   "cell_type": "code",
   "execution_count": 27,
   "id": "79348cab",
   "metadata": {},
   "outputs": [],
   "source": [
    "# setup parameters for xgboost\n",
    "param = {}\n",
    "# use softmax multi-class classification\n",
    "param['objective'] = 'multi:softmax'\n",
    "# scale weight of positive examples\n",
    "param['eta'] = 0.1\n",
    "param['max_depth'] = 6\n",
    "param['nthread'] = -1\n",
    "param['num_class'] = 10\n",
    "param['tree_method']: 'gpu_hist'\n",
    "param['eval_metric'] = 'mlogloss'\n",
    "#watchlist = [(xg_train, 'train'), (xg_test, 'test')]\n",
    "num_round = 15"
   ]
  },
  {
   "cell_type": "code",
   "execution_count": 28,
   "id": "45879f11",
   "metadata": {
    "scrolled": false
   },
   "outputs": [
    {
     "name": "stdout",
     "output_type": "stream",
     "text": [
      "Test acc using softmax = 0.44135367260607616\n"
     ]
    }
   ],
   "source": [
    "bst = xgb.train(param, xg_train, num_round)\n",
    "# get prediction\n",
    "pred = bst.predict(xg_val)\n",
    "acc_rate = np.sum(pred == val_label) / val_label.shape[0]\n",
    "print('Test acc using softmax = {}'.format(acc_rate))"
   ]
  },
  {
   "cell_type": "code",
   "execution_count": null,
   "id": "07d3e537",
   "metadata": {},
   "outputs": [],
   "source": [
    "ans = model.predict(x_test)\n",
    "np.save(ans, 'xgboost_preds.npy')"
   ]
  },
  {
   "cell_type": "markdown",
   "id": "2b0618c5",
   "metadata": {},
   "source": [
    "# Catboost"
   ]
  },
  {
   "cell_type": "code",
   "execution_count": 20,
   "id": "44d9a9fc",
   "metadata": {},
   "outputs": [],
   "source": [
    "from catboost import Pool, CatBoostClassifier\n",
    "# 参考：https://github.com/catboost/catboost/blob/master/catboost/tutorials/classification/classification_tutorial.ipynb"
   ]
  },
  {
   "cell_type": "code",
   "execution_count": 42,
   "id": "c41057e9",
   "metadata": {},
   "outputs": [],
   "source": [
    "model = CatBoostClassifier(#loss_function=\"Logloss\",\n",
    "                           eval_metric=\"AUC\",\n",
    "                           task_type=\"GPU\",\n",
    "                           learning_rate=0.1,\n",
    "                           iterations=2000,\n",
    "                           l2_leaf_reg=50,\n",
    "                           random_seed=43,\n",
    "                           od_type=\"Iter\",\n",
    "                           depth=5,\n",
    "                           early_stopping_rounds=15000,\n",
    "                           border_count=64,\n",
    "                           loss_function='MultiClass',\n",
    "                           #has_time= True \n",
    "                          )"
   ]
  },
  {
   "cell_type": "code",
   "execution_count": 46,
   "id": "5dec7816",
   "metadata": {
    "scrolled": false
   },
   "outputs": [],
   "source": [
    "#model.fit(\n",
    "#    train_sp, train_label,\n",
    "#    #eval_set=(val_sp, val_label),\n",
    "#)"
   ]
  },
  {
   "cell_type": "code",
   "execution_count": 44,
   "id": "d1cd0c6d",
   "metadata": {},
   "outputs": [],
   "source": [
    "preds = model.predict(val_sp)"
   ]
  },
  {
   "cell_type": "code",
   "execution_count": 45,
   "id": "8712a350",
   "metadata": {},
   "outputs": [
    {
     "data": {
      "text/plain": [
       "0.484254155450156"
      ]
     },
     "execution_count": 45,
     "metadata": {},
     "output_type": "execute_result"
    }
   ],
   "source": [
    "(preds.flatten() == val_label).sum() / len(val_label)"
   ]
  },
  {
   "cell_type": "code",
   "execution_count": 27,
   "id": "31f1d917",
   "metadata": {},
   "outputs": [],
   "source": [
    "ans = model.predict(test_sp)"
   ]
  },
  {
   "cell_type": "code",
   "execution_count": 29,
   "id": "891715c0",
   "metadata": {},
   "outputs": [
    {
     "name": "stdout",
     "output_type": "stream",
     "text": [
      "[[1]\n",
      " [3]\n",
      " [9]\n",
      " ...\n",
      " [8]\n",
      " [3]\n",
      " [3]]\n"
     ]
    }
   ],
   "source": [
    "print(ans)"
   ]
  },
  {
   "cell_type": "markdown",
   "id": "b60a9854",
   "metadata": {},
   "source": [
    "# LSTM模型"
   ]
  },
  {
   "cell_type": "code",
   "execution_count": 44,
   "id": "75ef4eb8",
   "metadata": {},
   "outputs": [],
   "source": [
    "import torch\n",
    "import torch.nn as nn\n",
    "import torchvision\n",
    "from tqdm import tqdm\n",
    "import torch.optim as optim\n",
    "from torchvision import datasets, transforms\n",
    "from torch.utils.data import TensorDataset, DataLoader, Dataset"
   ]
  },
  {
   "cell_type": "code",
   "execution_count": 45,
   "id": "c78f3661",
   "metadata": {},
   "outputs": [],
   "source": [
    "batch_size = 128\n",
    "\n",
    "train_tensor = torch.tensor(train_sp).float()\n",
    "y_train_tensor = torch.tensor(train_label).long()\n",
    "val_tensor = torch.tensor(val_sp).float()\n",
    "y_val_tensor = torch.tensor(val_label).long()\n",
    "\n",
    "# 使用Dataloader对数据进行封装\n",
    "train_tensor = TensorDataset(train_tensor, y_train_tensor)\n",
    "val_tensor = TensorDataset(val_tensor, y_val_tensor)\n",
    "\n",
    "\n",
    "train_loader = DataLoader(train_tensor, shuffle=True, batch_size=batch_size, drop_last=True)\n",
    "val_loader = DataLoader(val_tensor, shuffle=False, batch_size=batch_size)"
   ]
  },
  {
   "cell_type": "code",
   "execution_count": 49,
   "id": "7286472c",
   "metadata": {},
   "outputs": [],
   "source": [
    "sequence_length = 1\n",
    "input_size = 3000\n",
    "hidden_size = 512\n",
    "num_layers = 2\n",
    "num_classes = 10\n",
    "batch_size = 100\n",
    "num_epochs = 30\n",
    "learning_rate = 0.01\n",
    "gamma = 0.9\n",
    "step_size=1\n",
    "device = torch.device('cuda' if torch.cuda.is_available() else 'cpu')"
   ]
  },
  {
   "cell_type": "code",
   "execution_count": 50,
   "id": "3b6e213d",
   "metadata": {},
   "outputs": [],
   "source": [
    "class RNN(nn.Module):\n",
    "    def __init__(self, input_size, hidden_size, num_layers, num_classes):\n",
    "        super(RNN, self).__init__()\n",
    "        self.hidden_size = hidden_size\n",
    "        self.num_layers = num_layers\n",
    "        # 官网默认的输入是seq_len, batch, input_size,这里将batch first=True放在第一个\n",
    "        # seq len 相当于一句话的长度， input size相当于每个单词的向量长度\n",
    "        self.lstm = nn.LSTM(input_size, hidden_size, num_layers, batch_first=True)\n",
    "        self.fc = nn.Linear(hidden_size, num_classes)\n",
    "\n",
    "    def forward(self, x):\n",
    "        # 初始化两个向量的值, 因为这里是两层的lstm\n",
    "        h0 = torch.zeros(self.num_layers, x.size(0), self.hidden_size).to(device)\n",
    "        c0 = torch.zeros(self.num_layers, x.size(0), self.hidden_size).to(device)\n",
    "\n",
    "        # 前向传播，这里只需要out即可\n",
    "        out, _ = self.lstm(x, (h0, c0))  # out: tensor of shape (batch_size, seq_length, hidden_size)\n",
    "\n",
    "        # 使用全连层进行分类\n",
    "        out = self.fc(out[:, -1, :])\n",
    "        return out"
   ]
  },
  {
   "cell_type": "code",
   "execution_count": 55,
   "id": "8f64eee8",
   "metadata": {},
   "outputs": [],
   "source": [
    "model = RNN(input_size, hidden_size, num_layers, num_classes).to(device)\n",
    "# Loss and optimizer\n",
    "criterion = nn.CrossEntropyLoss()\n",
    "optimizer = torch.optim.Adam(model.parameters(), lr=learning_rate)\n",
    "scheduler = optim.lr_scheduler.StepLR(optimizer, step_size=1, gamma=gamma) # 学习方式\n",
    "# Train the model\n",
    "total_step = len(train_loader)\n",
    "train_acc, val_acc = [], []"
   ]
  },
  {
   "cell_type": "code",
   "execution_count": 56,
   "id": "595fa7a8",
   "metadata": {},
   "outputs": [
    {
     "name": "stderr",
     "output_type": "stream",
     "text": [
      "100%|██████████| 548/548 [00:03<00:00, 138.72it/s]\n",
      "100%|██████████| 183/183 [00:00<00:00, 435.00it/s]\n",
      "  3%|▎         | 14/548 [00:00<00:03, 138.25it/s]"
     ]
    },
    {
     "name": "stdout",
     "output_type": "stream",
     "text": [
      "EPOCH: 0, train loss:1.5093, train acc:0.5071\n",
      "val acc:0.4722\n"
     ]
    },
    {
     "name": "stderr",
     "output_type": "stream",
     "text": [
      "100%|██████████| 548/548 [00:03<00:00, 141.26it/s]\n",
      "100%|██████████| 183/183 [00:00<00:00, 437.75it/s]\n",
      "  3%|▎         | 14/548 [00:00<00:03, 138.59it/s]"
     ]
    },
    {
     "name": "stdout",
     "output_type": "stream",
     "text": [
      "EPOCH: 1, train loss:0.9834, train acc:0.6626\n",
      "val acc:0.5351\n"
     ]
    },
    {
     "name": "stderr",
     "output_type": "stream",
     "text": [
      "100%|██████████| 548/548 [00:03<00:00, 141.93it/s]\n",
      "100%|██████████| 183/183 [00:00<00:00, 443.02it/s]\n",
      "  3%|▎         | 14/548 [00:00<00:03, 138.43it/s]"
     ]
    },
    {
     "name": "stdout",
     "output_type": "stream",
     "text": [
      "EPOCH: 2, train loss:0.8539, train acc:0.7011\n",
      "val acc:0.5221\n"
     ]
    },
    {
     "name": "stderr",
     "output_type": "stream",
     "text": [
      "100%|██████████| 548/548 [00:03<00:00, 141.91it/s]\n",
      "100%|██████████| 183/183 [00:00<00:00, 441.73it/s]\n",
      "  3%|▎         | 14/548 [00:00<00:03, 138.72it/s]"
     ]
    },
    {
     "name": "stdout",
     "output_type": "stream",
     "text": [
      "EPOCH: 3, train loss:0.7638, train acc:0.7316\n",
      "val acc:0.5341\n"
     ]
    },
    {
     "name": "stderr",
     "output_type": "stream",
     "text": [
      "100%|██████████| 548/548 [00:03<00:00, 141.14it/s]\n",
      "100%|██████████| 183/183 [00:00<00:00, 430.77it/s]\n",
      "  3%|▎         | 14/548 [00:00<00:03, 138.25it/s]"
     ]
    },
    {
     "name": "stdout",
     "output_type": "stream",
     "text": [
      "EPOCH: 4, train loss:0.7109, train acc:0.7504\n",
      "val acc:0.5175\n"
     ]
    },
    {
     "name": "stderr",
     "output_type": "stream",
     "text": [
      "100%|██████████| 548/548 [00:03<00:00, 147.25it/s]\n",
      "100%|██████████| 183/183 [00:00<00:00, 439.37it/s]\n",
      "  3%|▎         | 16/548 [00:00<00:03, 151.01it/s]"
     ]
    },
    {
     "name": "stdout",
     "output_type": "stream",
     "text": [
      "EPOCH: 5, train loss:0.6657, train acc:0.7653\n",
      "val acc:0.4767\n"
     ]
    },
    {
     "name": "stderr",
     "output_type": "stream",
     "text": [
      "100%|██████████| 548/548 [00:03<00:00, 152.65it/s]\n",
      "100%|██████████| 183/183 [00:00<00:00, 439.69it/s]\n",
      "  3%|▎         | 16/548 [00:00<00:03, 150.79it/s]"
     ]
    },
    {
     "name": "stdout",
     "output_type": "stream",
     "text": [
      "EPOCH: 6, train loss:0.6236, train acc:0.7812\n",
      "val acc:0.5093\n"
     ]
    },
    {
     "name": "stderr",
     "output_type": "stream",
     "text": [
      "100%|██████████| 548/548 [00:03<00:00, 152.88it/s]\n",
      "100%|██████████| 183/183 [00:00<00:00, 436.91it/s]\n",
      "  3%|▎         | 15/548 [00:00<00:03, 149.70it/s]"
     ]
    },
    {
     "name": "stdout",
     "output_type": "stream",
     "text": [
      "EPOCH: 7, train loss:0.5843, train acc:0.7948\n",
      "val acc:0.5088\n"
     ]
    },
    {
     "name": "stderr",
     "output_type": "stream",
     "text": [
      "100%|██████████| 548/548 [00:03<00:00, 152.97it/s]\n",
      "100%|██████████| 183/183 [00:00<00:00, 436.60it/s]\n",
      "  3%|▎         | 16/548 [00:00<00:03, 151.05it/s]"
     ]
    },
    {
     "name": "stdout",
     "output_type": "stream",
     "text": [
      "EPOCH: 8, train loss:0.5521, train acc:0.8059\n",
      "val acc:0.5222\n"
     ]
    },
    {
     "name": "stderr",
     "output_type": "stream",
     "text": [
      "100%|██████████| 548/548 [00:03<00:00, 152.82it/s]\n",
      "100%|██████████| 183/183 [00:00<00:00, 438.69it/s]\n",
      "  3%|▎         | 16/548 [00:00<00:03, 150.92it/s]"
     ]
    },
    {
     "name": "stdout",
     "output_type": "stream",
     "text": [
      "EPOCH: 9, train loss:0.5164, train acc:0.8188\n",
      "val acc:0.5004\n"
     ]
    },
    {
     "name": "stderr",
     "output_type": "stream",
     "text": [
      "100%|██████████| 548/548 [00:03<00:00, 152.84it/s]\n",
      "100%|██████████| 183/183 [00:00<00:00, 439.35it/s]\n",
      "  3%|▎         | 16/548 [00:00<00:03, 150.28it/s]"
     ]
    },
    {
     "name": "stdout",
     "output_type": "stream",
     "text": [
      "EPOCH:10, train loss:0.4945, train acc:0.8250\n",
      "val acc:0.5269\n"
     ]
    },
    {
     "name": "stderr",
     "output_type": "stream",
     "text": [
      "100%|██████████| 548/548 [00:03<00:00, 152.58it/s]\n",
      "100%|██████████| 183/183 [00:00<00:00, 436.51it/s]\n",
      "  3%|▎         | 16/548 [00:00<00:03, 150.95it/s]"
     ]
    },
    {
     "name": "stdout",
     "output_type": "stream",
     "text": [
      "EPOCH:11, train loss:0.4648, train acc:0.8353\n",
      "val acc:0.5279\n"
     ]
    },
    {
     "name": "stderr",
     "output_type": "stream",
     "text": [
      "100%|██████████| 548/548 [00:03<00:00, 152.65it/s]\n",
      "100%|██████████| 183/183 [00:00<00:00, 438.99it/s]\n",
      "  3%|▎         | 16/548 [00:00<00:03, 150.81it/s]"
     ]
    },
    {
     "name": "stdout",
     "output_type": "stream",
     "text": [
      "EPOCH:12, train loss:0.4454, train acc:0.8404\n",
      "val acc:0.5057\n"
     ]
    },
    {
     "name": "stderr",
     "output_type": "stream",
     "text": [
      "100%|██████████| 548/548 [00:03<00:00, 141.50it/s]\n",
      "100%|██████████| 183/183 [00:00<00:00, 437.59it/s]\n",
      "  3%|▎         | 14/548 [00:00<00:03, 137.99it/s]"
     ]
    },
    {
     "name": "stdout",
     "output_type": "stream",
     "text": [
      "EPOCH:13, train loss:0.4230, train acc:0.8497\n",
      "val acc:0.5101\n"
     ]
    },
    {
     "name": "stderr",
     "output_type": "stream",
     "text": [
      "100%|██████████| 548/548 [00:03<00:00, 139.70it/s]\n",
      "100%|██████████| 183/183 [00:00<00:00, 373.20it/s]\n",
      "  3%|▎         | 14/548 [00:00<00:03, 134.62it/s]"
     ]
    },
    {
     "name": "stdout",
     "output_type": "stream",
     "text": [
      "EPOCH:14, train loss:0.4050, train acc:0.8562\n",
      "val acc:0.5277\n"
     ]
    },
    {
     "name": "stderr",
     "output_type": "stream",
     "text": [
      "100%|██████████| 548/548 [00:03<00:00, 137.78it/s]\n",
      "100%|██████████| 183/183 [00:00<00:00, 346.20it/s]\n",
      "  3%|▎         | 15/548 [00:00<00:03, 145.54it/s]"
     ]
    },
    {
     "name": "stdout",
     "output_type": "stream",
     "text": [
      "EPOCH:15, train loss:0.3901, train acc:0.8615\n",
      "val acc:0.5180\n"
     ]
    },
    {
     "name": "stderr",
     "output_type": "stream",
     "text": [
      "100%|██████████| 548/548 [00:03<00:00, 138.08it/s]\n",
      "100%|██████████| 183/183 [00:00<00:00, 432.76it/s]\n",
      "  3%|▎         | 14/548 [00:00<00:03, 134.29it/s]"
     ]
    },
    {
     "name": "stdout",
     "output_type": "stream",
     "text": [
      "EPOCH:16, train loss:0.3725, train acc:0.8679\n",
      "val acc:0.4915\n"
     ]
    },
    {
     "name": "stderr",
     "output_type": "stream",
     "text": [
      "100%|██████████| 548/548 [00:03<00:00, 138.71it/s]\n",
      "100%|██████████| 183/183 [00:00<00:00, 439.56it/s]\n",
      "  3%|▎         | 14/548 [00:00<00:03, 137.54it/s]"
     ]
    },
    {
     "name": "stdout",
     "output_type": "stream",
     "text": [
      "EPOCH:17, train loss:0.3583, train acc:0.8719\n",
      "val acc:0.4951\n"
     ]
    },
    {
     "name": "stderr",
     "output_type": "stream",
     "text": [
      "100%|██████████| 548/548 [00:03<00:00, 138.17it/s]\n",
      "100%|██████████| 183/183 [00:00<00:00, 439.12it/s]\n",
      "  3%|▎         | 14/548 [00:00<00:03, 134.18it/s]"
     ]
    },
    {
     "name": "stdout",
     "output_type": "stream",
     "text": [
      "EPOCH:18, train loss:0.3443, train acc:0.8768\n",
      "val acc:0.5268\n"
     ]
    },
    {
     "name": "stderr",
     "output_type": "stream",
     "text": [
      "100%|██████████| 548/548 [00:03<00:00, 137.71it/s]\n",
      "100%|██████████| 183/183 [00:00<00:00, 435.96it/s]\n",
      "  3%|▎         | 14/548 [00:00<00:03, 133.58it/s]"
     ]
    },
    {
     "name": "stdout",
     "output_type": "stream",
     "text": [
      "EPOCH:19, train loss:0.3347, train acc:0.8797\n",
      "val acc:0.4979\n"
     ]
    },
    {
     "name": "stderr",
     "output_type": "stream",
     "text": [
      "100%|██████████| 548/548 [00:03<00:00, 139.65it/s]\n",
      "100%|██████████| 183/183 [00:00<00:00, 441.00it/s]\n",
      "  3%|▎         | 14/548 [00:00<00:03, 139.50it/s]"
     ]
    },
    {
     "name": "stdout",
     "output_type": "stream",
     "text": [
      "EPOCH:20, train loss:0.3225, train acc:0.8854\n",
      "val acc:0.5034\n"
     ]
    },
    {
     "name": "stderr",
     "output_type": "stream",
     "text": [
      "100%|██████████| 548/548 [00:03<00:00, 140.67it/s]\n",
      "100%|██████████| 183/183 [00:00<00:00, 440.70it/s]\n",
      "  3%|▎         | 14/548 [00:00<00:03, 135.53it/s]"
     ]
    },
    {
     "name": "stdout",
     "output_type": "stream",
     "text": [
      "EPOCH:21, train loss:0.3118, train acc:0.8894\n",
      "val acc:0.5089\n"
     ]
    },
    {
     "name": "stderr",
     "output_type": "stream",
     "text": [
      "100%|██████████| 548/548 [00:03<00:00, 142.38it/s]\n",
      "100%|██████████| 183/183 [00:00<00:00, 438.60it/s]\n",
      "  3%|▎         | 15/548 [00:00<00:03, 142.98it/s]"
     ]
    },
    {
     "name": "stdout",
     "output_type": "stream",
     "text": [
      "EPOCH:22, train loss:0.3042, train acc:0.8927\n",
      "val acc:0.5104\n"
     ]
    },
    {
     "name": "stderr",
     "output_type": "stream",
     "text": [
      "100%|██████████| 548/548 [00:03<00:00, 141.16it/s]\n",
      "100%|██████████| 183/183 [00:00<00:00, 443.98it/s]\n",
      "  3%|▎         | 14/548 [00:00<00:03, 138.16it/s]"
     ]
    },
    {
     "name": "stdout",
     "output_type": "stream",
     "text": [
      "EPOCH:23, train loss:0.2955, train acc:0.8949\n",
      "val acc:0.5106\n"
     ]
    },
    {
     "name": "stderr",
     "output_type": "stream",
     "text": [
      "100%|██████████| 548/548 [00:03<00:00, 142.32it/s]\n",
      "100%|██████████| 183/183 [00:00<00:00, 442.78it/s]\n",
      "  3%|▎         | 14/548 [00:00<00:03, 138.77it/s]"
     ]
    },
    {
     "name": "stdout",
     "output_type": "stream",
     "text": [
      "EPOCH:24, train loss:0.2886, train acc:0.8969\n",
      "val acc:0.4917\n"
     ]
    },
    {
     "name": "stderr",
     "output_type": "stream",
     "text": [
      "100%|██████████| 548/548 [00:03<00:00, 141.90it/s]\n",
      "100%|██████████| 183/183 [00:00<00:00, 433.86it/s]\n",
      "  3%|▎         | 14/548 [00:00<00:04, 131.86it/s]"
     ]
    },
    {
     "name": "stdout",
     "output_type": "stream",
     "text": [
      "EPOCH:25, train loss:0.2807, train acc:0.9011\n",
      "val acc:0.5143\n"
     ]
    },
    {
     "name": "stderr",
     "output_type": "stream",
     "text": [
      "100%|██████████| 548/548 [00:03<00:00, 141.22it/s]\n",
      "100%|██████████| 183/183 [00:00<00:00, 428.40it/s]\n",
      "  3%|▎         | 14/548 [00:00<00:03, 138.71it/s]"
     ]
    },
    {
     "name": "stdout",
     "output_type": "stream",
     "text": [
      "EPOCH:26, train loss:0.2733, train acc:0.9036\n",
      "val acc:0.5237\n"
     ]
    },
    {
     "name": "stderr",
     "output_type": "stream",
     "text": [
      "100%|██████████| 548/548 [00:03<00:00, 141.69it/s]\n",
      "100%|██████████| 183/183 [00:00<00:00, 428.32it/s]\n",
      "  3%|▎         | 14/548 [00:00<00:03, 137.91it/s]"
     ]
    },
    {
     "name": "stdout",
     "output_type": "stream",
     "text": [
      "EPOCH:27, train loss:0.2687, train acc:0.9048\n",
      "val acc:0.4992\n"
     ]
    },
    {
     "name": "stderr",
     "output_type": "stream",
     "text": [
      "100%|██████████| 548/548 [00:03<00:00, 141.78it/s]\n",
      "100%|██████████| 183/183 [00:00<00:00, 255.43it/s]\n",
      "  3%|▎         | 14/548 [00:00<00:03, 137.09it/s]"
     ]
    },
    {
     "name": "stdout",
     "output_type": "stream",
     "text": [
      "EPOCH:28, train loss:0.2622, train acc:0.9079\n",
      "val acc:0.4980\n"
     ]
    },
    {
     "name": "stderr",
     "output_type": "stream",
     "text": [
      "100%|██████████| 548/548 [00:04<00:00, 136.98it/s]\n",
      "100%|██████████| 183/183 [00:00<00:00, 441.33it/s]"
     ]
    },
    {
     "name": "stdout",
     "output_type": "stream",
     "text": [
      "EPOCH:29, train loss:0.2566, train acc:0.9092\n",
      "val acc:0.5052\n"
     ]
    },
    {
     "name": "stderr",
     "output_type": "stream",
     "text": [
      "\n"
     ]
    }
   ],
   "source": [
    "for epoch in range(num_epochs):\n",
    "    epoch_accuracy = 0\n",
    "    epoch_loss = 0\n",
    "    model.train()\n",
    "    for i, (images, labels) in enumerate(tqdm(train_loader)):\n",
    "        # reshape的维度变成了(batch size, 28, 28)\n",
    "        images = images.reshape(-1, sequence_length, input_size).to(device)\n",
    "        labels = labels.to(device)\n",
    "        output = model(images)\n",
    "        loss = criterion(output, labels)\n",
    "        # Backward and optimize\n",
    "        optimizer.zero_grad()\n",
    "        loss.backward()\n",
    "        optimizer.step()\n",
    "        acc = (output.argmax(dim=1) == labels).float().mean()\n",
    "        epoch_accuracy += acc / len(train_loader)\n",
    "        epoch_loss += loss / len(train_loader)\n",
    "\n",
    "    # val the model\n",
    "    model.eval()\n",
    "    with torch.no_grad():\n",
    "        epoch_val_accuracy = 0\n",
    "        epoch_val_loss = 0\n",
    "        for images, labels in tqdm(val_loader):\n",
    "            images = images.reshape(-1, sequence_length, input_size).to(device)\n",
    "            labels = labels.to(device)\n",
    "            outputs = model(images)\n",
    "            _, predicted = torch.max(outputs.data, 1)\n",
    "            acc = (predicted == labels).float().mean()\n",
    "            epoch_val_accuracy += acc / len(val_loader)\n",
    "\n",
    "    scheduler.step()\n",
    "    print(f'EPOCH:{epoch:2}, train loss:{epoch_loss:.4f}, train acc:{epoch_accuracy:.4f}')\n",
    "    print(f'val acc:{epoch_val_accuracy:.4f}')\n",
    "\n",
    "    train_acc.append(epoch_accuracy)\n",
    "    val_acc.append(epoch_val_accuracy)\n"
   ]
  },
  {
   "cell_type": "markdown",
   "id": "b472fabd",
   "metadata": {},
   "source": [
    "# Transformer分析"
   ]
  },
  {
   "cell_type": "code",
   "execution_count": 73,
   "id": "13c78456",
   "metadata": {},
   "outputs": [],
   "source": [
    "from tqdm import tqdm\n",
    "import torch.nn as nn\n",
    "import torch.optim as optim\n",
    "from torch.utils.data import DataLoader, Dataset, TensorDataset\n",
    "import torch\n",
    "import math\n",
    "from torchvision import datasets, transforms\n",
    "# 这里使用Fashion minist数据集，使用transformer进行特征提取\n",
    "# 使用linear层进行下游任务分类\n",
    "# 参考：https://github.com/oliverguhr/transformer-time-series-prediction/blob/master/transformer-multistep.py"
   ]
  },
  {
   "cell_type": "code",
   "execution_count": 88,
   "id": "7e01b947",
   "metadata": {},
   "outputs": [],
   "source": [
    "class PositionalEncoding(nn.Module):\n",
    "    def __init__(self, d_model=3000, max_len=1):\n",
    "        super(PositionalEncoding, self).__init__()\n",
    "        pe = torch.zeros(max_len, d_model)\n",
    "        position = torch.arange(0, max_len, dtype=torch.float).unsqueeze(1)\n",
    "        div_term = torch.exp(torch.arange(0, d_model, 2).float() * (-math.log(10000.0) / d_model))\n",
    "        pe[:, 0::2] = torch.sin(position * div_term)\n",
    "        pe[:, 1::2] = torch.cos(position * div_term)\n",
    "        pe = pe.unsqueeze(0).transpose(0, 1)\n",
    "        self.register_buffer('pe', pe)\n",
    "\n",
    "    def forward(self, x):\n",
    "        return x + self.pe[:x.size(0), :]\n",
    "\n",
    "# 这里feature size必须可以整除以nhead\n",
    "class Transformer(nn.Module):\n",
    "    def __init__(self, src_len=1, d_model=3000, num_layers=4, nhead=8):\n",
    "        super().__init__()\n",
    "        self.src_mask = None\n",
    "        self.pos_encoder = PositionalEncoding(d_model).to(device)\n",
    "        self.nhead = nhead\n",
    "        self.d_model = d_model\n",
    "        self.src_len = src_len\n",
    "        self.encoder_layer = nn.TransformerEncoderLayer(d_model=d_model, nhead=self.nhead)\n",
    "        self.transformer_encoder = nn.TransformerEncoder(self.encoder_layer, num_layers=num_layers)\n",
    "        # 这里encoder输出的维度还是[batch size, max_len, embedding dim]\n",
    "        # 所以embedding dim维度应该是 max len * embedding dim\n",
    "        self.decoder = nn.Linear(self.d_model*self.src_len, 10)\n",
    "        self.init_weights()\n",
    "\n",
    "    def forward(self, x):\n",
    "        #if self.src_mask is None:\n",
    "        #    mask = self._generate_square_subsequent_mask(len(x)).to(device)\n",
    "        #    self.src_mask = mask\n",
    "        # 输入x加上位置编码后，得到encoder的输入\n",
    "        x = self.pos_encoder(x)\n",
    "        # 这里mask不是要免除padding=0后，softmax的影响吗\n",
    "        # encoder mask讲解参考下面链接\n",
    "        # https://medium.com/data-scientists-playground/transformer-encoder-mask%E7%AF%87-dc2c3abfe2e\n",
    "        # 这里不需要为encoder添加mask，首先每个长度都是一样\n",
    "        # 什么时候需要？参考：https://github.com/pytorch/tutorials/blob/master/beginner_source/transformer_tutorial.py\n",
    "        # 大致意思是说当我们要做seq2seq任务时，encoder只能接受前面位置的mask，要对后面位置的seq进行mask。\n",
    "        # 当输入的batch size 长度不一样时候，也需要mask\n",
    "        x = self.transformer_encoder(x)#, self.src_mask)\n",
    "        x = self.decoder(x.permute(1, 0, 2).reshape(-1, self.d_model*self.src_len))\n",
    "        return x\n",
    "\n",
    "    # 将decoder 的偏置转换成0， 将权重进行标准化\n",
    "    def init_weights(self):\n",
    "        initrange = 0.1\n",
    "        self.decoder.bias.data.zero_()\n",
    "        self.decoder.weight.data.uniform_(-initrange, initrange)\n",
    "\n",
    "    # 将输入的序列进行mask操作\n",
    "    def _generate_square_subsequent_mask(self, sz):\n",
    "        mask = (torch.triu(torch.ones(sz, sz)) == 1).transpose(0, 1)\n",
    "        mask = mask.float().masked_fill(mask == 0, float('-inf')).masked_fill(mask == 1, float(0.0))\n",
    "        return mask"
   ]
  },
  {
   "cell_type": "markdown",
   "id": "9c92a365",
   "metadata": {},
   "source": [
    "## 数据转换"
   ]
  },
  {
   "cell_type": "code",
   "execution_count": 89,
   "id": "e9281f2b",
   "metadata": {},
   "outputs": [],
   "source": [
    "import numpy as np"
   ]
  },
  {
   "cell_type": "code",
   "execution_count": 39,
   "id": "bd868882",
   "metadata": {},
   "outputs": [],
   "source": [
    "train_tensor = torch.tensor(train_sp).float()\n",
    "y_train_tensor = torch.tensor(train_label).long()\n",
    "val_tensor = torch.tensor(val_sp).float()\n",
    "y_val_tensor = torch.tensor(val_label).long()\n",
    "\n",
    "# 使用Dataloader对数据进行封装\n",
    "batch_size = 128\n",
    "train_tensor = TensorDataset(train_tensor, y_train_tensor)\n",
    "val_tensor = TensorDataset(val_tensor, y_val_tensor)\n",
    "\n",
    "\n",
    "train_loader = DataLoader(train_tensor, shuffle=True, batch_size=batch_size, drop_last=True)\n",
    "val_loader = DataLoader(val_tensor, shuffle=False, batch_size=batch_size)"
   ]
  },
  {
   "cell_type": "code",
   "execution_count": 91,
   "id": "3f7db81a",
   "metadata": {},
   "outputs": [],
   "source": [
    "device = torch.device(\"cuda\" if torch.cuda.is_available() else \"cpu\")\n",
    "\n",
    "sequence_length = 1\n",
    "# input_size 相当于embedding dim\n",
    "model = Transformer().to(device)\n",
    "input_size = 3000\n",
    "num_epochs = 80\n",
    "learning_rate = 1e-4\n",
    "gamma = 0.9\n",
    "step_size=1\n",
    "\n",
    "# Loss and optimizer\n",
    "criterion = nn.CrossEntropyLoss()\n",
    "optimizer = torch.optim.Adam(model.parameters(), lr=learning_rate)\n",
    "scheduler = optim.lr_scheduler.StepLR(optimizer, step_size=1, gamma=gamma) # 学习方式\n",
    "\n",
    "# Train the model\n",
    "total_step = len(train_loader)\n",
    "train_acc, val_acc = [], []\n",
    "# seq_len 相当于 max len， 即每句话切分的最大长度\n",
    "\n",
    "train_best = None\n",
    "best_loss = 1000"
   ]
  },
  {
   "cell_type": "code",
   "execution_count": 92,
   "id": "1135e41e",
   "metadata": {
    "scrolled": true
   },
   "outputs": [
    {
     "name": "stderr",
     "output_type": "stream",
     "text": [
      "100%|██████████| 548/548 [01:01<00:00,  8.94it/s]\n",
      "100%|██████████| 183/183 [00:03<00:00, 49.87it/s]\n",
      "  0%|          | 2/548 [00:00<00:38, 14.14it/s]"
     ]
    },
    {
     "name": "stdout",
     "output_type": "stream",
     "text": [
      "EPOCH: 0, train loss:3.0662, train acc:0.1697\n",
      "val acc:0.2455\n"
     ]
    },
    {
     "name": "stderr",
     "output_type": "stream",
     "text": [
      "100%|██████████| 548/548 [01:01<00:00,  8.93it/s]\n",
      "100%|██████████| 183/183 [00:03<00:00, 49.85it/s]\n",
      "  0%|          | 2/548 [00:00<00:40, 13.62it/s]"
     ]
    },
    {
     "name": "stdout",
     "output_type": "stream",
     "text": [
      "EPOCH: 1, train loss:2.4007, train acc:0.1802\n",
      "val acc:0.1452\n"
     ]
    },
    {
     "name": "stderr",
     "output_type": "stream",
     "text": [
      "100%|██████████| 548/548 [01:01<00:00,  8.93it/s]\n",
      "100%|██████████| 183/183 [00:03<00:00, 49.92it/s]\n",
      "  0%|          | 2/548 [00:00<00:38, 14.07it/s]"
     ]
    },
    {
     "name": "stdout",
     "output_type": "stream",
     "text": [
      "EPOCH: 2, train loss:2.3348, train acc:0.1894\n",
      "val acc:0.2455\n"
     ]
    },
    {
     "name": "stderr",
     "output_type": "stream",
     "text": [
      "100%|██████████| 548/548 [01:01<00:00,  8.93it/s]\n",
      "100%|██████████| 183/183 [00:03<00:00, 49.90it/s]\n",
      "  0%|          | 2/548 [00:00<00:36, 15.09it/s]"
     ]
    },
    {
     "name": "stdout",
     "output_type": "stream",
     "text": [
      "EPOCH: 3, train loss:2.2458, train acc:0.2243\n",
      "val acc:0.3387\n"
     ]
    },
    {
     "name": "stderr",
     "output_type": "stream",
     "text": [
      "100%|██████████| 548/548 [01:01<00:00,  8.94it/s]\n",
      "100%|██████████| 183/183 [00:03<00:00, 49.89it/s]\n",
      "  0%|          | 2/548 [00:00<00:37, 14.75it/s]"
     ]
    },
    {
     "name": "stdout",
     "output_type": "stream",
     "text": [
      "EPOCH: 4, train loss:1.9161, train acc:0.3803\n",
      "val acc:0.4727\n"
     ]
    },
    {
     "name": "stderr",
     "output_type": "stream",
     "text": [
      "100%|██████████| 548/548 [01:01<00:00,  8.94it/s]\n",
      "100%|██████████| 183/183 [00:03<00:00, 49.86it/s]\n",
      "  0%|          | 2/548 [00:00<00:37, 14.59it/s]"
     ]
    },
    {
     "name": "stdout",
     "output_type": "stream",
     "text": [
      "EPOCH: 5, train loss:1.7717, train acc:0.4390\n",
      "val acc:0.4702\n"
     ]
    },
    {
     "name": "stderr",
     "output_type": "stream",
     "text": [
      "100%|██████████| 548/548 [01:01<00:00,  8.94it/s]\n",
      "100%|██████████| 183/183 [00:03<00:00, 49.90it/s]\n",
      "  0%|          | 2/548 [00:00<00:36, 14.80it/s]"
     ]
    },
    {
     "name": "stdout",
     "output_type": "stream",
     "text": [
      "EPOCH: 6, train loss:1.7033, train acc:0.4643\n",
      "val acc:0.4720\n"
     ]
    },
    {
     "name": "stderr",
     "output_type": "stream",
     "text": [
      "100%|██████████| 548/548 [01:01<00:00,  8.93it/s]\n",
      "100%|██████████| 183/183 [00:03<00:00, 49.88it/s]\n",
      "  0%|          | 0/548 [00:00<?, ?it/s]"
     ]
    },
    {
     "name": "stdout",
     "output_type": "stream",
     "text": [
      "EPOCH: 7, train loss:1.5680, train acc:0.4995\n",
      "val acc:0.4541\n"
     ]
    },
    {
     "name": "stderr",
     "output_type": "stream",
     "text": [
      "100%|██████████| 548/548 [01:01<00:00,  8.94it/s]\n",
      "100%|██████████| 183/183 [00:03<00:00, 49.89it/s]\n",
      "  0%|          | 0/548 [00:00<?, ?it/s]"
     ]
    },
    {
     "name": "stdout",
     "output_type": "stream",
     "text": [
      "EPOCH: 8, train loss:1.4367, train acc:0.5313\n",
      "val acc:0.4917\n"
     ]
    },
    {
     "name": "stderr",
     "output_type": "stream",
     "text": [
      "100%|██████████| 548/548 [01:01<00:00,  8.94it/s]\n",
      "100%|██████████| 183/183 [00:03<00:00, 49.91it/s]\n",
      "  0%|          | 2/548 [00:00<00:36, 14.85it/s]"
     ]
    },
    {
     "name": "stdout",
     "output_type": "stream",
     "text": [
      "EPOCH: 9, train loss:1.3241, train acc:0.5605\n",
      "val acc:0.4959\n"
     ]
    },
    {
     "name": "stderr",
     "output_type": "stream",
     "text": [
      "100%|██████████| 548/548 [01:01<00:00,  8.94it/s]\n",
      "100%|██████████| 183/183 [00:03<00:00, 49.93it/s]\n",
      "  0%|          | 2/548 [00:00<00:37, 14.72it/s]"
     ]
    },
    {
     "name": "stdout",
     "output_type": "stream",
     "text": [
      "EPOCH:10, train loss:1.2374, train acc:0.5846\n",
      "val acc:0.4958\n"
     ]
    },
    {
     "name": "stderr",
     "output_type": "stream",
     "text": [
      "100%|██████████| 548/548 [01:01<00:00,  8.94it/s]\n",
      "100%|██████████| 183/183 [00:03<00:00, 49.86it/s]\n",
      "  0%|          | 2/548 [00:00<00:37, 14.66it/s]"
     ]
    },
    {
     "name": "stdout",
     "output_type": "stream",
     "text": [
      "EPOCH:11, train loss:1.1666, train acc:0.6057\n",
      "val acc:0.4897\n"
     ]
    },
    {
     "name": "stderr",
     "output_type": "stream",
     "text": [
      "100%|██████████| 548/548 [01:01<00:00,  8.94it/s]\n",
      "100%|██████████| 183/183 [00:03<00:00, 49.90it/s]\n",
      "  0%|          | 0/548 [00:00<?, ?it/s]"
     ]
    },
    {
     "name": "stdout",
     "output_type": "stream",
     "text": [
      "EPOCH:12, train loss:1.1173, train acc:0.6206\n",
      "val acc:0.4679\n"
     ]
    },
    {
     "name": "stderr",
     "output_type": "stream",
     "text": [
      "100%|██████████| 548/548 [01:01<00:00,  8.94it/s]\n",
      "100%|██████████| 183/183 [00:03<00:00, 49.89it/s]\n",
      "  0%|          | 2/548 [00:00<00:37, 14.71it/s]"
     ]
    },
    {
     "name": "stdout",
     "output_type": "stream",
     "text": [
      "EPOCH:13, train loss:1.0729, train acc:0.6364\n",
      "val acc:0.4841\n"
     ]
    },
    {
     "name": "stderr",
     "output_type": "stream",
     "text": [
      "100%|██████████| 548/548 [01:01<00:00,  8.94it/s]\n",
      "100%|██████████| 183/183 [00:03<00:00, 49.91it/s]\n",
      "  0%|          | 2/548 [00:00<00:37, 14.59it/s]"
     ]
    },
    {
     "name": "stdout",
     "output_type": "stream",
     "text": [
      "EPOCH:14, train loss:1.0426, train acc:0.6453\n",
      "val acc:0.5018\n"
     ]
    },
    {
     "name": "stderr",
     "output_type": "stream",
     "text": [
      "100%|██████████| 548/548 [01:01<00:00,  8.94it/s]\n",
      "100%|██████████| 183/183 [00:03<00:00, 49.89it/s]\n",
      "  0%|          | 2/548 [00:00<00:38, 14.34it/s]"
     ]
    },
    {
     "name": "stdout",
     "output_type": "stream",
     "text": [
      "EPOCH:15, train loss:0.9937, train acc:0.6612\n",
      "val acc:0.4865\n"
     ]
    },
    {
     "name": "stderr",
     "output_type": "stream",
     "text": [
      "100%|██████████| 548/548 [01:01<00:00,  8.94it/s]\n",
      "100%|██████████| 183/183 [00:03<00:00, 49.93it/s]\n",
      "  0%|          | 2/548 [00:00<00:37, 14.56it/s]"
     ]
    },
    {
     "name": "stdout",
     "output_type": "stream",
     "text": [
      "EPOCH:16, train loss:0.9568, train acc:0.6746\n",
      "val acc:0.5256\n"
     ]
    },
    {
     "name": "stderr",
     "output_type": "stream",
     "text": [
      "100%|██████████| 548/548 [01:01<00:00,  8.94it/s]\n",
      "100%|██████████| 183/183 [00:03<00:00, 49.88it/s]\n",
      "  0%|          | 2/548 [00:00<00:37, 14.50it/s]"
     ]
    },
    {
     "name": "stdout",
     "output_type": "stream",
     "text": [
      "EPOCH:17, train loss:0.9261, train acc:0.6822\n",
      "val acc:0.4929\n"
     ]
    },
    {
     "name": "stderr",
     "output_type": "stream",
     "text": [
      "100%|██████████| 548/548 [01:01<00:00,  8.93it/s]\n",
      "100%|██████████| 183/183 [00:03<00:00, 49.82it/s]\n",
      "  0%|          | 2/548 [00:00<00:36, 14.83it/s]"
     ]
    },
    {
     "name": "stdout",
     "output_type": "stream",
     "text": [
      "EPOCH:18, train loss:0.9007, train acc:0.6935\n",
      "val acc:0.5005\n"
     ]
    },
    {
     "name": "stderr",
     "output_type": "stream",
     "text": [
      "100%|██████████| 548/548 [01:01<00:00,  8.94it/s]\n",
      "100%|██████████| 183/183 [00:03<00:00, 49.85it/s]\n",
      "  0%|          | 0/548 [00:00<?, ?it/s]"
     ]
    },
    {
     "name": "stdout",
     "output_type": "stream",
     "text": [
      "EPOCH:19, train loss:0.8887, train acc:0.6955\n",
      "val acc:0.4814\n"
     ]
    },
    {
     "name": "stderr",
     "output_type": "stream",
     "text": [
      "100%|██████████| 548/548 [01:01<00:00,  8.93it/s]\n",
      "100%|██████████| 183/183 [00:03<00:00, 49.90it/s]\n",
      "  0%|          | 2/548 [00:00<00:36, 14.93it/s]"
     ]
    },
    {
     "name": "stdout",
     "output_type": "stream",
     "text": [
      "EPOCH:20, train loss:0.8581, train acc:0.7045\n",
      "val acc:0.5018\n"
     ]
    },
    {
     "name": "stderr",
     "output_type": "stream",
     "text": [
      "100%|██████████| 548/548 [01:01<00:00,  8.94it/s]\n",
      "100%|██████████| 183/183 [00:03<00:00, 49.90it/s]\n",
      "  0%|          | 2/548 [00:00<00:37, 14.73it/s]"
     ]
    },
    {
     "name": "stdout",
     "output_type": "stream",
     "text": [
      "EPOCH:21, train loss:0.8459, train acc:0.7087\n",
      "val acc:0.4829\n"
     ]
    },
    {
     "name": "stderr",
     "output_type": "stream",
     "text": [
      "100%|██████████| 548/548 [01:01<00:00,  8.94it/s]\n",
      "100%|██████████| 183/183 [00:03<00:00, 49.76it/s]\n",
      "  0%|          | 2/548 [00:00<00:37, 14.71it/s]"
     ]
    },
    {
     "name": "stdout",
     "output_type": "stream",
     "text": [
      "EPOCH:22, train loss:0.8260, train acc:0.7135\n",
      "val acc:0.4768\n"
     ]
    },
    {
     "name": "stderr",
     "output_type": "stream",
     "text": [
      "100%|██████████| 548/548 [01:01<00:00,  8.94it/s]\n",
      "100%|██████████| 183/183 [00:03<00:00, 49.90it/s]\n",
      "  0%|          | 2/548 [00:00<00:36, 14.91it/s]"
     ]
    },
    {
     "name": "stdout",
     "output_type": "stream",
     "text": [
      "EPOCH:23, train loss:0.8170, train acc:0.7168\n",
      "val acc:0.4852\n"
     ]
    },
    {
     "name": "stderr",
     "output_type": "stream",
     "text": [
      "100%|██████████| 548/548 [01:01<00:00,  8.94it/s]\n",
      "100%|██████████| 183/183 [00:03<00:00, 49.89it/s]\n",
      "  0%|          | 2/548 [00:00<00:36, 15.03it/s]"
     ]
    },
    {
     "name": "stdout",
     "output_type": "stream",
     "text": [
      "EPOCH:24, train loss:0.8046, train acc:0.7207\n",
      "val acc:0.5077\n"
     ]
    },
    {
     "name": "stderr",
     "output_type": "stream",
     "text": [
      "100%|██████████| 548/548 [01:01<00:00,  8.94it/s]\n",
      "100%|██████████| 183/183 [00:03<00:00, 49.92it/s]\n",
      "  0%|          | 2/548 [00:00<00:37, 14.73it/s]"
     ]
    },
    {
     "name": "stdout",
     "output_type": "stream",
     "text": [
      "EPOCH:25, train loss:0.7930, train acc:0.7253\n",
      "val acc:0.5002\n"
     ]
    },
    {
     "name": "stderr",
     "output_type": "stream",
     "text": [
      " 80%|████████  | 439/548 [00:49<00:12,  8.92it/s]\n"
     ]
    },
    {
     "ename": "KeyboardInterrupt",
     "evalue": "",
     "output_type": "error",
     "traceback": [
      "\u001b[0;31m--------------------------------------------------------------------------\u001b[0m",
      "\u001b[0;31mKeyboardInterrupt\u001b[0m                        Traceback (most recent call last)",
      "\u001b[0;32m<ipython-input-92-6179a0efe5e8>\u001b[0m in \u001b[0;36m<module>\u001b[0;34m\u001b[0m\n\u001b[1;32m      6\u001b[0m         \u001b[0;31m# reshape的维度变成了(batch size, 28, 28)\u001b[0m\u001b[0;34m\u001b[0m\u001b[0;34m\u001b[0m\u001b[0;34m\u001b[0m\u001b[0m\n\u001b[1;32m      7\u001b[0m         \u001b[0mimages\u001b[0m \u001b[0;34m=\u001b[0m \u001b[0mimages\u001b[0m\u001b[0;34m.\u001b[0m\u001b[0mreshape\u001b[0m\u001b[0;34m(\u001b[0m\u001b[0;34m-\u001b[0m\u001b[0;36m1\u001b[0m\u001b[0;34m,\u001b[0m \u001b[0msequence_length\u001b[0m\u001b[0;34m,\u001b[0m \u001b[0minput_size\u001b[0m\u001b[0;34m)\u001b[0m\u001b[0;34m\u001b[0m\u001b[0;34m\u001b[0m\u001b[0m\n\u001b[0;32m----> 8\u001b[0;31m         \u001b[0mimages\u001b[0m \u001b[0;34m=\u001b[0m \u001b[0mimages\u001b[0m\u001b[0;34m.\u001b[0m\u001b[0mpermute\u001b[0m\u001b[0;34m(\u001b[0m\u001b[0;36m1\u001b[0m\u001b[0;34m,\u001b[0m \u001b[0;36m0\u001b[0m\u001b[0;34m,\u001b[0m \u001b[0;36m2\u001b[0m\u001b[0;34m)\u001b[0m\u001b[0;34m.\u001b[0m\u001b[0mto\u001b[0m\u001b[0;34m(\u001b[0m\u001b[0mdevice\u001b[0m\u001b[0;34m)\u001b[0m\u001b[0;34m\u001b[0m\u001b[0;34m\u001b[0m\u001b[0m\n\u001b[0m\u001b[1;32m      9\u001b[0m         \u001b[0mlabels\u001b[0m \u001b[0;34m=\u001b[0m \u001b[0mlabels\u001b[0m\u001b[0;34m.\u001b[0m\u001b[0mto\u001b[0m\u001b[0;34m(\u001b[0m\u001b[0mdevice\u001b[0m\u001b[0;34m)\u001b[0m\u001b[0;34m\u001b[0m\u001b[0;34m\u001b[0m\u001b[0m\n\u001b[1;32m     10\u001b[0m \u001b[0;34m\u001b[0m\u001b[0m\n",
      "\u001b[0;31mKeyboardInterrupt\u001b[0m: "
     ]
    }
   ],
   "source": [
    "for epoch in range(num_epochs):\n",
    "    epoch_accuracy = 0\n",
    "    epoch_loss = 0\n",
    "    model.train()\n",
    "    for i, (images, labels) in enumerate(tqdm(train_loader)):\n",
    "        # reshape的维度变成了(batch size, 28, 28)\n",
    "        images = images.reshape(-1, sequence_length, input_size)\n",
    "        images = images.permute(1, 0, 2).to(device)\n",
    "        labels = labels.to(device)\n",
    "\n",
    "        # Forward pass\n",
    "        outputs = model(images)\n",
    "        loss = criterion(outputs, labels)\n",
    "\n",
    "        # Backward and optimize\n",
    "        optimizer.zero_grad()\n",
    "        loss.backward()\n",
    "        optimizer.step()\n",
    "        acc = (outputs.argmax(dim=1) == labels).float().mean()\n",
    "        epoch_accuracy += acc / len(train_loader)\n",
    "        epoch_loss += loss / len(train_loader)\n",
    "\n",
    "    # val the model\n",
    "    model.eval()\n",
    "    with torch.no_grad():\n",
    "        epoch_val_accuracy = 0\n",
    "        epoch_val_loss = 0\n",
    "        for images, labels in tqdm(val_loader):\n",
    "            images = images.reshape(-1, sequence_length, input_size)\n",
    "            images = images.permute(1, 0, 2).to(device)\n",
    "            labels = labels.to(device)\n",
    "            outputs = model(images)\n",
    "            _, predicted = torch.max(outputs.data, 1)\n",
    "            acc = (predicted == labels).float().mean()\n",
    "            epoch_val_accuracy += acc / len(val_loader)\n",
    "\n",
    "    if loss <= best_loss:\n",
    "        best_model = model\n",
    "        best_loss = loss\n",
    "\n",
    "    scheduler.step()\n",
    "    print(f'EPOCH:{epoch:2}, train loss:{epoch_loss:.4f}, train acc:{epoch_accuracy:.4f}')\n",
    "    print(f'val acc:{epoch_val_accuracy:.4f}')\n",
    "\n",
    "    train_acc.append(epoch_accuracy)\n",
    "    val_acc.append(epoch_val_accuracy)\n",
    "\n",
    "# 保存模型\n",
    "torch.save(best_model.state_dict(), './transformer_model.point')\n",
    "\n",
    "# 读取模型参数\n",
    "# model.load_state_dict(torch.load('transformer_model.point'))"
   ]
  },
  {
   "cell_type": "markdown",
   "id": "e6665a37",
   "metadata": {},
   "source": [
    "## 模型保存部分"
   ]
  },
  {
   "cell_type": "code",
   "execution_count": 17,
   "id": "70615ea6",
   "metadata": {},
   "outputs": [
    {
     "data": {
      "text/plain": [
       "<All keys matched successfully>"
      ]
     },
     "execution_count": 17,
     "metadata": {},
     "output_type": "execute_result"
    }
   ],
   "source": [
    "# 保存模型权重\n",
    "#torch.save(model.state_dict(), './model.point')\n",
    "# 加载模型权重\n",
    "model.load_state_dict(torch.load('model.point'))"
   ]
  },
  {
   "cell_type": "markdown",
   "id": "31cad521",
   "metadata": {},
   "source": [
    "## 生成预测结果"
   ]
  },
  {
   "cell_type": "code",
   "execution_count": 54,
   "id": "32acc31a",
   "metadata": {},
   "outputs": [],
   "source": [
    "preds = model(torch.tensor(test).float().cuda()).argmax(dim=1)"
   ]
  },
  {
   "cell_type": "code",
   "execution_count": 55,
   "id": "5818eb60",
   "metadata": {},
   "outputs": [
    {
     "name": "stdout",
     "output_type": "stream",
     "text": [
      "torch.Size([23403])\n"
     ]
    }
   ],
   "source": [
    "print(preds.shape), print(test,)"
   ]
  },
  {
   "cell_type": "code",
   "execution_count": 67,
   "id": "3b8f2513",
   "metadata": {},
   "outputs": [],
   "source": [
    "# 保存预测结果, 注意提交preds.npy文件\n",
    "np.save('preds.npy', preds.cpu().numpy())"
   ]
  },
  {
   "cell_type": "markdown",
   "id": "a6b80ae7",
   "metadata": {},
   "source": [
    "# Resnet模型"
   ]
  },
  {
   "cell_type": "markdown",
   "id": "4e32ab72",
   "metadata": {},
   "source": [
    "## 数据处理"
   ]
  },
  {
   "cell_type": "code",
   "execution_count": 24,
   "id": "c38fe5b6",
   "metadata": {},
   "outputs": [],
   "source": [
    "import numpy as np\n",
    "import pandas as pd\n",
    "import torch\n",
    "import torch.nn as nn\n",
    "import torchvision\n",
    "from tqdm import tqdm\n",
    "import torch.optim as optim\n",
    "from torchvision import datasets, transforms\n",
    "from torch.utils.data import TensorDataset, DataLoader, Dataset\n",
    "from scipy import signal\n",
    "import gc\n",
    "from torchvision import models"
   ]
  },
  {
   "cell_type": "code",
   "execution_count": 20,
   "id": "5a53ed2d",
   "metadata": {},
   "outputs": [],
   "source": [
    "train_sp = get_fft_and_scaler(train)\n",
    "test_sp = get_fft_and_scaler(test)\n",
    "val_sp = get_fft_and_scaler(val)"
   ]
  },
  {
   "cell_type": "markdown",
   "id": "37101144",
   "metadata": {},
   "source": [
    "## STFT画图"
   ]
  },
  {
   "cell_type": "code",
   "execution_count": 37,
   "id": "7bfebaf5",
   "metadata": {},
   "outputs": [
    {
     "name": "stdout",
     "output_type": "stream",
     "text": [
      "(126, 126)\n"
     ]
    }
   ],
   "source": [
    "# 调高noverlap y轴会变大，调低窗口数量，y轴会变小\n",
    "f, t, zxx = signal.stft(train_sp[0], fs=122.68e6, nfft=126, window=signal.get_window('hann', 30), noverlap=6, nperseg=30, return_onesided=False)\n",
    "print(zxx.shape)"
   ]
  },
  {
   "cell_type": "code",
   "execution_count": 38,
   "id": "5a12a122",
   "metadata": {},
   "outputs": [],
   "source": [
    "import matplotlib.pyplot as plt"
   ]
  },
  {
   "cell_type": "code",
   "execution_count": 39,
   "id": "e6fea8e5",
   "metadata": {
    "scrolled": true
   },
   "outputs": [
    {
     "data": {
      "image/png": "[encoded data removed]",
      "text/plain": [
       "<Figure size 432x288 with 1 Axes>"
      ]
     },
     "metadata": {
      "needs_background": "light"
     },
     "output_type": "display_data"
    }
   ],
   "source": [
    "plt.figure()\n",
    "plt.specgram(\n",
    "    train[0],\n",
    "    NFFT=128,\n",
    "    Fs=122.68e6,\n",
    "    noverlap=18,\n",
    ") \n",
    "plt.show()"
   ]
  },
  {
   "cell_type": "code",
   "execution_count": 53,
   "id": "93ff371e",
   "metadata": {},
   "outputs": [
    {
     "data": {
      "image/png": "[encoded data removed]",
      "text/plain": [
       "<Figure size 432x288 with 1 Axes>"
      ]
     },
     "metadata": {
      "needs_background": "light"
     },
     "output_type": "display_data"
    }
   ],
   "source": [
    "plt.figure()\n",
    "plt.specgram(\n",
    "    val[0],\n",
    "    NFFT=256,\n",
    "    Fs=122.68e6,\n",
    "    noverlap=18,\n",
    ") \n",
    "plt.show()"
   ]
  },
  {
   "cell_type": "code",
   "execution_count": 21,
   "id": "cb356930",
   "metadata": {},
   "outputs": [
    {
     "name": "stdout",
     "output_type": "stream",
     "text": [
      "(251, 251)\n"
     ]
    }
   ],
   "source": [
    "print(zxx.shape)"
   ]
  },
  {
   "cell_type": "code",
   "execution_count": 40,
   "id": "5f3e9b91",
   "metadata": {},
   "outputs": [],
   "source": [
    "def get_fft_and_scaler(data, start=5192, end=8192):\n",
    "    data = np.fft.fft(data)\n",
    "    data = np.abs(data)\n",
    "    data = data/np.expand_dims(data.max(axis=1), axis=1)\n",
    "    return data[:,start:end]\n",
    "\n",
    "def get_stft(data, nfft=126, x=126, y=126, windows=30, oneside=False, overlap=6, dtype='complex64'):\n",
    "    fs = 122.68e6\n",
    "    result = np.zeros((data.shape[0], x, y), dtype=dtype)\n",
    "    for idx, i in enumerate(tqdm(data)):\n",
    "        f, t, zxx = signal.stft(\n",
    "        i, \n",
    "        fs=fs,\n",
    "        nfft=nfft,\n",
    "        window=signal.get_window('hann', windows),\n",
    "        noverlap=overlap,\n",
    "        nperseg=windows,\n",
    "        return_onesided=oneside) # 设置双边谱\n",
    "        result[idx, :] = zxx[:, :].astype(dtype)\n",
    "    return result\n",
    "    \n",
    "def get_image(stft, dtype='float32'):\n",
    "    real = np.zeros_like(stft, dtype=dtype)\n",
    "    imag = np.zeros_like(stft, dtype=dtype)\n",
    "    angel = np.zeros_like(stft, dtype=dtype)\n",
    "    for idx, i in enumerate(tqdm(stft)):\n",
    "        temp_imag = i.imag\n",
    "        real[idx, :] = i.real.astype(dtype)\n",
    "        imag[idx, :] = i.imag.astype(dtype)\n",
    "        angel[idx, :] = np.arctan(i.real/i.imag).astype(dtype)\n",
    "    length = len(real)\n",
    "    image = np.stack([real, imag, angel], axis=1) # 这里只要将维度设置为1即可\n",
    "    del real, imag, angel; gc.collect()\n",
    "    return image"
   ]
  },
  {
   "cell_type": "code",
   "execution_count": 41,
   "id": "d19a69b4",
   "metadata": {},
   "outputs": [
    {
     "name": "stderr",
     "output_type": "stream",
     "text": [
      " 15%|█▍        | 10527/70209 [00:05<00:28, 2101.22it/s]\n"
     ]
    },
    {
     "ename": "KeyboardInterrupt",
     "evalue": "",
     "output_type": "error",
     "traceback": [
      "\u001b[0;31m---------------------------------------------------------------------------\u001b[0m",
      "\u001b[0;31mKeyboardInterrupt\u001b[0m                         Traceback (most recent call last)",
      "\u001b[0;32m<ipython-input-41-156ebae72de4>\u001b[0m in \u001b[0;36m<module>\u001b[0;34m\u001b[0m\n\u001b[0;32m----> 1\u001b[0;31m \u001b[0mstft\u001b[0m \u001b[0;34m=\u001b[0m \u001b[0mget_stft\u001b[0m\u001b[0;34m(\u001b[0m\u001b[0mtrain_sp\u001b[0m\u001b[0;34m)\u001b[0m\u001b[0;34m\u001b[0m\u001b[0;34m\u001b[0m\u001b[0m\n\u001b[0m\u001b[1;32m      2\u001b[0m \u001b[0;34m\u001b[0m\u001b[0m\n\u001b[1;32m      3\u001b[0m \u001b[0mimage\u001b[0m \u001b[0;34m=\u001b[0m \u001b[0mget_image\u001b[0m\u001b[0;34m(\u001b[0m\u001b[0mstft\u001b[0m\u001b[0;34m)\u001b[0m\u001b[0;34m\u001b[0m\u001b[0;34m\u001b[0m\u001b[0m\n\u001b[1;32m      4\u001b[0m \u001b[0;32mdel\u001b[0m \u001b[0mstft\u001b[0m\u001b[0;34m;\u001b[0m \u001b[0mgc\u001b[0m\u001b[0;34m.\u001b[0m\u001b[0mcollect\u001b[0m\u001b[0;34m(\u001b[0m\u001b[0;34m)\u001b[0m\u001b[0;34m\u001b[0m\u001b[0;34m\u001b[0m\u001b[0m\n",
      "\u001b[0;32m<ipython-input-40-2a811be31d04>\u001b[0m in \u001b[0;36mget_stft\u001b[0;34m(data, nfft, x, y, windows, oneside, overlap, dtype)\u001b[0m\n\u001b[1;32m      9\u001b[0m     \u001b[0mresult\u001b[0m \u001b[0;34m=\u001b[0m \u001b[0mnp\u001b[0m\u001b[0;34m.\u001b[0m\u001b[0mzeros\u001b[0m\u001b[0;34m(\u001b[0m\u001b[0;34m(\u001b[0m\u001b[0mdata\u001b[0m\u001b[0;34m.\u001b[0m\u001b[0mshape\u001b[0m\u001b[0;34m[\u001b[0m\u001b[0;36m0\u001b[0m\u001b[0;34m]\u001b[0m\u001b[0;34m,\u001b[0m \u001b[0mx\u001b[0m\u001b[0;34m,\u001b[0m \u001b[0my\u001b[0m\u001b[0;34m)\u001b[0m\u001b[0;34m,\u001b[0m \u001b[0mdtype\u001b[0m\u001b[0;34m=\u001b[0m\u001b[0mdtype\u001b[0m\u001b[0;34m)\u001b[0m\u001b[0;34m\u001b[0m\u001b[0;34m\u001b[0m\u001b[0m\n\u001b[1;32m     10\u001b[0m     \u001b[0;32mfor\u001b[0m \u001b[0midx\u001b[0m\u001b[0;34m,\u001b[0m \u001b[0mi\u001b[0m \u001b[0;32min\u001b[0m \u001b[0menumerate\u001b[0m\u001b[0;34m(\u001b[0m\u001b[0mtqdm\u001b[0m\u001b[0;34m(\u001b[0m\u001b[0mdata\u001b[0m\u001b[0;34m)\u001b[0m\u001b[0;34m)\u001b[0m\u001b[0;34m:\u001b[0m\u001b[0;34m\u001b[0m\u001b[0;34m\u001b[0m\u001b[0m\n\u001b[0;32m---> 11\u001b[0;31m         f, t, zxx = signal.stft(\n\u001b[0m\u001b[1;32m     12\u001b[0m         \u001b[0mi\u001b[0m\u001b[0;34m,\u001b[0m\u001b[0;34m\u001b[0m\u001b[0;34m\u001b[0m\u001b[0m\n\u001b[1;32m     13\u001b[0m         \u001b[0mfs\u001b[0m\u001b[0;34m=\u001b[0m\u001b[0mfs\u001b[0m\u001b[0;34m,\u001b[0m\u001b[0;34m\u001b[0m\u001b[0;34m\u001b[0m\u001b[0m\n",
      "\u001b[0;32m~/miniconda3/envs/asr/lib/python3.8/site-packages/scipy/signal/spectral.py\u001b[0m in \u001b[0;36mstft\u001b[0;34m(x, fs, window, nperseg, noverlap, nfft, detrend, return_onesided, boundary, padded, axis)\u001b[0m\n\u001b[1;32m   1167\u001b[0m     \"\"\"\n\u001b[1;32m   1168\u001b[0m \u001b[0;34m\u001b[0m\u001b[0m\n\u001b[0;32m-> 1169\u001b[0;31m     freqs, time, Zxx = _spectral_helper(x, x, fs, window, nperseg, noverlap,\n\u001b[0m\u001b[1;32m   1170\u001b[0m                                         \u001b[0mnfft\u001b[0m\u001b[0;34m,\u001b[0m \u001b[0mdetrend\u001b[0m\u001b[0;34m,\u001b[0m \u001b[0mreturn_onesided\u001b[0m\u001b[0;34m,\u001b[0m\u001b[0;34m\u001b[0m\u001b[0;34m\u001b[0m\u001b[0m\n\u001b[1;32m   1171\u001b[0m                                         \u001b[0mscaling\u001b[0m\u001b[0;34m=\u001b[0m\u001b[0;34m'spectrum'\u001b[0m\u001b[0;34m,\u001b[0m \u001b[0maxis\u001b[0m\u001b[0;34m=\u001b[0m\u001b[0maxis\u001b[0m\u001b[0;34m,\u001b[0m\u001b[0;34m\u001b[0m\u001b[0;34m\u001b[0m\u001b[0m\n",
      "\u001b[0;32m~/miniconda3/envs/asr/lib/python3.8/site-packages/scipy/signal/spectral.py\u001b[0m in \u001b[0;36m_spectral_helper\u001b[0;34m(x, y, fs, window, nperseg, noverlap, nfft, detrend, return_onesided, scaling, axis, mode, boundary, padded)\u001b[0m\n\u001b[1;32m   1828\u001b[0m \u001b[0;34m\u001b[0m\u001b[0m\n\u001b[1;32m   1829\u001b[0m     \u001b[0;31m# Perform the windowed FFTs\u001b[0m\u001b[0;34m\u001b[0m\u001b[0;34m\u001b[0m\u001b[0;34m\u001b[0m\u001b[0m\n\u001b[0;32m-> 1830\u001b[0;31m     \u001b[0mresult\u001b[0m \u001b[0;34m=\u001b[0m \u001b[0m_fft_helper\u001b[0m\u001b[0;34m(\u001b[0m\u001b[0mx\u001b[0m\u001b[0;34m,\u001b[0m \u001b[0mwin\u001b[0m\u001b[0;34m,\u001b[0m \u001b[0mdetrend_func\u001b[0m\u001b[0;34m,\u001b[0m \u001b[0mnperseg\u001b[0m\u001b[0;34m,\u001b[0m \u001b[0mnoverlap\u001b[0m\u001b[0;34m,\u001b[0m \u001b[0mnfft\u001b[0m\u001b[0;34m,\u001b[0m \u001b[0msides\u001b[0m\u001b[0;34m)\u001b[0m\u001b[0;34m\u001b[0m\u001b[0;34m\u001b[0m\u001b[0m\n\u001b[0m\u001b[1;32m   1831\u001b[0m \u001b[0;34m\u001b[0m\u001b[0m\n\u001b[1;32m   1832\u001b[0m     \u001b[0;32mif\u001b[0m \u001b[0;32mnot\u001b[0m \u001b[0msame_data\u001b[0m\u001b[0;34m:\u001b[0m\u001b[0;34m\u001b[0m\u001b[0;34m\u001b[0m\u001b[0m\n",
      "\u001b[0;32m~/miniconda3/envs/asr/lib/python3.8/site-packages/scipy/signal/spectral.py\u001b[0m in \u001b[0;36m_fft_helper\u001b[0;34m(x, win, detrend_func, nperseg, noverlap, nfft, sides)\u001b[0m\n\u001b[1;32m   1913\u001b[0m         \u001b[0mresult\u001b[0m \u001b[0;34m=\u001b[0m \u001b[0mresult\u001b[0m\u001b[0;34m.\u001b[0m\u001b[0mreal\u001b[0m\u001b[0;34m\u001b[0m\u001b[0;34m\u001b[0m\u001b[0m\n\u001b[1;32m   1914\u001b[0m         \u001b[0mfunc\u001b[0m \u001b[0;34m=\u001b[0m \u001b[0msp_fft\u001b[0m\u001b[0;34m.\u001b[0m\u001b[0mrfft\u001b[0m\u001b[0;34m\u001b[0m\u001b[0;34m\u001b[0m\u001b[0m\n\u001b[0;32m-> 1915\u001b[0;31m     \u001b[0mresult\u001b[0m \u001b[0;34m=\u001b[0m \u001b[0mfunc\u001b[0m\u001b[0;34m(\u001b[0m\u001b[0mresult\u001b[0m\u001b[0;34m,\u001b[0m \u001b[0mn\u001b[0m\u001b[0;34m=\u001b[0m\u001b[0mnfft\u001b[0m\u001b[0;34m)\u001b[0m\u001b[0;34m\u001b[0m\u001b[0;34m\u001b[0m\u001b[0m\n\u001b[0m\u001b[1;32m   1916\u001b[0m \u001b[0;34m\u001b[0m\u001b[0m\n\u001b[1;32m   1917\u001b[0m     \u001b[0;32mreturn\u001b[0m \u001b[0mresult\u001b[0m\u001b[0;34m\u001b[0m\u001b[0;34m\u001b[0m\u001b[0m\n",
      "\u001b[0;31mKeyboardInterrupt\u001b[0m: "
     ]
    }
   ],
   "source": [
    "stft = get_stft(train_sp)\n",
    "\n",
    "image = get_image(stft)\n",
    "del stft; gc.collect()"
   ]
  },
  {
   "cell_type": "code",
   "execution_count": 24,
   "id": "5a546a31",
   "metadata": {},
   "outputs": [],
   "source": [
    "model = models.resnet50()\n",
    "\n",
    "# 这里改成自适应，因为主要是Maxpooling层减小图片尺寸，只要改成自适应就好了\n",
    "for name, layer in model.named_modules():\n",
    "    if isinstance(layer, nn.MaxPool2d):\n",
    "        model.maxpool = nn.AdaptiveAvgPool2d((7, 7))    \n",
    "\n",
    "n_class = 10\n",
    "numFit = model.fc.in_features\n",
    "model.fc = nn.Linear(numFit, n_class) # 直接修改最后一层"
   ]
  },
  {
   "cell_type": "code",
   "execution_count": 25,
   "id": "59e27253",
   "metadata": {},
   "outputs": [],
   "source": [
    "class MyDataset(Dataset):\n",
    "    def __init__(self, file_list, label_list):\n",
    "        self.file_list = file_list\n",
    "        self.label_list = label_list\n",
    "        \n",
    "    def __len__(self):\n",
    "        self.filelength = len(self.file_list)\n",
    "        return self.filelength\n",
    "    \n",
    "    def __getitem__(self, idx):\n",
    "        img = torch.tensor(self.file_list[idx])\n",
    "        label = self.label_list[idx]\n",
    "        \n",
    "        return img, label"
   ]
  },
  {
   "cell_type": "code",
   "execution_count": 26,
   "id": "ef419d25",
   "metadata": {},
   "outputs": [],
   "source": [
    "from sklearn.model_selection import train_test_split"
   ]
  },
  {
   "cell_type": "code",
   "execution_count": 27,
   "id": "7e075300",
   "metadata": {},
   "outputs": [],
   "source": [
    "image_labels = torch.tensor(train_label)\n",
    "x_train, x_test, y_train, y_test = train_test_split(image, image_labels, test_size=0.3, shuffle=True)"
   ]
  },
  {
   "cell_type": "code",
   "execution_count": 29,
   "id": "58010439",
   "metadata": {},
   "outputs": [],
   "source": [
    "batch_size = 64\n",
    "train_data = MyDataset(x_train, y_train)\n",
    "test_data = MyDataset(x_test, y_test)\n",
    "\n",
    "train_loader = torch.utils.data.DataLoader(train_data, batch_size=batch_size, shuffle=True)\n",
    "test_loader = torch.utils.data.DataLoader(test_data, batch_size=batch_size, shuffle=True)\n",
    "\n",
    "device_count = torch.cuda.device_count()\n",
    "USE_CUDA = torch.cuda.is_available()\n",
    "device = torch.device(\"cuda:0\" if USE_CUDA else \"cpu\")\n",
    "\n",
    "if device_count > 1:\n",
    "    model = nn.DataParallel(model,device_ids=range(device_count)) # multi-GPU\n",
    "    model.to(device)\n",
    "\n",
    "else:\n",
    "    model = model.cuda()"
   ]
  },
  {
   "cell_type": "code",
   "execution_count": 30,
   "id": "418c04ed",
   "metadata": {},
   "outputs": [],
   "source": [
    "batch_size = 64\n",
    "epochs = 10\n",
    "lr = 0.001\n",
    "gamma = 0.9\n",
    "step_size = 1\n",
    "\n",
    "criterion = nn.CrossEntropyLoss()\n",
    "optimizer = optim.Adam(model.parameters(), lr=lr)\n",
    "scheduler = optim.lr_scheduler.StepLR(optimizer, step_size=1, gamma=gamma) # 学习方式\n",
    "\n",
    "# 训练模型\n",
    "train_acc, test_acc = [], []"
   ]
  },
  {
   "cell_type": "code",
   "execution_count": 31,
   "id": "c81407e3",
   "metadata": {
    "scrolled": true
   },
   "outputs": [
    {
     "name": "stderr",
     "output_type": "stream",
     "text": [
      "100%|██████████| 768/768 [02:45<00:00,  4.64it/s]\n",
      "100%|██████████| 330/330 [00:43<00:00,  7.54it/s]\n"
     ]
    },
    {
     "name": "stdout",
     "output_type": "stream",
     "text": [
      "EPOCH: 0, train loss:2.3577, train acc:0.2307\n",
      "test loss:2.2446, test acc:0.2646\n"
     ]
    },
    {
     "name": "stderr",
     "output_type": "stream",
     "text": [
      "100%|██████████| 768/768 [02:34<00:00,  4.96it/s]\n",
      "100%|██████████| 330/330 [00:42<00:00,  7.82it/s]\n"
     ]
    },
    {
     "name": "stdout",
     "output_type": "stream",
     "text": [
      "EPOCH: 1, train loss:2.1968, train acc:0.2822\n",
      "test loss:2.1744, test acc:0.3009\n"
     ]
    },
    {
     "name": "stderr",
     "output_type": "stream",
     "text": [
      "100%|██████████| 768/768 [02:27<00:00,  5.22it/s]\n",
      "100%|██████████| 330/330 [00:41<00:00,  7.99it/s]\n"
     ]
    },
    {
     "name": "stdout",
     "output_type": "stream",
     "text": [
      "EPOCH: 2, train loss:1.8964, train acc:0.3908\n",
      "test loss:1.6364, test acc:0.4719\n"
     ]
    },
    {
     "name": "stderr",
     "output_type": "stream",
     "text": [
      "100%|██████████| 768/768 [02:30<00:00,  5.09it/s]\n",
      "100%|██████████| 330/330 [00:41<00:00,  7.88it/s]\n",
      "  0%|          | 0/768 [00:00<?, ?it/s]"
     ]
    },
    {
     "name": "stdout",
     "output_type": "stream",
     "text": [
      "EPOCH: 3, train loss:1.5857, train acc:0.4906\n",
      "test loss:1.4556, test acc:0.5180\n"
     ]
    },
    {
     "name": "stderr",
     "output_type": "stream",
     "text": [
      "100%|██████████| 768/768 [02:30<00:00,  5.09it/s]\n",
      "100%|██████████| 330/330 [00:39<00:00,  8.27it/s]\n"
     ]
    },
    {
     "name": "stdout",
     "output_type": "stream",
     "text": [
      "EPOCH: 4, train loss:1.4016, train acc:0.5430\n",
      "test loss:1.3863, test acc:0.5527\n"
     ]
    },
    {
     "name": "stderr",
     "output_type": "stream",
     "text": [
      "100%|██████████| 768/768 [02:32<00:00,  5.03it/s]\n",
      "100%|██████████| 330/330 [00:41<00:00,  8.03it/s]\n"
     ]
    },
    {
     "name": "stdout",
     "output_type": "stream",
     "text": [
      "EPOCH: 5, train loss:1.3602, train acc:0.5495\n",
      "test loss:1.2562, test acc:0.5784\n"
     ]
    },
    {
     "name": "stderr",
     "output_type": "stream",
     "text": [
      "100%|██████████| 768/768 [02:27<00:00,  5.21it/s]\n",
      "100%|██████████| 330/330 [00:40<00:00,  8.14it/s]\n"
     ]
    },
    {
     "name": "stdout",
     "output_type": "stream",
     "text": [
      "EPOCH: 6, train loss:1.1469, train acc:0.6177\n",
      "test loss:1.1327, test acc:0.6295\n"
     ]
    },
    {
     "name": "stderr",
     "output_type": "stream",
     "text": [
      "100%|██████████| 768/768 [02:26<00:00,  5.25it/s]\n",
      "100%|██████████| 330/330 [00:42<00:00,  7.85it/s]\n",
      "  0%|          | 0/768 [00:00<?, ?it/s]"
     ]
    },
    {
     "name": "stdout",
     "output_type": "stream",
     "text": [
      "EPOCH: 7, train loss:1.0187, train acc:0.6570\n",
      "test loss:0.9908, test acc:0.6660\n"
     ]
    },
    {
     "name": "stderr",
     "output_type": "stream",
     "text": [
      "100%|██████████| 768/768 [02:27<00:00,  5.22it/s]\n",
      "100%|██████████| 330/330 [00:38<00:00,  8.47it/s]\n",
      "  0%|          | 0/768 [00:00<?, ?it/s]"
     ]
    },
    {
     "name": "stdout",
     "output_type": "stream",
     "text": [
      "EPOCH: 8, train loss:0.9575, train acc:0.6722\n",
      "test loss:0.9815, test acc:0.6689\n"
     ]
    },
    {
     "name": "stderr",
     "output_type": "stream",
     "text": [
      "100%|██████████| 768/768 [02:29<00:00,  5.12it/s]\n",
      "100%|██████████| 330/330 [00:39<00:00,  8.33it/s]"
     ]
    },
    {
     "name": "stdout",
     "output_type": "stream",
     "text": [
      "EPOCH: 9, train loss:0.9131, train acc:0.6849\n",
      "test loss:0.9100, test acc:0.6931\n"
     ]
    },
    {
     "name": "stderr",
     "output_type": "stream",
     "text": [
      "\n"
     ]
    }
   ],
   "source": [
    "for epoch in range(epochs):\n",
    "    epoch_loss = 0\n",
    "    epoch_accuracy = 0\n",
    "    for data, label in tqdm(train_loader):\n",
    "        data = data.cuda()\n",
    "        label = label.cuda()\n",
    "        output = model(data)\n",
    "    \n",
    "        loss = criterion(output, label)\n",
    "        \n",
    "        optimizer.zero_grad()\n",
    "        loss.backward()\n",
    "        optimizer.step()\n",
    "        \n",
    "        acc = (output.argmax(dim=1) == label).float().mean()\n",
    "        epoch_accuracy += acc / len(train_loader)\n",
    "        epoch_loss += loss / len(train_loader)\n",
    "        \n",
    "        data.cpu()\n",
    "        label.cpu()\n",
    "        \n",
    "    with torch.no_grad():\n",
    "        epoch_test_accuracy = 0\n",
    "        epoch_test_loss = 0\n",
    "        for data, label in tqdm(test_loader):\n",
    "            data = data.cuda()\n",
    "            label = label.cuda()\n",
    "            \n",
    "            test_output = model(data)\n",
    "            test_loss = criterion(test_output, label)\n",
    "            \n",
    "            acc = (test_output.argmax(dim=1) == label).float().mean()\n",
    "            epoch_test_accuracy += acc / len(test_loader)\n",
    "            epoch_test_loss += test_loss / len(test_loader)\n",
    "            data.cpu()\n",
    "            label.cpu()\n",
    "    scheduler.step()        \n",
    "    print(f'EPOCH:{epoch:2}, train loss:{epoch_loss:.4f}, train acc:{epoch_accuracy:.4f}')\n",
    "    print(f'test loss:{epoch_test_loss:.4f}, test acc:{epoch_test_accuracy:.4f}')\n",
    "\n",
    "    train_acc.append(epoch_accuracy)\n",
    "    test_acc.append(epoch_test_accuracy)"
   ]
  },
  {
   "cell_type": "code",
   "execution_count": 144,
   "id": "51b0f2a4",
   "metadata": {},
   "outputs": [
    {
     "ename": "RuntimeError",
     "evalue": "CUDA out of memory. Tried to allocate 79.73 GiB (GPU 0; 22.38 GiB total capacity; 15.24 GiB already allocated; 6.24 GiB free; 15.42 GiB reserved in total by PyTorch)",
     "output_type": "error",
     "traceback": [
      "\u001b[0;31m--------------------------------------------------------------------------\u001b[0m",
      "\u001b[0;31mRuntimeError\u001b[0m                             Traceback (most recent call last)",
      "\u001b[0;32m<ipython-input-144-ce87397f2795>\u001b[0m in \u001b[0;36m<module>\u001b[0;34m\u001b[0m\n\u001b[0;32m----> 1\u001b[0;31m \u001b[0mmodel\u001b[0m\u001b[0;34m(\u001b[0m\u001b[0mtorch\u001b[0m\u001b[0;34m.\u001b[0m\u001b[0mFloatTensor\u001b[0m\u001b[0;34m(\u001b[0m\u001b[0mx_test\u001b[0m\u001b[0;34m)\u001b[0m\u001b[0;34m.\u001b[0m\u001b[0mto\u001b[0m\u001b[0;34m(\u001b[0m\u001b[0mdevice\u001b[0m\u001b[0;34m)\u001b[0m\u001b[0;34m)\u001b[0m\u001b[0;34m\u001b[0m\u001b[0;34m\u001b[0m\u001b[0m\n\u001b[0m",
      "\u001b[0;32m~/miniconda3/envs/asr/lib/python3.8/site-packages/torch/nn/modules/module.py\u001b[0m in \u001b[0;36m_call_impl\u001b[0;34m(self, *input, **kwargs)\u001b[0m\n\u001b[1;32m    887\u001b[0m             \u001b[0mresult\u001b[0m \u001b[0;34m=\u001b[0m \u001b[0mself\u001b[0m\u001b[0;34m.\u001b[0m\u001b[0m_slow_forward\u001b[0m\u001b[0;34m(\u001b[0m\u001b[0;34m*\u001b[0m\u001b[0minput\u001b[0m\u001b[0;34m,\u001b[0m \u001b[0;34m**\u001b[0m\u001b[0mkwargs\u001b[0m\u001b[0;34m)\u001b[0m\u001b[0;34m\u001b[0m\u001b[0;34m\u001b[0m\u001b[0m\n\u001b[1;32m    888\u001b[0m         \u001b[0;32melse\u001b[0m\u001b[0;34m:\u001b[0m\u001b[0;34m\u001b[0m\u001b[0;34m\u001b[0m\u001b[0m\n\u001b[0;32m--> 889\u001b[0;31m             \u001b[0mresult\u001b[0m \u001b[0;34m=\u001b[0m \u001b[0mself\u001b[0m\u001b[0;34m.\u001b[0m\u001b[0mforward\u001b[0m\u001b[0;34m(\u001b[0m\u001b[0;34m*\u001b[0m\u001b[0minput\u001b[0m\u001b[0;34m,\u001b[0m \u001b[0;34m**\u001b[0m\u001b[0mkwargs\u001b[0m\u001b[0;34m)\u001b[0m\u001b[0;34m\u001b[0m\u001b[0;34m\u001b[0m\u001b[0m\n\u001b[0m\u001b[1;32m    890\u001b[0m         for hook in itertools.chain(\n\u001b[1;32m    891\u001b[0m                 \u001b[0m_global_forward_hooks\u001b[0m\u001b[0;34m.\u001b[0m\u001b[0mvalues\u001b[0m\u001b[0;34m(\u001b[0m\u001b[0;34m)\u001b[0m\u001b[0;34m,\u001b[0m\u001b[0;34m\u001b[0m\u001b[0;34m\u001b[0m\u001b[0m\n",
      "\u001b[0;32m~/miniconda3/envs/asr/lib/python3.8/site-packages/torchvision/models/resnet.py\u001b[0m in \u001b[0;36mforward\u001b[0;34m(self, x)\u001b[0m\n\u001b[1;32m    247\u001b[0m \u001b[0;34m\u001b[0m\u001b[0m\n\u001b[1;32m    248\u001b[0m     \u001b[0;32mdef\u001b[0m \u001b[0mforward\u001b[0m\u001b[0;34m(\u001b[0m\u001b[0mself\u001b[0m\u001b[0;34m,\u001b[0m \u001b[0mx\u001b[0m\u001b[0;34m:\u001b[0m \u001b[0mTensor\u001b[0m\u001b[0;34m)\u001b[0m \u001b[0;34m->\u001b[0m \u001b[0mTensor\u001b[0m\u001b[0;34m:\u001b[0m\u001b[0;34m\u001b[0m\u001b[0;34m\u001b[0m\u001b[0m\n\u001b[0;32m--> 249\u001b[0;31m         \u001b[0;32mreturn\u001b[0m \u001b[0mself\u001b[0m\u001b[0;34m.\u001b[0m\u001b[0m_forward_impl\u001b[0m\u001b[0;34m(\u001b[0m\u001b[0mx\u001b[0m\u001b[0;34m)\u001b[0m\u001b[0;34m\u001b[0m\u001b[0;34m\u001b[0m\u001b[0m\n\u001b[0m\u001b[1;32m    250\u001b[0m \u001b[0;34m\u001b[0m\u001b[0m\n\u001b[1;32m    251\u001b[0m \u001b[0;34m\u001b[0m\u001b[0m\n",
      "\u001b[0;32m~/miniconda3/envs/asr/lib/python3.8/site-packages/torchvision/models/resnet.py\u001b[0m in \u001b[0;36m_forward_impl\u001b[0;34m(self, x)\u001b[0m\n\u001b[1;32m    230\u001b[0m     \u001b[0;32mdef\u001b[0m \u001b[0m_forward_impl\u001b[0m\u001b[0;34m(\u001b[0m\u001b[0mself\u001b[0m\u001b[0;34m,\u001b[0m \u001b[0mx\u001b[0m\u001b[0;34m:\u001b[0m \u001b[0mTensor\u001b[0m\u001b[0;34m)\u001b[0m \u001b[0;34m->\u001b[0m \u001b[0mTensor\u001b[0m\u001b[0;34m:\u001b[0m\u001b[0;34m\u001b[0m\u001b[0;34m\u001b[0m\u001b[0m\n\u001b[1;32m    231\u001b[0m         \u001b[0;31m# See note [TorchScript super()]\u001b[0m\u001b[0;34m\u001b[0m\u001b[0;34m\u001b[0m\u001b[0;34m\u001b[0m\u001b[0m\n\u001b[0;32m--> 232\u001b[0;31m         \u001b[0mx\u001b[0m \u001b[0;34m=\u001b[0m \u001b[0mself\u001b[0m\u001b[0;34m.\u001b[0m\u001b[0mconv1\u001b[0m\u001b[0;34m(\u001b[0m\u001b[0mx\u001b[0m\u001b[0;34m)\u001b[0m\u001b[0;34m\u001b[0m\u001b[0;34m\u001b[0m\u001b[0m\n\u001b[0m\u001b[1;32m    233\u001b[0m         \u001b[0mx\u001b[0m \u001b[0;34m=\u001b[0m \u001b[0mself\u001b[0m\u001b[0;34m.\u001b[0m\u001b[0mbn1\u001b[0m\u001b[0;34m(\u001b[0m\u001b[0mx\u001b[0m\u001b[0;34m)\u001b[0m\u001b[0;34m\u001b[0m\u001b[0;34m\u001b[0m\u001b[0m\n\u001b[1;32m    234\u001b[0m         \u001b[0mx\u001b[0m \u001b[0;34m=\u001b[0m \u001b[0mself\u001b[0m\u001b[0;34m.\u001b[0m\u001b[0mrelu\u001b[0m\u001b[0;34m(\u001b[0m\u001b[0mx\u001b[0m\u001b[0;34m)\u001b[0m\u001b[0;34m\u001b[0m\u001b[0;34m\u001b[0m\u001b[0m\n",
      "\u001b[0;32m~/miniconda3/envs/asr/lib/python3.8/site-packages/torch/nn/modules/module.py\u001b[0m in \u001b[0;36m_call_impl\u001b[0;34m(self, *input, **kwargs)\u001b[0m\n\u001b[1;32m    887\u001b[0m             \u001b[0mresult\u001b[0m \u001b[0;34m=\u001b[0m \u001b[0mself\u001b[0m\u001b[0;34m.\u001b[0m\u001b[0m_slow_forward\u001b[0m\u001b[0;34m(\u001b[0m\u001b[0;34m*\u001b[0m\u001b[0minput\u001b[0m\u001b[0;34m,\u001b[0m \u001b[0;34m**\u001b[0m\u001b[0mkwargs\u001b[0m\u001b[0;34m)\u001b[0m\u001b[0;34m\u001b[0m\u001b[0;34m\u001b[0m\u001b[0m\n\u001b[1;32m    888\u001b[0m         \u001b[0;32melse\u001b[0m\u001b[0;34m:\u001b[0m\u001b[0;34m\u001b[0m\u001b[0;34m\u001b[0m\u001b[0m\n\u001b[0;32m--> 889\u001b[0;31m             \u001b[0mresult\u001b[0m \u001b[0;34m=\u001b[0m \u001b[0mself\u001b[0m\u001b[0;34m.\u001b[0m\u001b[0mforward\u001b[0m\u001b[0;34m(\u001b[0m\u001b[0;34m*\u001b[0m\u001b[0minput\u001b[0m\u001b[0;34m,\u001b[0m \u001b[0;34m**\u001b[0m\u001b[0mkwargs\u001b[0m\u001b[0;34m)\u001b[0m\u001b[0;34m\u001b[0m\u001b[0;34m\u001b[0m\u001b[0m\n\u001b[0m\u001b[1;32m    890\u001b[0m         for hook in itertools.chain(\n\u001b[1;32m    891\u001b[0m                 \u001b[0m_global_forward_hooks\u001b[0m\u001b[0;34m.\u001b[0m\u001b[0mvalues\u001b[0m\u001b[0;34m(\u001b[0m\u001b[0;34m)\u001b[0m\u001b[0;34m,\u001b[0m\u001b[0;34m\u001b[0m\u001b[0;34m\u001b[0m\u001b[0m\n",
      "\u001b[0;32m~/miniconda3/envs/asr/lib/python3.8/site-packages/torch/nn/modules/conv.py\u001b[0m in \u001b[0;36mforward\u001b[0;34m(self, input)\u001b[0m\n\u001b[1;32m    397\u001b[0m \u001b[0;34m\u001b[0m\u001b[0m\n\u001b[1;32m    398\u001b[0m     \u001b[0;32mdef\u001b[0m \u001b[0mforward\u001b[0m\u001b[0;34m(\u001b[0m\u001b[0mself\u001b[0m\u001b[0;34m,\u001b[0m \u001b[0minput\u001b[0m\u001b[0;34m:\u001b[0m \u001b[0mTensor\u001b[0m\u001b[0;34m)\u001b[0m \u001b[0;34m->\u001b[0m \u001b[0mTensor\u001b[0m\u001b[0;34m:\u001b[0m\u001b[0;34m\u001b[0m\u001b[0;34m\u001b[0m\u001b[0m\n\u001b[0;32m--> 399\u001b[0;31m         \u001b[0;32mreturn\u001b[0m \u001b[0mself\u001b[0m\u001b[0;34m.\u001b[0m\u001b[0m_conv_forward\u001b[0m\u001b[0;34m(\u001b[0m\u001b[0minput\u001b[0m\u001b[0;34m,\u001b[0m \u001b[0mself\u001b[0m\u001b[0;34m.\u001b[0m\u001b[0mweight\u001b[0m\u001b[0;34m,\u001b[0m \u001b[0mself\u001b[0m\u001b[0;34m.\u001b[0m\u001b[0mbias\u001b[0m\u001b[0;34m)\u001b[0m\u001b[0;34m\u001b[0m\u001b[0;34m\u001b[0m\u001b[0m\n\u001b[0m\u001b[1;32m    400\u001b[0m \u001b[0;34m\u001b[0m\u001b[0m\n\u001b[1;32m    401\u001b[0m \u001b[0;32mclass\u001b[0m \u001b[0mConv3d\u001b[0m\u001b[0;34m(\u001b[0m\u001b[0m_ConvNd\u001b[0m\u001b[0;34m)\u001b[0m\u001b[0;34m:\u001b[0m\u001b[0;34m\u001b[0m\u001b[0;34m\u001b[0m\u001b[0m\n",
      "\u001b[0;32m~/miniconda3/envs/asr/lib/python3.8/site-packages/torch/nn/modules/conv.py\u001b[0m in \u001b[0;36m_conv_forward\u001b[0;34m(self, input, weight, bias)\u001b[0m\n\u001b[1;32m    393\u001b[0m                             \u001b[0mweight\u001b[0m\u001b[0;34m,\u001b[0m \u001b[0mbias\u001b[0m\u001b[0;34m,\u001b[0m \u001b[0mself\u001b[0m\u001b[0;34m.\u001b[0m\u001b[0mstride\u001b[0m\u001b[0;34m,\u001b[0m\u001b[0;34m\u001b[0m\u001b[0;34m\u001b[0m\u001b[0m\n\u001b[1;32m    394\u001b[0m                             _pair(0), self.dilation, self.groups)\n\u001b[0;32m--> 395\u001b[0;31m         return F.conv2d(input, weight, bias, self.stride,\n\u001b[0m\u001b[1;32m    396\u001b[0m                         self.padding, self.dilation, self.groups)\n\u001b[1;32m    397\u001b[0m \u001b[0;34m\u001b[0m\u001b[0m\n",
      "\u001b[0;31mRuntimeError\u001b[0m: CUDA out of memory. Tried to allocate 79.73 GiB (GPU 0; 22.38 GiB total capacity; 15.24 GiB already allocated; 6.24 GiB free; 15.42 GiB reserved in total by PyTorch)"
     ]
    }
   ],
   "source": [
    "# 直接将所有的放进去容易显存溢出，所以要分批次放入\n",
    "model(torch.FloatTensor(x_test).to(device))"
   ]
  },
  {
   "cell_type": "code",
   "execution_count": 145,
   "id": "70e449a4",
   "metadata": {},
   "outputs": [],
   "source": [
    "model_save_name = 'resnet_best_model.point'\n",
    "torch.save(model.state_dict(), model_save_name)"
   ]
  },
  {
   "cell_type": "code",
   "execution_count": 151,
   "id": "ccf57ebc",
   "metadata": {},
   "outputs": [],
   "source": [
    "preds = np.zeros(x_test.shape[0])"
   ]
  },
  {
   "cell_type": "code",
   "execution_count": 152,
   "id": "906811b0",
   "metadata": {},
   "outputs": [
    {
     "data": {
      "text/plain": [
       "(21063,)"
      ]
     },
     "execution_count": 152,
     "metadata": {},
     "output_type": "execute_result"
    }
   ],
   "source": [
    "preds.shape"
   ]
  },
  {
   "cell_type": "code",
   "execution_count": 153,
   "id": "85b23be7",
   "metadata": {},
   "outputs": [
    {
     "data": {
      "text/plain": [
       "(21063, 3, 251, 251)"
      ]
     },
     "execution_count": 153,
     "metadata": {},
     "output_type": "execute_result"
    }
   ],
   "source": [
    "x_test.shape"
   ]
  },
  {
   "cell_type": "code",
   "execution_count": 154,
   "id": "0b59fd57",
   "metadata": {},
   "outputs": [
    {
     "data": {
      "text/plain": [
       "array([0., 0., 0., ..., 0., 0., 0.])"
      ]
     },
     "execution_count": 154,
     "metadata": {},
     "output_type": "execute_result"
    }
   ],
   "source": [
    "preds"
   ]
  },
  {
   "cell_type": "code",
   "execution_count": 168,
   "id": "ece02c28",
   "metadata": {},
   "outputs": [],
   "source": [
    "x_test_t = torch.FloatTensor(x_test)"
   ]
  },
  {
   "cell_type": "code",
   "execution_count": 174,
   "id": "2bc05270",
   "metadata": {},
   "outputs": [],
   "source": [
    "res = torch.chunk(x_test_t, chunks=128, dim=0)"
   ]
  },
  {
   "cell_type": "code",
   "execution_count": 177,
   "id": "5fabb529",
   "metadata": {},
   "outputs": [
    {
     "data": {
      "text/plain": [
       "torch.Size([165, 3, 251, 251])"
      ]
     },
     "execution_count": 177,
     "metadata": {},
     "output_type": "execute_result"
    }
   ],
   "source": [
    "res[-2].shape"
   ]
  },
  {
   "cell_type": "code",
   "execution_count": 163,
   "id": "eda74aa8",
   "metadata": {},
   "outputs": [],
   "source": [
    "batch = 128\n",
    "res = np.array_split(x_test, batch, axis=0)\n"
   ]
  },
  {
   "cell_type": "code",
   "execution_count": 164,
   "id": "da917aac",
   "metadata": {},
   "outputs": [
    {
     "data": {
      "text/plain": [
       "(165, 3, 251, 251)"
      ]
     },
     "execution_count": 164,
     "metadata": {},
     "output_type": "execute_result"
    }
   ],
   "source": [
    "res[0].shape"
   ]
  },
  {
   "cell_type": "code",
   "execution_count": 165,
   "id": "40cf5fc0",
   "metadata": {},
   "outputs": [
    {
     "data": {
      "text/plain": [
       "(164, 3, 251, 251)"
      ]
     },
     "execution_count": 165,
     "metadata": {},
     "output_type": "execute_result"
    }
   ],
   "source": [
    "res[-1].shape"
   ]
  },
  {
   "cell_type": "code",
   "execution_count": 166,
   "id": "727481a6",
   "metadata": {},
   "outputs": [
    {
     "data": {
      "text/plain": [
       "(164, 3, 251, 251)"
      ]
     },
     "execution_count": 166,
     "metadata": {},
     "output_type": "execute_result"
    }
   ],
   "source": [
    "res[-2].shape"
   ]
  },
  {
   "cell_type": "code",
   "execution_count": 197,
   "id": "bb8d9f5d",
   "metadata": {},
   "outputs": [],
   "source": [
    "def get_submmit(model, test, batch=128, dim=0):\n",
    "    # 初始化结果提交向量\n",
    "    # test为numpy类型的数据\n",
    "    preds = np.zeros(test.shape[0])\n",
    "    res = torch.FloatTensor(test)\n",
    "    res = torch.chunk(res, chunks=batch, dim=dim)\n",
    "    start = 0\n",
    "    end = 0\n",
    "    for chunk_data in tqdm(res):\n",
    "        chunk_data = chunk_data.to(device)\n",
    "        output = model(chunk_data).argmax(dim=1).detach().cpu().numpy()\n",
    "        end += output.shape[0]\n",
    "        preds[start:end] = output\n",
    "        start = end\n",
    "        \n",
    "    return preds"
   ]
  },
  {
   "cell_type": "code",
   "execution_count": 198,
   "id": "d3c38e09",
   "metadata": {
    "scrolled": true
   },
   "outputs": [
    {
     "name": "stderr",
     "output_type": "stream",
     "text": [
      "100%|██████████| 128/128 [00:11<00:00, 11.57it/s]\n"
     ]
    }
   ],
   "source": [
    "preds = get_submmit(model, x_test)"
   ]
  },
  {
   "cell_type": "code",
   "execution_count": 205,
   "id": "9ef4adf6",
   "metadata": {},
   "outputs": [
    {
     "data": {
      "text/plain": [
       "0.6973840383611072"
      ]
     },
     "execution_count": 205,
     "metadata": {},
     "output_type": "execute_result"
    }
   ],
   "source": [
    "(preds == y_test.numpy()).sum()/preds.shape[0]"
   ]
  },
  {
   "cell_type": "code",
   "execution_count": 202,
   "id": "1b93fa2f",
   "metadata": {},
   "outputs": [
    {
     "data": {
      "text/plain": [
       "array([6, 1, 9, ..., 1, 1, 3])"
      ]
     },
     "execution_count": 202,
     "metadata": {},
     "output_type": "execute_result"
    }
   ],
   "source": [
    "y_test.numpy()"
   ]
  },
  {
   "cell_type": "code",
   "execution_count": 207,
   "id": "cabb83cc",
   "metadata": {},
   "outputs": [],
   "source": [
    "np.save('preds.npy', preds)"
   ]
  },
  {
   "cell_type": "markdown",
   "id": "9ec54e4c",
   "metadata": {},
   "source": [
    "## Resnet50 or 18"
   ]
  },
  {
   "cell_type": "code",
   "execution_count": 9,
   "id": "ecfb2542",
   "metadata": {},
   "outputs": [],
   "source": [
    "import os\n",
    "import numpy as np\n",
    "import pandas as pd\n",
    "from collections import Counter\n",
    "import torch\n",
    "import torch.nn as nn\n",
    "import torchvision\n",
    "from tqdm import tqdm\n",
    "import torch.optim as optim\n",
    "from torchvision import datasets, transforms\n",
    "from torch.utils.data import TensorDataset, DataLoader, Dataset\n",
    "from scipy import signal\n",
    "import gc\n",
    "from torchvision import models\n",
    "\n",
    "# 固定随机数种子，确保实验的可重复性\n",
    "def set_seed(seed=42):\n",
    "    np.random.seed(seed)\n",
    "    torch.manual_seed(seed)\n",
    "    torch.cuda.manual_seed_all(seed)\n",
    "    torch.backends.cudnn.deterministic = True\n",
    "\n",
    "set_seed(42)\n",
    "device = torch.device(\"cuda:0\" if torch.cuda.is_available() else \"cpu\")"
   ]
  },
  {
   "cell_type": "code",
   "execution_count": 46,
   "id": "0c67d80f",
   "metadata": {},
   "outputs": [
    {
     "name": "stdout",
     "output_type": "stream",
     "text": [
      "Stage 1: load data\n"
     ]
    }
   ],
   "source": [
    "train_path = './train'\n",
    "val_path = './val'\n",
    "test_path = './test'\n",
    "\n",
    "# 读取训练集，测试集和验证集\n",
    "print('Stage 1: load data')\n",
    "\n",
    "train = np.load(train_path + '/' + '10type_sort_train_data_8192.npy')\n",
    "test = np.load(test_path + '/' + '10type_sort_test_data_8192.npy')\n",
    "val = np.load(val_path + '/' + '10type_sort_eval_data_8192.npy')\n",
    "\n",
    "# 读取训练集和验证集的标签，测试集是没有标签的，需要你使用模型进行分类，并将结果进行提交\n",
    "train_label = np.load(train_path + '/' + '10type_sort_train_label_8192.npy')\n",
    "val_label = np.load(val_path + '/' + '10type_sort_eval_label_8192.npy')\n",
    "\n",
    "def get_fft_and_scaler(data, start=5192, end=8192):\n",
    "    data = np.fft.fft(data)\n",
    "    data = np.abs(data)\n",
    "    data = data/np.expand_dims(data.max(axis=1), axis=1)\n",
    "    return data[:,start:end]\n",
    "\n",
    "def get_stft(\n",
    "        data,\n",
    "        nfft=126,\n",
    "        x=126,\n",
    "        y=126,\n",
    "        windows=30,\n",
    "        oneside=False,\n",
    "        overlap=6,\n",
    "        dtype='complex64'):\n",
    "    fs = 122.68e6\n",
    "    result = np.zeros((data.shape[0], x, y), dtype=dtype)\n",
    "    for idx, i in enumerate(tqdm(data)):\n",
    "        f, t, zxx = signal.stft(\n",
    "        i,\n",
    "        fs=fs,\n",
    "        nfft=nfft,\n",
    "        window=signal.get_window('hann', windows),\n",
    "        noverlap=overlap,\n",
    "        nperseg=windows,\n",
    "        return_onesided=oneside) # 设置双边谱\n",
    "        result[idx, :] = zxx[:, :].astype(dtype)\n",
    "    return result\n",
    "\n",
    "def get_image(stft, dtype='float32'):\n",
    "    real = np.zeros_like(stft, dtype=dtype)\n",
    "    imag = np.zeros_like(stft, dtype=dtype)\n",
    "    angel = np.zeros_like(stft, dtype=dtype)\n",
    "    for idx, i in enumerate(tqdm(stft)):\n",
    "        temp_imag = i.imag\n",
    "        real[idx, :] = i.real.astype(dtype)\n",
    "        imag[idx, :] = i.imag.astype(dtype)\n",
    "        angel[idx, :] = np.arctan(i.real/i.imag).astype(dtype)\n",
    "    length = len(real)\n",
    "    image = np.stack([real, imag, angel], axis=1) # 这里只要将维度设置为1即可\n",
    "    del real, imag, angel; gc.collect()\n",
    "    return image"
   ]
  },
  {
   "cell_type": "code",
   "execution_count": 47,
   "id": "99a9f4ea",
   "metadata": {},
   "outputs": [
    {
     "name": "stdout",
     "output_type": "stream",
     "text": [
      "stage 2: data split\n"
     ]
    }
   ],
   "source": [
    "# 获取切分的数据\n",
    "print(\"stage 2: data split\")\n",
    "train_sp = get_fft_and_scaler(train)\n",
    "test_sp = get_fft_and_scaler(test)\n",
    "val_sp = get_fft_and_scaler(val)"
   ]
  },
  {
   "cell_type": "code",
   "execution_count": 48,
   "id": "e2d8ed7a",
   "metadata": {},
   "outputs": [
    {
     "name": "stderr",
     "output_type": "stream",
     "text": [
      "  0%|          | 213/70209 [00:00<00:32, 2124.77it/s]"
     ]
    },
    {
     "name": "stdout",
     "output_type": "stream",
     "text": [
      "Stage 3: data transform(fft series --> image)\n"
     ]
    },
    {
     "name": "stderr",
     "output_type": "stream",
     "text": [
      "100%|██████████| 70209/70209 [00:32<00:00, 2134.81it/s]\n",
      "  0%|          | 0/70209 [00:00<?, ?it/s]<ipython-input-46-0eb06601b146>:53: RuntimeWarning: divide by zero encountered in true_divide\n",
      "  angel[idx, :] = np.arctan(i.real/i.imag).astype(dtype)\n",
      "100%|██████████| 70209/70209 [00:24<00:00, 2810.00it/s]\n",
      "100%|██████████| 23403/23403 [00:11<00:00, 2125.69it/s]\n",
      "100%|██████████| 23403/23403 [00:08<00:00, 2809.57it/s]\n",
      "100%|██████████| 23403/23403 [00:11<00:00, 2120.64it/s]\n",
      "100%|██████████| 23403/23403 [00:08<00:00, 2811.14it/s]\n"
     ]
    },
    {
     "data": {
      "text/plain": [
       "0"
      ]
     },
     "execution_count": 48,
     "metadata": {},
     "output_type": "execute_result"
    }
   ],
   "source": [
    "# 将数据转换成图片\n",
    "print('Stage 3: data transform(fft series --> image)')\n",
    "\n",
    "train_stft = get_stft(train_sp)\n",
    "del train_sp; gc.collect()\n",
    "train_image = get_image(train_stft)\n",
    "del train_stft; gc.collect()\n",
    "\n",
    "val_stft = get_stft(val_sp)\n",
    "del val_sp; gc.collect()\n",
    "val_image = get_image(val_stft)\n",
    "del val_stft; gc.collect()\n",
    "\n",
    "test_stft = get_stft(test_sp)\n",
    "del test_sp; gc.collect()\n",
    "test_image = get_image(test_stft)\n",
    "del test_stft; gc.collect()"
   ]
  },
  {
   "cell_type": "code",
   "execution_count": 53,
   "id": "4d055324",
   "metadata": {},
   "outputs": [],
   "source": [
    "class MyDataset(Dataset):\n",
    "    def __init__(self, file_list, label_list):\n",
    "        self.file_list = file_list\n",
    "        self.label_list = label_list\n",
    "\n",
    "    def __len__(self):\n",
    "        self.filelength = len(self.file_list)\n",
    "        return self.filelength\n",
    "\n",
    "    def __getitem__(self, idx):\n",
    "        img = torch.tensor(self.file_list[idx])\n",
    "        label = self.label_list[idx]\n",
    "\n",
    "        return img, label\n",
    "\n",
    "# 数据是10分类所以设置为10\n",
    "n_class = 10\n",
    "batch_size = 64\n",
    "epochs = 15\n",
    "lr = 0.001\n",
    "gamma = 0.9\n",
    "step_size = 1\n",
    "\n",
    "# 将训练集和验证机封装成torch的数据，方便dataloader读取数据\n",
    "# 这里直接传如numpy数据即可\n",
    "train_data = MyDataset(train_image, train_label)\n",
    "val_data = MyDataset(val_image, val_label)\n",
    "\n",
    "train_loader = torch.utils.data.DataLoader(train_data, batch_size=batch_size, shuffle=True, drop_last=True)\n",
    "val_loader = torch.utils.data.DataLoader(val_data, batch_size=batch_size, shuffle=True, drop_last=True)"
   ]
  },
  {
   "cell_type": "code",
   "execution_count": 54,
   "id": "719ec55c",
   "metadata": {},
   "outputs": [],
   "source": [
    "# 设置模型\n",
    "device = torch.device('cuda' if torch.cuda.is_available() else 'cpu')\n",
    "choose = 18\n",
    "if choose == 18:\n",
    "    model = models.resnet18().to(device)\n",
    "else:\n",
    "    model = models.resnet50().to(device)\n",
    "# 这里改成自适应，因为主要是Maxpooling层减小图片尺寸，只要改成自适应就好了\n",
    "for name, layer in model.named_modules():\n",
    "    if isinstance(layer, nn.MaxPool2d):\n",
    "        model.maxpool = nn.AdaptiveAvgPool2d((7, 7))\n",
    "\n",
    "model.fc.in_features = n_class\n",
    "\n",
    "criterion = nn.CrossEntropyLoss()\n",
    "optimizer = optim.Adam(model.parameters(), lr=lr)\n",
    "scheduler = optim.lr_scheduler.StepLR(optimizer, step_size= step_size, gamma=gamma) # 学习方式"
   ]
  },
  {
   "cell_type": "code",
   "execution_count": 55,
   "id": "45137e2d",
   "metadata": {
    "scrolled": true
   },
   "outputs": [
    {
     "name": "stderr",
     "output_type": "stream",
     "text": [
      "  0%|          | 3/1097 [00:00<00:51, 21.24it/s]"
     ]
    },
    {
     "name": "stdout",
     "output_type": "stream",
     "text": [
      "Stage 4: train model\n"
     ]
    },
    {
     "name": "stderr",
     "output_type": "stream",
     "text": [
      "100%|██████████| 1097/1097 [00:44<00:00, 24.81it/s]\n",
      "100%|██████████| 365/365 [00:05<00:00, 62.88it/s]\n",
      "  0%|          | 3/1097 [00:00<00:45, 24.10it/s]"
     ]
    },
    {
     "name": "stdout",
     "output_type": "stream",
     "text": [
      "EPOCH: 0, train loss:1.9216, train acc:0.3552\n",
      "test loss:1.7626, test acc:0.4175\n"
     ]
    },
    {
     "name": "stderr",
     "output_type": "stream",
     "text": [
      "100%|██████████| 1097/1097 [00:44<00:00, 24.90it/s]\n",
      "100%|██████████| 365/365 [00:05<00:00, 62.50it/s]\n",
      "  0%|          | 3/1097 [00:00<00:45, 24.07it/s]"
     ]
    },
    {
     "name": "stdout",
     "output_type": "stream",
     "text": [
      "EPOCH: 1, train loss:1.2629, train acc:0.5752\n",
      "test loss:1.6958, test acc:0.4687\n"
     ]
    },
    {
     "name": "stderr",
     "output_type": "stream",
     "text": [
      "100%|██████████| 1097/1097 [00:43<00:00, 24.98it/s]\n",
      "100%|██████████| 365/365 [00:05<00:00, 62.49it/s]\n",
      "  0%|          | 0/1097 [00:00<?, ?it/s]"
     ]
    },
    {
     "name": "stdout",
     "output_type": "stream",
     "text": [
      "EPOCH: 2, train loss:1.0348, train acc:0.6452\n",
      "test loss:1.8046, test acc:0.4489\n"
     ]
    },
    {
     "name": "stderr",
     "output_type": "stream",
     "text": [
      "100%|██████████| 1097/1097 [00:43<00:00, 24.93it/s]\n",
      "100%|██████████| 365/365 [00:05<00:00, 62.81it/s]\n",
      "  0%|          | 0/1097 [00:00<?, ?it/s]"
     ]
    },
    {
     "name": "stdout",
     "output_type": "stream",
     "text": [
      "EPOCH: 3, train loss:0.9138, train acc:0.6837\n",
      "test loss:1.7745, test acc:0.4690\n"
     ]
    },
    {
     "name": "stderr",
     "output_type": "stream",
     "text": [
      "100%|██████████| 1097/1097 [00:44<00:00, 24.85it/s]\n",
      "100%|██████████| 365/365 [00:05<00:00, 62.60it/s]\n",
      "  0%|          | 0/1097 [00:00<?, ?it/s]"
     ]
    },
    {
     "name": "stdout",
     "output_type": "stream",
     "text": [
      "EPOCH: 4, train loss:0.8426, train acc:0.7065\n",
      "test loss:1.8476, test acc:0.4825\n"
     ]
    },
    {
     "name": "stderr",
     "output_type": "stream",
     "text": [
      "100%|██████████| 1097/1097 [00:44<00:00, 24.89it/s]\n",
      "100%|██████████| 365/365 [00:05<00:00, 61.65it/s]\n",
      "  0%|          | 0/1097 [00:00<?, ?it/s]"
     ]
    },
    {
     "name": "stdout",
     "output_type": "stream",
     "text": [
      "EPOCH: 5, train loss:0.7959, train acc:0.7222\n",
      "test loss:1.8718, test acc:0.4770\n"
     ]
    },
    {
     "name": "stderr",
     "output_type": "stream",
     "text": [
      "100%|██████████| 1097/1097 [00:43<00:00, 25.02it/s]\n",
      "100%|██████████| 365/365 [00:05<00:00, 63.79it/s]\n",
      "  0%|          | 3/1097 [00:00<00:45, 23.86it/s]"
     ]
    },
    {
     "name": "stdout",
     "output_type": "stream",
     "text": [
      "EPOCH: 7, train loss:0.7104, train acc:0.7476\n",
      "test loss:1.9444, test acc:0.5027\n"
     ]
    },
    {
     "name": "stderr",
     "output_type": "stream",
     "text": [
      "100%|██████████| 1097/1097 [00:43<00:00, 25.02it/s]\n",
      "100%|██████████| 365/365 [00:05<00:00, 63.87it/s]\n",
      "  0%|          | 0/1097 [00:00<?, ?it/s]"
     ]
    },
    {
     "name": "stdout",
     "output_type": "stream",
     "text": [
      "EPOCH: 8, train loss:0.6753, train acc:0.7598\n",
      "test loss:1.9272, test acc:0.4926\n"
     ]
    },
    {
     "name": "stderr",
     "output_type": "stream",
     "text": [
      "100%|██████████| 1097/1097 [00:43<00:00, 25.02it/s]\n",
      "100%|██████████| 365/365 [00:05<00:00, 63.19it/s]\n",
      "  0%|          | 0/1097 [00:00<?, ?it/s]"
     ]
    },
    {
     "name": "stdout",
     "output_type": "stream",
     "text": [
      "EPOCH: 9, train loss:0.6382, train acc:0.7730\n",
      "test loss:2.0049, test acc:0.4987\n"
     ]
    },
    {
     "name": "stderr",
     "output_type": "stream",
     "text": [
      "100%|██████████| 1097/1097 [00:43<00:00, 24.95it/s]\n",
      "100%|██████████| 365/365 [00:05<00:00, 62.19it/s]\n",
      "  0%|          | 0/1097 [00:00<?, ?it/s]"
     ]
    },
    {
     "name": "stdout",
     "output_type": "stream",
     "text": [
      "EPOCH:10, train loss:0.6091, train acc:0.7833\n",
      "test loss:1.9454, test acc:0.4880\n"
     ]
    },
    {
     "name": "stderr",
     "output_type": "stream",
     "text": [
      "100%|██████████| 1097/1097 [00:43<00:00, 24.95it/s]\n",
      "100%|██████████| 365/365 [00:05<00:00, 63.77it/s]\n",
      "  0%|          | 0/1097 [00:00<?, ?it/s]"
     ]
    },
    {
     "name": "stdout",
     "output_type": "stream",
     "text": [
      "EPOCH:11, train loss:0.5807, train acc:0.7929\n",
      "test loss:2.0710, test acc:0.4916\n"
     ]
    },
    {
     "name": "stderr",
     "output_type": "stream",
     "text": [
      "100%|██████████| 1097/1097 [00:43<00:00, 25.02it/s]\n",
      "100%|██████████| 365/365 [00:05<00:00, 63.14it/s]\n",
      "  0%|          | 3/1097 [00:00<00:45, 24.03it/s]"
     ]
    },
    {
     "name": "stdout",
     "output_type": "stream",
     "text": [
      "EPOCH:12, train loss:0.5508, train acc:0.8020\n",
      "test loss:2.1855, test acc:0.4819\n"
     ]
    },
    {
     "name": "stderr",
     "output_type": "stream",
     "text": [
      "100%|██████████| 1097/1097 [00:44<00:00, 24.91it/s]\n",
      "100%|██████████| 365/365 [00:05<00:00, 61.93it/s]\n",
      "  0%|          | 0/1097 [00:00<?, ?it/s]"
     ]
    },
    {
     "name": "stdout",
     "output_type": "stream",
     "text": [
      "EPOCH:13, train loss:0.5220, train acc:0.8111\n",
      "test loss:2.2151, test acc:0.4869\n"
     ]
    },
    {
     "name": "stderr",
     "output_type": "stream",
     "text": [
      " 73%|███████▎  | 798/1097 [00:32<00:12, 24.81it/s]IOPub message rate exceeded.\n",
      "The notebook server will temporarily stop sending output\n",
      "to the client in order to avoid crashing it.\n",
      "To change this limit, set the config variable\n",
      "`--NotebookApp.iopub_msg_rate_limit`.\n",
      "\n",
      "Current values:\n",
      "NotebookApp.iopub_msg_rate_limit=1000.0 (msgs/sec)\n",
      "NotebookApp.rate_limit_window=3.0 (secs)\n",
      "\n"
     ]
    }
   ],
   "source": [
    "# 训练模型\n",
    "print('Stage 4: train model')\n",
    "best_loss = float('inf')\n",
    "best_model = None\n",
    "train_acc, val_acc = [], []\n",
    "for epoch in range(epochs):\n",
    "    epoch_loss = 0\n",
    "    epoch_accuracy = 0\n",
    "    for data, label in tqdm(train_loader):\n",
    "        data = data.cuda()\n",
    "        label = label.cuda()\n",
    "        output = model(data)\n",
    "        loss = criterion(output, label)\n",
    "        optimizer.zero_grad()\n",
    "        loss.backward()\n",
    "        optimizer.step()\n",
    "\n",
    "        acc = (output.argmax(dim=1) == label).float().mean()\n",
    "        epoch_accuracy += acc / len(train_loader)\n",
    "        epoch_loss += loss / len(train_loader)\n",
    "\n",
    "        data.cpu()\n",
    "        label.cpu()\n",
    "\n",
    "    with torch.no_grad():\n",
    "        epoch_val_accuracy = 0\n",
    "        epoch_val_loss = 0\n",
    "        for data, label in tqdm(val_loader):\n",
    "            data = data.cuda()\n",
    "            label = label.cuda()\n",
    "            val_output = model(data)\n",
    "            val_loss = criterion(val_output, label)\n",
    "            acc = (val_output.argmax(dim=1) == label).float().mean()\n",
    "            epoch_val_accuracy += acc / len(val_loader)\n",
    "            epoch_val_loss += val_loss / len(val_loader)\n",
    "\n",
    "            data.cpu()\n",
    "            label.cpu()\n",
    "\n",
    "    scheduler.step()\n",
    "    print(f'EPOCH:{epoch:2}, train loss:{epoch_loss:.4f}, train acc:{epoch_accuracy:.4f}')\n",
    "    print(f'test loss:{epoch_val_loss:.4f}, test acc:{epoch_val_accuracy:.4f}')\n",
    "\n",
    "    train_acc.append(epoch_accuracy)\n",
    "    val_acc.append(epoch_val_accuracy)\n",
    "\n",
    "    if epoch_loss <= best_loss:\n",
    "        best_loss = epoch_loss\n",
    "        best_model = model"
   ]
  },
  {
   "cell_type": "code",
   "execution_count": 17,
   "id": "86cbe9f2",
   "metadata": {
    "scrolled": true
   },
   "outputs": [
    {
     "name": "stdout",
     "output_type": "stream",
     "text": [
      "Stage 5: model save\n"
     ]
    },
    {
     "name": "stderr",
     "output_type": "stream",
     "text": [
      "\r",
      "  0%|          | 0/128 [00:00<?, ?it/s]"
     ]
    },
    {
     "name": "stdout",
     "output_type": "stream",
     "text": [
      "Stage 6: predict\n"
     ]
    },
    {
     "name": "stderr",
     "output_type": "stream",
     "text": [
      "100%|██████████| 128/128 [00:12<00:00, 10.44it/s]"
     ]
    },
    {
     "name": "stdout",
     "output_type": "stream",
     "text": [
      "Stage 7: save predict\n"
     ]
    },
    {
     "name": "stderr",
     "output_type": "stream",
     "text": [
      "\n"
     ]
    }
   ],
   "source": [
    "# 保存模型\n",
    "print('Stage 5: model save')\n",
    "model_save_name = 'resnet_best_model.point'\n",
    "torch.save(best_model.state_dict(), model_save_name)\n",
    "\n",
    "# 生成预测结果\n",
    "print('Stage 6: predict')\n",
    "model.load_state_dict(torch.load(model_save_name))\n",
    "\n",
    "# 直接将所有的放进去容易显存溢出，所以要分批次放入\n",
    "def get_submmit(model, test, batch=128, dim=0):\n",
    "    # 初始化结果提交向量\n",
    "    # test为numpy类型的数据\n",
    "    preds = np.zeros(test.shape[0])\n",
    "    res = torch.FloatTensor(test)\n",
    "    res = torch.chunk(res, chunks=batch, dim=dim)\n",
    "    start = 0\n",
    "    end = 0\n",
    "    for chunk_data in tqdm(res):\n",
    "        chunk_data = chunk_data.to(device)\n",
    "        output = model(chunk_data).argmax(dim=1).detach().cpu().numpy()\n",
    "        end += output.shape[0]\n",
    "        preds[start:end] = output\n",
    "        start = end\n",
    "\n",
    "    return preds\n",
    "\n",
    "submmit = get_submmit(model, test_image)\n",
    "\n",
    "# 还要保存预测结果\n",
    "print('Stage 7: save predict')\n",
    "np.save('submmit.npy', submmit)"
   ]
  },
  {
   "cell_type": "markdown",
   "id": "ca9c4aa9",
   "metadata": {},
   "source": [
    "# CNN + LSTM"
   ]
  },
  {
   "cell_type": "code",
   "execution_count": 42,
   "id": "183ee39e",
   "metadata": {},
   "outputs": [],
   "source": [
    "import torch\n",
    "import torch.nn as nn\n",
    "import torch.optim as optim\n",
    "from torch.utils.data import TensorDataset, Dataset, DataLoader\n",
    "from tqdm import tqdm"
   ]
  },
  {
   "cell_type": "code",
   "execution_count": 96,
   "id": "ec401457",
   "metadata": {},
   "outputs": [],
   "source": [
    "class CRNN(nn.Module):\n",
    "    def __init__(self, input_size, hidden_size, num_layers, num_classes):\n",
    "        super().__init__()\n",
    "        self.input_size = input_size\n",
    "        self.hidden_size = hidden_size\n",
    "        self.num_layers = num_layers\n",
    "        self.cnn = nn.Sequential(\n",
    "            nn.Conv2d(3, 64, kernel_size=(9, 9), stride=(2, 2), padding=(3, 3)),\n",
    "            nn.BatchNorm2d(64),\n",
    "            nn.ReLU(inplace=True),\n",
    "            nn.AdaptiveAvgPool2d(output_size=(self.input_size, self.input_size)),\n",
    "            nn.Conv2d(64, 32, kernel_size=(6, 6), stride=(1, 1)),\n",
    "            nn.BatchNorm2d(32),\n",
    "            nn.Conv2d(32, 16, kernel_size=(3, 3), stride=(1, 1)),\n",
    "            nn.BatchNorm2d(16),\n",
    "            nn.Conv2d(16, 1, kernel_size=(1, 1), stride=(1, 1)),\n",
    "        )\n",
    "        # 官网默认的输入是seq_len, batch, input_size,这里将batch first=True放在第一个\n",
    "        # seq len 相当于一句话的长度， input size相当于每个单词的向量长度\n",
    "        self.lstm = nn.LSTM(self.input_size - 7, hidden_size, num_layers, batch_first=True)\n",
    "        self.fc = nn.Linear(hidden_size, num_classes)\n",
    "\n",
    "    def forward(self, x):\n",
    "        x = self.cnn(x).squeeze(dim=1)\n",
    "        #print(x.shape)\n",
    "        #assert 0\n",
    "        # 初始化两个向量的值, 因为这里是两层的lstm\n",
    "        \n",
    "        h0 = torch.zeros(self.num_layers, x.size(0), self.hidden_size).to(device)\n",
    "        c0 = torch.zeros(self.num_layers, x.size(0), self.hidden_size).to(device)\n",
    "\n",
    "        # 前向传播，这里只需要out即可\n",
    "        #print(x.shape)\n",
    "        #assert 0\n",
    "        out, _ = self.lstm(x, (h0, c0))  # out: tensor of shape (batch_size, seq_length, hidden_size)\n",
    "\n",
    "        # 使用全连层进行分类\n",
    "        out = self.fc(out[:, -1, :])\n",
    "        return out"
   ]
  },
  {
   "cell_type": "code",
   "execution_count": 101,
   "id": "ad35748e",
   "metadata": {},
   "outputs": [],
   "source": [
    "sequence_length = 1\n",
    "input_size = 35\n",
    "hidden_size = 512\n",
    "num_layers = 2\n",
    "num_classes = 10\n",
    "batch_size = 128\n",
    "num_epochs = 30\n",
    "learning_rate = 0.001\n",
    "gamma = 1\n",
    "step_size=1\n",
    "device = torch.device('cuda' if torch.cuda.is_available() else 'cpu')"
   ]
  },
  {
   "cell_type": "code",
   "execution_count": 102,
   "id": "dc3ca140",
   "metadata": {
    "scrolled": true
   },
   "outputs": [
    {
     "name": "stdout",
     "output_type": "stream",
     "text": [
      "CRNN(\n",
      "  (cnn): Sequential(\n",
      "    (0): Conv2d(3, 64, kernel_size=(9, 9), stride=(2, 2), padding=(3, 3))\n",
      "    (1): BatchNorm2d(64, eps=1e-05, momentum=0.1, affine=True, track_running_stats=True)\n",
      "    (2): ReLU(inplace=True)\n",
      "    (3): AdaptiveAvgPool2d(output_size=(35, 35))\n",
      "    (4): Conv2d(64, 32, kernel_size=(6, 6), stride=(1, 1))\n",
      "    (5): BatchNorm2d(32, eps=1e-05, momentum=0.1, affine=True, track_running_stats=True)\n",
      "    (6): Conv2d(32, 16, kernel_size=(3, 3), stride=(1, 1))\n",
      "    (7): BatchNorm2d(16, eps=1e-05, momentum=0.1, affine=True, track_running_stats=True)\n",
      "    (8): Conv2d(16, 1, kernel_size=(1, 1), stride=(1, 1))\n",
      "  )\n",
      "  (lstm): LSTM(28, 512, num_layers=2, batch_first=True)\n",
      "  (fc): Linear(in_features=512, out_features=10, bias=True)\n",
      ")\n"
     ]
    }
   ],
   "source": [
    "model = CRNN(input_size, hidden_size, num_layers, num_classes).to(device)\n",
    "print(model)"
   ]
  },
  {
   "cell_type": "code",
   "execution_count": 103,
   "id": "5763bdd9",
   "metadata": {},
   "outputs": [],
   "source": [
    "criterion = nn.CrossEntropyLoss()\n",
    "optimizer = torch.optim.Adam(model.parameters(), lr=learning_rate)\n",
    "scheduler = optim.lr_scheduler.StepLR(optimizer, step_size=1, gamma=gamma) # 学习方式\n",
    "# Train the model\n",
    "total_step = len(train_loader)\n",
    "train_acc, val_acc = [], []"
   ]
  },
  {
   "cell_type": "code",
   "execution_count": 104,
   "id": "250fbfd9",
   "metadata": {
    "scrolled": true
   },
   "outputs": [
    {
     "name": "stderr",
     "output_type": "stream",
     "text": [
      "100%|██████████| 1097/1097 [01:28<00:00, 12.46it/s]\n",
      "100%|██████████| 365/365 [00:22<00:00, 16.37it/s]\n",
      "  0%|          | 2/1097 [00:00<01:20, 13.58it/s]"
     ]
    },
    {
     "name": "stdout",
     "output_type": "stream",
     "text": [
      "EPOCH: 0, train loss:1.6902, train acc:0.4240\n",
      "val acc:0.5139\n"
     ]
    },
    {
     "name": "stderr",
     "output_type": "stream",
     "text": [
      "100%|██████████| 1097/1097 [01:28<00:00, 12.43it/s]\n",
      "100%|██████████| 365/365 [00:19<00:00, 19.11it/s]\n",
      "  0%|          | 2/1097 [00:00<01:15, 14.53it/s]"
     ]
    },
    {
     "name": "stdout",
     "output_type": "stream",
     "text": [
      "EPOCH: 1, train loss:1.0579, train acc:0.6368\n",
      "val acc:0.5107\n"
     ]
    },
    {
     "name": "stderr",
     "output_type": "stream",
     "text": [
      "100%|██████████| 1097/1097 [01:28<00:00, 12.44it/s]\n",
      "100%|██████████| 365/365 [00:21<00:00, 16.68it/s]\n",
      "  0%|          | 1/1097 [00:00<01:50,  9.90it/s]"
     ]
    },
    {
     "name": "stdout",
     "output_type": "stream",
     "text": [
      "EPOCH: 2, train loss:0.8728, train acc:0.6982\n",
      "val acc:0.5528\n"
     ]
    },
    {
     "name": "stderr",
     "output_type": "stream",
     "text": [
      "100%|██████████| 1097/1097 [01:28<00:00, 12.44it/s]\n",
      "100%|██████████| 365/365 [00:21<00:00, 16.99it/s]\n",
      "  0%|          | 2/1097 [00:00<01:15, 14.45it/s]"
     ]
    },
    {
     "name": "stdout",
     "output_type": "stream",
     "text": [
      "EPOCH: 3, train loss:0.7674, train acc:0.7323\n",
      "val acc:0.5191\n"
     ]
    },
    {
     "name": "stderr",
     "output_type": "stream",
     "text": [
      "100%|██████████| 1097/1097 [01:28<00:00, 12.44it/s]\n",
      "100%|██████████| 365/365 [00:19<00:00, 18.66it/s]\n",
      "  0%|          | 2/1097 [00:00<01:16, 14.27it/s]"
     ]
    },
    {
     "name": "stdout",
     "output_type": "stream",
     "text": [
      "EPOCH: 4, train loss:0.6959, train acc:0.7544\n",
      "val acc:0.5065\n"
     ]
    },
    {
     "name": "stderr",
     "output_type": "stream",
     "text": [
      "100%|██████████| 1097/1097 [01:28<00:00, 12.41it/s]\n",
      "100%|██████████| 365/365 [00:21<00:00, 16.67it/s]\n",
      "  0%|          | 2/1097 [00:00<01:34, 11.64it/s]"
     ]
    },
    {
     "name": "stdout",
     "output_type": "stream",
     "text": [
      "EPOCH: 5, train loss:0.6221, train acc:0.7800\n",
      "val acc:0.4920\n"
     ]
    },
    {
     "name": "stderr",
     "output_type": "stream",
     "text": [
      "100%|██████████| 1097/1097 [01:28<00:00, 12.37it/s]\n",
      "100%|██████████| 365/365 [00:18<00:00, 19.22it/s]\n",
      "  0%|          | 2/1097 [00:00<01:13, 14.91it/s]"
     ]
    },
    {
     "name": "stdout",
     "output_type": "stream",
     "text": [
      "EPOCH: 6, train loss:0.5324, train acc:0.8097\n",
      "val acc:0.5231\n"
     ]
    },
    {
     "name": "stderr",
     "output_type": "stream",
     "text": [
      "100%|██████████| 1097/1097 [01:28<00:00, 12.38it/s]\n",
      "100%|██████████| 365/365 [00:21<00:00, 16.65it/s]\n",
      "  0%|          | 2/1097 [00:00<01:13, 14.89it/s]"
     ]
    },
    {
     "name": "stdout",
     "output_type": "stream",
     "text": [
      "EPOCH: 7, train loss:0.4181, train acc:0.8498\n",
      "val acc:0.4993\n"
     ]
    },
    {
     "name": "stderr",
     "output_type": "stream",
     "text": [
      "100%|██████████| 1097/1097 [01:28<00:00, 12.36it/s]\n",
      "100%|██████████| 365/365 [00:21<00:00, 16.94it/s]\n",
      "  0%|          | 2/1097 [00:00<01:19, 13.75it/s]"
     ]
    },
    {
     "name": "stdout",
     "output_type": "stream",
     "text": [
      "EPOCH: 8, train loss:0.3056, train acc:0.8928\n",
      "val acc:0.4735\n"
     ]
    },
    {
     "name": "stderr",
     "output_type": "stream",
     "text": [
      "100%|██████████| 1097/1097 [01:28<00:00, 12.36it/s]\n",
      "100%|██████████| 365/365 [00:19<00:00, 19.12it/s]\n",
      "  0%|          | 2/1097 [00:00<01:13, 14.81it/s]"
     ]
    },
    {
     "name": "stdout",
     "output_type": "stream",
     "text": [
      "EPOCH: 9, train loss:0.2121, train acc:0.9265\n",
      "val acc:0.4967\n"
     ]
    },
    {
     "name": "stderr",
     "output_type": "stream",
     "text": [
      "100%|██████████| 1097/1097 [01:28<00:00, 12.37it/s]\n",
      "100%|██████████| 365/365 [00:21<00:00, 16.74it/s]\n",
      "  0%|          | 2/1097 [00:00<01:19, 13.81it/s]"
     ]
    },
    {
     "name": "stdout",
     "output_type": "stream",
     "text": [
      "EPOCH:10, train loss:0.1588, train acc:0.9464\n",
      "val acc:0.4828\n"
     ]
    },
    {
     "name": "stderr",
     "output_type": "stream",
     "text": [
      "100%|██████████| 1097/1097 [01:28<00:00, 12.40it/s]\n",
      "100%|██████████| 365/365 [00:21<00:00, 17.01it/s]\n",
      "  0%|          | 2/1097 [00:00<01:17, 14.07it/s]"
     ]
    },
    {
     "name": "stdout",
     "output_type": "stream",
     "text": [
      "EPOCH:11, train loss:0.1325, train acc:0.9544\n",
      "val acc:0.4709\n"
     ]
    },
    {
     "name": "stderr",
     "output_type": "stream",
     "text": [
      "100%|██████████| 1097/1097 [01:28<00:00, 12.44it/s]\n",
      "100%|██████████| 365/365 [00:21<00:00, 16.75it/s]\n",
      "  0%|          | 2/1097 [00:00<01:15, 14.50it/s]"
     ]
    },
    {
     "name": "stdout",
     "output_type": "stream",
     "text": [
      "EPOCH:12, train loss:0.1207, train acc:0.9592\n",
      "val acc:0.4778\n"
     ]
    },
    {
     "name": "stderr",
     "output_type": "stream",
     "text": [
      "100%|██████████| 1097/1097 [01:28<00:00, 12.42it/s]\n",
      "100%|██████████| 365/365 [00:21<00:00, 16.98it/s]\n",
      "  0%|          | 2/1097 [00:00<01:22, 13.29it/s]"
     ]
    },
    {
     "name": "stdout",
     "output_type": "stream",
     "text": [
      "EPOCH:13, train loss:0.1052, train acc:0.9649\n",
      "val acc:0.4770\n"
     ]
    },
    {
     "name": "stderr",
     "output_type": "stream",
     "text": [
      "100%|██████████| 1097/1097 [01:28<00:00, 12.44it/s]\n",
      "100%|██████████| 365/365 [00:22<00:00, 16.07it/s]\n",
      "  0%|          | 2/1097 [00:00<01:22, 13.29it/s]"
     ]
    },
    {
     "name": "stdout",
     "output_type": "stream",
     "text": [
      "EPOCH:14, train loss:0.1032, train acc:0.9647\n",
      "val acc:0.4622\n"
     ]
    },
    {
     "name": "stderr",
     "output_type": "stream",
     "text": [
      "100%|██████████| 1097/1097 [01:34<00:00, 11.59it/s]\n",
      "100%|██████████| 365/365 [00:24<00:00, 14.92it/s]\n",
      "  0%|          | 2/1097 [00:00<01:37, 11.19it/s]"
     ]
    },
    {
     "name": "stdout",
     "output_type": "stream",
     "text": [
      "EPOCH:15, train loss:0.0929, train acc:0.9687\n",
      "val acc:0.4731\n"
     ]
    },
    {
     "name": "stderr",
     "output_type": "stream",
     "text": [
      "100%|██████████| 1097/1097 [01:34<00:00, 11.60it/s]\n",
      "100%|██████████| 365/365 [00:21<00:00, 16.79it/s]\n",
      "  0%|          | 2/1097 [00:00<01:24, 13.01it/s]"
     ]
    },
    {
     "name": "stdout",
     "output_type": "stream",
     "text": [
      "EPOCH:16, train loss:0.0981, train acc:0.9663\n",
      "val acc:0.4844\n"
     ]
    },
    {
     "name": "stderr",
     "output_type": "stream",
     "text": [
      "100%|██████████| 1097/1097 [01:34<00:00, 11.59it/s]\n",
      "100%|██████████| 365/365 [00:25<00:00, 14.32it/s]\n",
      "  0%|          | 1/1097 [00:00<02:48,  6.52it/s]"
     ]
    },
    {
     "name": "stdout",
     "output_type": "stream",
     "text": [
      "EPOCH:17, train loss:0.0807, train acc:0.9729\n",
      "val acc:0.4753\n"
     ]
    },
    {
     "name": "stderr",
     "output_type": "stream",
     "text": [
      "100%|██████████| 1097/1097 [01:34<00:00, 11.60it/s]\n",
      "100%|██████████| 365/365 [00:23<00:00, 15.64it/s]\n",
      "  0%|          | 2/1097 [00:00<01:24, 12.95it/s]"
     ]
    },
    {
     "name": "stdout",
     "output_type": "stream",
     "text": [
      "EPOCH:18, train loss:0.0752, train acc:0.9743\n",
      "val acc:0.4935\n"
     ]
    },
    {
     "name": "stderr",
     "output_type": "stream",
     "text": [
      " 37%|███▋      | 410/1097 [00:35<00:59, 11.60it/s]IOPub message rate exceeded.\n",
      "The notebook server will temporarily stop sending output\n",
      "to the client in order to avoid crashing it.\n",
      "To change this limit, set the config variable\n",
      "`--NotebookApp.iopub_msg_rate_limit`.\n",
      "\n",
      "Current values:\n",
      "NotebookApp.iopub_msg_rate_limit=1000.0 (msgs/sec)\n",
      "NotebookApp.rate_limit_window=3.0 (secs)\n",
      "\n",
      "100%|██████████| 1097/1097 [01:34<00:00, 11.65it/s]\n",
      "100%|██████████| 365/365 [00:20<00:00, 18.18it/s]\n",
      "  0%|          | 2/1097 [00:00<01:23, 13.18it/s]"
     ]
    },
    {
     "name": "stdout",
     "output_type": "stream",
     "text": [
      "EPOCH:23, train loss:0.0765, train acc:0.9737\n",
      "val acc:0.4847\n"
     ]
    },
    {
     "name": "stderr",
     "output_type": "stream",
     "text": [
      "100%|██████████| 1097/1097 [01:34<00:00, 11.62it/s]\n",
      "100%|██████████| 365/365 [00:25<00:00, 14.44it/s]\n",
      "  0%|          | 2/1097 [00:00<01:21, 13.40it/s]"
     ]
    },
    {
     "name": "stdout",
     "output_type": "stream",
     "text": [
      "EPOCH:24, train loss:0.0655, train acc:0.9781\n",
      "val acc:0.4877\n"
     ]
    },
    {
     "name": "stderr",
     "output_type": "stream",
     "text": [
      "100%|██████████| 1097/1097 [01:34<00:00, 11.63it/s]\n",
      "100%|██████████| 365/365 [00:21<00:00, 17.35it/s]\n",
      "  0%|          | 2/1097 [00:00<01:26, 12.64it/s]"
     ]
    },
    {
     "name": "stdout",
     "output_type": "stream",
     "text": [
      "EPOCH:25, train loss:0.0646, train acc:0.9774\n",
      "val acc:0.4719\n"
     ]
    },
    {
     "name": "stderr",
     "output_type": "stream",
     "text": [
      "100%|██████████| 1097/1097 [01:34<00:00, 11.63it/s]\n",
      "100%|██████████| 365/365 [00:23<00:00, 15.77it/s]\n",
      "  0%|          | 2/1097 [00:00<01:25, 12.86it/s]"
     ]
    },
    {
     "name": "stdout",
     "output_type": "stream",
     "text": [
      "EPOCH:26, train loss:0.0665, train acc:0.9773\n",
      "val acc:0.4869\n"
     ]
    },
    {
     "name": "stderr",
     "output_type": "stream",
     "text": [
      " 44%|████▍     | 484/1097 [00:41<00:52, 11.63it/s]IOPub message rate exceeded.\n",
      "The notebook server will temporarily stop sending output\n",
      "to the client in order to avoid crashing it.\n",
      "To change this limit, set the config variable\n",
      "`--NotebookApp.iopub_msg_rate_limit`.\n",
      "\n",
      "Current values:\n",
      "NotebookApp.iopub_msg_rate_limit=1000.0 (msgs/sec)\n",
      "NotebookApp.rate_limit_window=3.0 (secs)\n",
      "\n"
     ]
    }
   ],
   "source": [
    "for epoch in range(num_epochs):\n",
    "    epoch_accuracy = 0\n",
    "    epoch_loss = 0\n",
    "    model.train()\n",
    "    for i, (images, labels) in enumerate(tqdm(train_loader)):\n",
    "        # reshape的维度变成了(batch size, 28, 28)\n",
    "        images = images.to(device)\n",
    "        labels = labels.to(device)\n",
    "        output = model(images)\n",
    "        loss = criterion(output, labels)\n",
    "        # Backward and optimize\n",
    "        optimizer.zero_grad()\n",
    "        loss.backward()\n",
    "        optimizer.step()\n",
    "        acc = (output.argmax(dim=1) == labels).float().mean()\n",
    "        epoch_accuracy += acc / len(train_loader)\n",
    "        epoch_loss += loss / len(train_loader)\n",
    "\n",
    "    # val the model\n",
    "    model.eval()\n",
    "    with torch.no_grad():\n",
    "        epoch_val_accuracy = 0\n",
    "        epoch_val_loss = 0\n",
    "        for images, labels in tqdm(val_loader):\n",
    "            images = images.to(device)\n",
    "            labels = labels.to(device)\n",
    "            outputs = model(images)\n",
    "            _, predicted = torch.max(outputs.data, 1)\n",
    "            acc = (predicted == labels).float().mean()\n",
    "            epoch_val_accuracy += acc / len(val_loader)\n",
    "\n",
    "    scheduler.step()\n",
    "    print(f'EPOCH:{epoch:2}, train loss:{epoch_loss:.4f}, train acc:{epoch_accuracy:.4f}')\n",
    "    print(f'val acc:{epoch_val_accuracy:.4f}')\n",
    "\n",
    "    train_acc.append(epoch_accuracy)\n",
    "    val_acc.append(epoch_val_accuracy)"
   ]
  },
  {
   "cell_type": "markdown",
   "id": "a6f4cfa4",
   "metadata": {},
   "source": [
    "# KNN"
   ]
  },
  {
   "cell_type": "code",
   "execution_count": 31,
   "id": "84192302",
   "metadata": {},
   "outputs": [],
   "source": [
    "from sklearn.neighbors import KNeighborsClassifier"
   ]
  },
  {
   "cell_type": "code",
   "execution_count": 32,
   "id": "e562d6da",
   "metadata": {},
   "outputs": [
    {
     "data": {
      "text/plain": [
       "0.30752467632354824"
      ]
     },
     "execution_count": 32,
     "metadata": {},
     "output_type": "execute_result"
    }
   ],
   "source": [
    "knn = KNeighborsClassifier(n_neighbors=1, n_jobs=-1).fit(train_sp, train_label)\n",
    "knn.score(val_sp, val_label)"
   ]
  },
  {
   "cell_type": "markdown",
   "id": "cfca56d5",
   "metadata": {},
   "source": [
    "# 1D CNN"
   ]
  },
  {
   "cell_type": "code",
   "execution_count": 232,
   "id": "020e7546",
   "metadata": {},
   "outputs": [],
   "source": [
    "import torch\n",
    "import torch.nn as nn\n",
    "#import config\n",
    "\n",
    "\n",
    "class SampleCNN(nn.Module):\n",
    "    def __init__(self):\n",
    "        super(SampleCNN, self).__init__()\n",
    "\n",
    "        # 59049 x 1\n",
    "        self.conv1 = nn.Sequential(\n",
    "            nn.Conv1d(1, 128, kernel_size=3, stride=3, padding=0),\n",
    "            nn.BatchNorm1d(128),\n",
    "            nn.ReLU())\n",
    "        # 19683 x 128\n",
    "        self.conv2 = nn.Sequential(\n",
    "            nn.Conv1d(128, 128, kernel_size=3, stride=1, padding=1),\n",
    "            nn.BatchNorm1d(128),\n",
    "            nn.ReLU(),\n",
    "            nn.MaxPool1d(3, stride=3))\n",
    "        # 6561 x 128\n",
    "        self.conv3 = nn.Sequential(\n",
    "            nn.Conv1d(128, 128, kernel_size=3, stride=1, padding=1),\n",
    "            nn.BatchNorm1d(128),\n",
    "            nn.ReLU(),\n",
    "            nn.MaxPool1d(3,stride=3))\n",
    "        # 2187 x 128\n",
    "        self.conv4 = nn.Sequential(\n",
    "            nn.Conv1d(128, 256, kernel_size=3, stride=1, padding=1),\n",
    "            nn.BatchNorm1d(256),\n",
    "            nn.ReLU(),\n",
    "            nn.MaxPool1d(3,stride=3))\n",
    "        # 729 x 256\n",
    "        self.conv5 = nn.Sequential(\n",
    "            nn.Conv1d(256, 256, kernel_size=3, stride=1, padding=1),\n",
    "            nn.BatchNorm1d(256),\n",
    "            nn.ReLU(),\n",
    "            nn.MaxPool1d(3,stride=3))\n",
    "        # 243 x 256\n",
    "        self.conv6 = nn.Sequential(\n",
    "            nn.Conv1d(256, 256, kernel_size=3, stride=1, padding=1),\n",
    "            nn.BatchNorm1d(256),\n",
    "            nn.ReLU(),\n",
    "            nn.MaxPool1d(3,stride=3),\n",
    "            nn.Dropout(0.2))\n",
    "        # 81 x 256\n",
    "        self.conv7 = nn.Sequential(\n",
    "            nn.Conv1d(256, 256, kernel_size=3, stride=1, padding=1),\n",
    "            nn.BatchNorm1d(256),\n",
    "            nn.ReLU(),\n",
    "            nn.MaxPool1d(3,stride=3))\n",
    "        # 27 x 256\n",
    "        self.conv8 = nn.Sequential(\n",
    "            nn.Conv1d(256, 256, kernel_size=3, stride=1, padding=1),\n",
    "            nn.BatchNorm1d(256),\n",
    "            nn.ReLU(),\n",
    "            nn.MaxPool1d(3,stride=3))\n",
    "        # 9 x 256\n",
    "        self.conv9 = nn.Sequential(\n",
    "            nn.Conv1d(256, 256, kernel_size=3, stride=1, padding=1),\n",
    "            nn.BatchNorm1d(256),\n",
    "            nn.ReLU(),\n",
    "            nn.MaxPool1d(3,stride=3))\n",
    "        # 3 x 256\n",
    "        self.conv10 = nn.Sequential(\n",
    "            nn.Conv1d(256, 512, kernel_size=3, stride=1, padding=1),\n",
    "            nn.BatchNorm1d(512),\n",
    "            nn.ReLU(),\n",
    "            nn.MaxPool1d(3,stride=3))\n",
    "        # 1 x 512 \n",
    "        self.conv11 = nn.Sequential(\n",
    "            nn.Conv1d(512, 512, kernel_size=3, stride=1, padding=1),\n",
    "            nn.BatchNorm1d(512),\n",
    "            nn.ReLU(),\n",
    "            nn.Dropout(0.2))\n",
    "        # 1 x 512 \n",
    "        self.fc1 = nn.Linear(512, 256)\n",
    "        self.fc2 = nn.Linear(256, 10)\n",
    "        self.activation = nn.Sigmoid()\n",
    "    \n",
    "    def forward(self, x):\n",
    "        # input x : 23 x 59049 x 1\n",
    "        # expected conv1d input : minibatch_size x num_channel x width\n",
    "\n",
    "        # 这里只是将数据增加一个维度\n",
    "        x = x.view(x.shape[0], 1,-1)\n",
    "\n",
    "        out = self.conv1(x)\n",
    "        out = self.conv2(out)\n",
    "        out = self.conv3(out)\n",
    "        out = self.conv4(out)\n",
    "        #out = self.conv5(out)\n",
    "        #print(out.shape)\n",
    "        #out = self.conv6(out)\n",
    "        #print(out.shape)\n",
    "        #out = self.conv7(out)\n",
    "        #print(out.shape)\n",
    "        #assert 0\n",
    "        out = self.conv8(out)\n",
    "        out = self.conv9(out)\n",
    "        out = self.conv10(out)\n",
    "        out = self.conv11(out) \n",
    "        out = out.view(x.shape[0], out.size(1) * out.size(2))\n",
    "        logit = self.fc1(out)\n",
    "        logit = self.fc2(logit)\n",
    "        return logit"
   ]
  },
  {
   "cell_type": "code",
   "execution_count": 212,
   "id": "419c8d0e",
   "metadata": {},
   "outputs": [],
   "source": [
    "def get_fft_and_scaler(data, start=5192, end=8192):\n",
    "    data = np.fft.fft(data)\n",
    "    data = np.abs(data)\n",
    "    data = data/np.expand_dims(data.max(axis=1), axis=1)\n",
    "    return data[:,start:end]"
   ]
  },
  {
   "cell_type": "code",
   "execution_count": 121,
   "id": "8d7a7440",
   "metadata": {},
   "outputs": [],
   "source": [
    "train_sp = get_fft_and_scaler(train)\n",
    "test_sp = get_fft_and_scaler(test)\n",
    "val_sp = get_fft_and_scaler(val)"
   ]
  },
  {
   "cell_type": "code",
   "execution_count": 233,
   "id": "3c5b31e5",
   "metadata": {},
   "outputs": [],
   "source": [
    "model = SampleCNN().cuda()"
   ]
  },
  {
   "cell_type": "code",
   "execution_count": 234,
   "id": "67bac141",
   "metadata": {},
   "outputs": [],
   "source": [
    "lr = 0.0001\n",
    "gamma = 1\n",
    "step_size = 1\n",
    "EPOCH = 80\n",
    "\n",
    "optimizer = optim.Adam(model.parameters(), lr=lr)\n",
    "lf = nn.CrossEntropyLoss()\n",
    "scheduler = optim.lr_scheduler.StepLR(optimizer, step_size=step_size, gamma=gamma)"
   ]
  },
  {
   "cell_type": "code",
   "execution_count": 235,
   "id": "b525e263",
   "metadata": {},
   "outputs": [],
   "source": [
    "batch_size = 128\n",
    "\n",
    "train_tensor = torch.tensor(train_sp).float()\n",
    "y_train_tensor = torch.tensor(train_label).long()\n",
    "val_tensor = torch.tensor(val_sp).float()\n",
    "y_val_tensor = torch.tensor(val_label).long()\n",
    "\n",
    "# 使用Dataloader对数据进行封装\n",
    "train_tensor = TensorDataset(train_tensor, y_train_tensor)\n",
    "val_tensor = TensorDataset(val_tensor, y_val_tensor)\n",
    "\n",
    "\n",
    "train_loader = DataLoader(train_tensor, shuffle=True, batch_size=batch_size, drop_last=True)\n",
    "val_loader = DataLoader(val_tensor, shuffle=False, batch_size=batch_size)"
   ]
  },
  {
   "cell_type": "code",
   "execution_count": 236,
   "id": "43be7546",
   "metadata": {
    "scrolled": false
   },
   "outputs": [
    {
     "name": "stderr",
     "output_type": "stream",
     "text": [
      "100%|██████████| 548/548 [00:27<00:00, 20.15it/s]\n",
      "100%|██████████| 183/183 [00:02<00:00, 87.87it/s]\n",
      "  0%|          | 2/548 [00:00<00:28, 19.18it/s]"
     ]
    },
    {
     "name": "stdout",
     "output_type": "stream",
     "text": [
      "epoch: 0 loss:0.936871 train_acc:0.653136\n",
      "val_acc:0.541084\n"
     ]
    },
    {
     "name": "stderr",
     "output_type": "stream",
     "text": [
      "100%|██████████| 548/548 [00:27<00:00, 20.19it/s]\n",
      "100%|██████████| 183/183 [00:02<00:00, 88.42it/s]\n",
      "  0%|          | 2/548 [00:00<00:32, 16.59it/s]"
     ]
    },
    {
     "name": "stdout",
     "output_type": "stream",
     "text": [
      "epoch: 1 loss:0.706211 train_acc:0.763278\n",
      "val_acc:0.519805\n"
     ]
    },
    {
     "name": "stderr",
     "output_type": "stream",
     "text": [
      "100%|██████████| 548/548 [00:27<00:00, 20.11it/s]\n",
      "100%|██████████| 183/183 [00:02<00:00, 84.51it/s]\n",
      "  0%|          | 2/548 [00:00<00:30, 18.19it/s]"
     ]
    },
    {
     "name": "stdout",
     "output_type": "stream",
     "text": [
      "epoch: 2 loss:0.699472 train_acc:0.796038\n",
      "val_acc:0.547366\n"
     ]
    },
    {
     "name": "stderr",
     "output_type": "stream",
     "text": [
      "100%|██████████| 548/548 [00:27<00:00, 20.02it/s]\n",
      "100%|██████████| 183/183 [00:02<00:00, 86.36it/s]\n",
      "  0%|          | 2/548 [00:00<00:30, 18.03it/s]"
     ]
    },
    {
     "name": "stdout",
     "output_type": "stream",
     "text": [
      "epoch: 3 loss:0.637342 train_acc:0.811662\n",
      "val_acc:0.484852\n"
     ]
    },
    {
     "name": "stderr",
     "output_type": "stream",
     "text": [
      "100%|██████████| 548/548 [00:27<00:00, 20.11it/s]\n",
      "100%|██████████| 183/183 [00:02<00:00, 86.45it/s]\n",
      "  0%|          | 2/548 [00:00<00:28, 19.23it/s]"
     ]
    },
    {
     "name": "stdout",
     "output_type": "stream",
     "text": [
      "epoch: 4 loss:0.424068 train_acc:0.825350\n",
      "val_acc:0.459898\n"
     ]
    },
    {
     "name": "stderr",
     "output_type": "stream",
     "text": [
      "100%|██████████| 548/548 [00:27<00:00, 20.29it/s]\n",
      "100%|██████████| 183/183 [00:02<00:00, 88.79it/s]\n",
      "  0%|          | 2/548 [00:00<00:27, 19.66it/s]"
     ]
    },
    {
     "name": "stdout",
     "output_type": "stream",
     "text": [
      "epoch: 5 loss:0.496331 train_acc:0.833725\n",
      "val_acc:0.518694\n"
     ]
    },
    {
     "name": "stderr",
     "output_type": "stream",
     "text": [
      "100%|██████████| 548/548 [00:26<00:00, 20.30it/s]\n",
      "100%|██████████| 183/183 [00:02<00:00, 88.78it/s]\n",
      "  0%|          | 2/548 [00:00<00:27, 19.63it/s]"
     ]
    },
    {
     "name": "stdout",
     "output_type": "stream",
     "text": [
      "epoch: 6 loss:0.483861 train_acc:0.842285\n",
      "val_acc:0.484596\n"
     ]
    },
    {
     "name": "stderr",
     "output_type": "stream",
     "text": [
      "100%|██████████| 548/548 [00:27<00:00, 20.19it/s]\n",
      "100%|██████████| 183/183 [00:02<00:00, 88.72it/s]\n",
      "  0%|          | 2/548 [00:00<00:27, 19.63it/s]"
     ]
    },
    {
     "name": "stdout",
     "output_type": "stream",
     "text": [
      "epoch: 7 loss:0.533973 train_acc:0.848638\n",
      "val_acc:0.491945\n"
     ]
    },
    {
     "name": "stderr",
     "output_type": "stream",
     "text": [
      "100%|██████████| 548/548 [00:26<00:00, 20.38it/s]\n",
      "100%|██████████| 183/183 [00:02<00:00, 88.88it/s]\n",
      "  0%|          | 2/548 [00:00<00:27, 19.77it/s]"
     ]
    },
    {
     "name": "stdout",
     "output_type": "stream",
     "text": [
      "epoch: 8 loss:0.431098 train_acc:0.856557\n",
      "val_acc:0.543648\n"
     ]
    },
    {
     "name": "stderr",
     "output_type": "stream",
     "text": [
      "100%|██████████| 548/548 [00:26<00:00, 20.38it/s]\n",
      "100%|██████████| 183/183 [00:02<00:00, 89.01it/s]\n",
      "  0%|          | 2/548 [00:00<00:27, 19.68it/s]"
     ]
    },
    {
     "name": "stdout",
     "output_type": "stream",
     "text": [
      "epoch: 9 loss:0.362837 train_acc:0.860858\n",
      "val_acc:0.554459\n"
     ]
    },
    {
     "name": "stderr",
     "output_type": "stream",
     "text": [
      "100%|██████████| 548/548 [00:26<00:00, 20.40it/s]\n",
      "100%|██████████| 183/183 [00:02<00:00, 89.09it/s]\n",
      "  0%|          | 2/548 [00:00<00:28, 19.31it/s]"
     ]
    },
    {
     "name": "stdout",
     "output_type": "stream",
     "text": [
      "epoch:10 loss:0.389495 train_acc:0.867610\n",
      "val_acc:0.475879\n"
     ]
    },
    {
     "name": "stderr",
     "output_type": "stream",
     "text": [
      "100%|██████████| 548/548 [00:26<00:00, 20.40it/s]\n",
      "100%|██████████| 183/183 [00:02<00:00, 89.21it/s]\n",
      "  0%|          | 2/548 [00:00<00:27, 19.57it/s]"
     ]
    },
    {
     "name": "stdout",
     "output_type": "stream",
     "text": [
      "epoch:11 loss:0.456807 train_acc:0.873563\n",
      "val_acc:0.521429\n"
     ]
    },
    {
     "name": "stderr",
     "output_type": "stream",
     "text": [
      "100%|██████████| 548/548 [00:27<00:00, 20.19it/s]\n",
      "100%|██████████| 183/183 [00:02<00:00, 86.70it/s]\n",
      "  0%|          | 2/548 [00:00<00:27, 19.52it/s]"
     ]
    },
    {
     "name": "stdout",
     "output_type": "stream",
     "text": [
      "epoch:12 loss:0.320870 train_acc:0.879503\n",
      "val_acc:0.505747\n"
     ]
    },
    {
     "name": "stderr",
     "output_type": "stream",
     "text": [
      "100%|██████████| 548/548 [00:27<00:00, 20.17it/s]\n",
      "100%|██████████| 183/183 [00:02<00:00, 86.22it/s]\n",
      "  0%|          | 2/548 [00:00<00:28, 19.37it/s]"
     ]
    },
    {
     "name": "stdout",
     "output_type": "stream",
     "text": [
      "epoch:13 loss:0.451901 train_acc:0.884730\n",
      "val_acc:0.509593\n"
     ]
    },
    {
     "name": "stderr",
     "output_type": "stream",
     "text": [
      "100%|██████████| 548/548 [00:27<00:00, 20.17it/s]\n",
      "100%|██████████| 183/183 [00:02<00:00, 86.50it/s]\n",
      "  0%|          | 2/548 [00:00<00:28, 19.25it/s]"
     ]
    },
    {
     "name": "stdout",
     "output_type": "stream",
     "text": [
      "epoch:14 loss:0.393888 train_acc:0.891268\n",
      "val_acc:0.525146\n"
     ]
    },
    {
     "name": "stderr",
     "output_type": "stream",
     "text": [
      "100%|██████████| 548/548 [00:27<00:00, 20.15it/s]\n",
      "100%|██████████| 183/183 [00:02<00:00, 86.38it/s]\n",
      "  0%|          | 2/548 [00:00<00:28, 18.93it/s]"
     ]
    },
    {
     "name": "stdout",
     "output_type": "stream",
     "text": [
      "epoch:15 loss:0.411403 train_acc:0.897406\n",
      "val_acc:0.478272\n"
     ]
    },
    {
     "name": "stderr",
     "output_type": "stream",
     "text": [
      "100%|██████████| 548/548 [00:27<00:00, 20.13it/s]\n",
      "100%|██████████| 183/183 [00:02<00:00, 86.32it/s]\n",
      "  0%|          | 2/548 [00:00<00:28, 18.95it/s]"
     ]
    },
    {
     "name": "stdout",
     "output_type": "stream",
     "text": [
      "epoch:16 loss:0.348050 train_acc:0.902918\n",
      "val_acc:0.482887\n"
     ]
    },
    {
     "name": "stderr",
     "output_type": "stream",
     "text": [
      "100%|██████████| 548/548 [00:27<00:00, 20.15it/s]\n",
      "100%|██████████| 183/183 [00:02<00:00, 86.52it/s]\n",
      "  0%|          | 2/548 [00:00<00:28, 19.42it/s]"
     ]
    },
    {
     "name": "stdout",
     "output_type": "stream",
     "text": [
      "epoch:17 loss:0.209811 train_acc:0.907775\n",
      "val_acc:0.492843\n"
     ]
    },
    {
     "name": "stderr",
     "output_type": "stream",
     "text": [
      " 60%|█████▉    | 328/548 [00:16<00:10, 20.16it/s]\n"
     ]
    },
    {
     "ename": "KeyboardInterrupt",
     "evalue": "",
     "output_type": "error",
     "traceback": [
      "\u001b[0;31m---------------------------------------------------------------------------\u001b[0m",
      "\u001b[0;31mKeyboardInterrupt\u001b[0m                         Traceback (most recent call last)",
      "\u001b[0;32m<ipython-input-236-2284e356782a>\u001b[0m in \u001b[0;36m<module>\u001b[0;34m\u001b[0m\n\u001b[1;32m     11\u001b[0m         \u001b[0mloss\u001b[0m \u001b[0;34m=\u001b[0m \u001b[0mlf\u001b[0m\u001b[0;34m(\u001b[0m\u001b[0mpreds\u001b[0m\u001b[0;34m,\u001b[0m \u001b[0mlabel\u001b[0m\u001b[0;34m)\u001b[0m\u001b[0;34m\u001b[0m\u001b[0;34m\u001b[0m\u001b[0m\n\u001b[1;32m     12\u001b[0m         \u001b[0mloss\u001b[0m\u001b[0;34m.\u001b[0m\u001b[0mbackward\u001b[0m\u001b[0;34m(\u001b[0m\u001b[0;34m)\u001b[0m\u001b[0;34m\u001b[0m\u001b[0;34m\u001b[0m\u001b[0m\n\u001b[0;32m---> 13\u001b[0;31m         \u001b[0moptimizer\u001b[0m\u001b[0;34m.\u001b[0m\u001b[0mstep\u001b[0m\u001b[0;34m(\u001b[0m\u001b[0;34m)\u001b[0m\u001b[0;34m\u001b[0m\u001b[0;34m\u001b[0m\u001b[0m\n\u001b[0m\u001b[1;32m     14\u001b[0m \u001b[0;34m\u001b[0m\u001b[0m\n\u001b[1;32m     15\u001b[0m         \u001b[0mtrain_total_acc\u001b[0m \u001b[0;34m+=\u001b[0m \u001b[0mmodel\u001b[0m\u001b[0;34m(\u001b[0m\u001b[0mfeature\u001b[0m\u001b[0;34m)\u001b[0m\u001b[0;34m.\u001b[0m\u001b[0margmax\u001b[0m\u001b[0;34m(\u001b[0m\u001b[0mdim\u001b[0m\u001b[0;34m=\u001b[0m\u001b[0;36m1\u001b[0m\u001b[0;34m)\u001b[0m\u001b[0;34m.\u001b[0m\u001b[0meq\u001b[0m\u001b[0;34m(\u001b[0m\u001b[0mlabel\u001b[0m\u001b[0;34m)\u001b[0m\u001b[0;34m.\u001b[0m\u001b[0msum\u001b[0m\u001b[0;34m(\u001b[0m\u001b[0;34m)\u001b[0m\u001b[0;34m.\u001b[0m\u001b[0mitem\u001b[0m\u001b[0;34m(\u001b[0m\u001b[0;34m)\u001b[0m\u001b[0;34m\u001b[0m\u001b[0;34m\u001b[0m\u001b[0m\n",
      "\u001b[0;32m~/miniconda3/envs/asr/lib/python3.8/site-packages/torch/optim/lr_scheduler.py\u001b[0m in \u001b[0;36mwrapper\u001b[0;34m(*args, **kwargs)\u001b[0m\n\u001b[1;32m     63\u001b[0m                 \u001b[0minstance\u001b[0m\u001b[0;34m.\u001b[0m\u001b[0m_step_count\u001b[0m \u001b[0;34m+=\u001b[0m \u001b[0;36m1\u001b[0m\u001b[0;34m\u001b[0m\u001b[0;34m\u001b[0m\u001b[0m\n\u001b[1;32m     64\u001b[0m                 \u001b[0mwrapped\u001b[0m \u001b[0;34m=\u001b[0m \u001b[0mfunc\u001b[0m\u001b[0;34m.\u001b[0m\u001b[0m__get__\u001b[0m\u001b[0;34m(\u001b[0m\u001b[0minstance\u001b[0m\u001b[0;34m,\u001b[0m \u001b[0mcls\u001b[0m\u001b[0;34m)\u001b[0m\u001b[0;34m\u001b[0m\u001b[0;34m\u001b[0m\u001b[0m\n\u001b[0;32m---> 65\u001b[0;31m                 \u001b[0;32mreturn\u001b[0m \u001b[0mwrapped\u001b[0m\u001b[0;34m(\u001b[0m\u001b[0;34m*\u001b[0m\u001b[0margs\u001b[0m\u001b[0;34m,\u001b[0m \u001b[0;34m**\u001b[0m\u001b[0mkwargs\u001b[0m\u001b[0;34m)\u001b[0m\u001b[0;34m\u001b[0m\u001b[0;34m\u001b[0m\u001b[0m\n\u001b[0m\u001b[1;32m     66\u001b[0m \u001b[0;34m\u001b[0m\u001b[0m\n\u001b[1;32m     67\u001b[0m             \u001b[0;31m# Note that the returned function here is no longer a bound method,\u001b[0m\u001b[0;34m\u001b[0m\u001b[0;34m\u001b[0m\u001b[0;34m\u001b[0m\u001b[0m\n",
      "\u001b[0;32m~/miniconda3/envs/asr/lib/python3.8/site-packages/torch/optim/optimizer.py\u001b[0m in \u001b[0;36mwrapper\u001b[0;34m(*args, **kwargs)\u001b[0m\n\u001b[1;32m     87\u001b[0m                 \u001b[0mprofile_name\u001b[0m \u001b[0;34m=\u001b[0m \u001b[0;34m\"Optimizer.step#{}.step\"\u001b[0m\u001b[0;34m.\u001b[0m\u001b[0mformat\u001b[0m\u001b[0;34m(\u001b[0m\u001b[0mobj\u001b[0m\u001b[0;34m.\u001b[0m\u001b[0m__class__\u001b[0m\u001b[0;34m.\u001b[0m\u001b[0m__name__\u001b[0m\u001b[0;34m)\u001b[0m\u001b[0;34m\u001b[0m\u001b[0;34m\u001b[0m\u001b[0m\n\u001b[1;32m     88\u001b[0m                 \u001b[0;32mwith\u001b[0m \u001b[0mtorch\u001b[0m\u001b[0;34m.\u001b[0m\u001b[0mautograd\u001b[0m\u001b[0;34m.\u001b[0m\u001b[0mprofiler\u001b[0m\u001b[0;34m.\u001b[0m\u001b[0mrecord_function\u001b[0m\u001b[0;34m(\u001b[0m\u001b[0mprofile_name\u001b[0m\u001b[0;34m)\u001b[0m\u001b[0;34m:\u001b[0m\u001b[0;34m\u001b[0m\u001b[0;34m\u001b[0m\u001b[0m\n\u001b[0;32m---> 89\u001b[0;31m                     \u001b[0;32mreturn\u001b[0m \u001b[0mfunc\u001b[0m\u001b[0;34m(\u001b[0m\u001b[0;34m*\u001b[0m\u001b[0margs\u001b[0m\u001b[0;34m,\u001b[0m \u001b[0;34m**\u001b[0m\u001b[0mkwargs\u001b[0m\u001b[0;34m)\u001b[0m\u001b[0;34m\u001b[0m\u001b[0;34m\u001b[0m\u001b[0m\n\u001b[0m\u001b[1;32m     90\u001b[0m             \u001b[0;32mreturn\u001b[0m \u001b[0mwrapper\u001b[0m\u001b[0;34m\u001b[0m\u001b[0;34m\u001b[0m\u001b[0m\n\u001b[1;32m     91\u001b[0m \u001b[0;34m\u001b[0m\u001b[0m\n",
      "\u001b[0;32m~/miniconda3/envs/asr/lib/python3.8/site-packages/torch/autograd/grad_mode.py\u001b[0m in \u001b[0;36mdecorate_context\u001b[0;34m(*args, **kwargs)\u001b[0m\n\u001b[1;32m     25\u001b[0m         \u001b[0;32mdef\u001b[0m \u001b[0mdecorate_context\u001b[0m\u001b[0;34m(\u001b[0m\u001b[0;34m*\u001b[0m\u001b[0margs\u001b[0m\u001b[0;34m,\u001b[0m \u001b[0;34m**\u001b[0m\u001b[0mkwargs\u001b[0m\u001b[0;34m)\u001b[0m\u001b[0;34m:\u001b[0m\u001b[0;34m\u001b[0m\u001b[0;34m\u001b[0m\u001b[0m\n\u001b[1;32m     26\u001b[0m             \u001b[0;32mwith\u001b[0m \u001b[0mself\u001b[0m\u001b[0;34m.\u001b[0m\u001b[0m__class__\u001b[0m\u001b[0;34m(\u001b[0m\u001b[0;34m)\u001b[0m\u001b[0;34m:\u001b[0m\u001b[0;34m\u001b[0m\u001b[0;34m\u001b[0m\u001b[0m\n\u001b[0;32m---> 27\u001b[0;31m                 \u001b[0;32mreturn\u001b[0m \u001b[0mfunc\u001b[0m\u001b[0;34m(\u001b[0m\u001b[0;34m*\u001b[0m\u001b[0margs\u001b[0m\u001b[0;34m,\u001b[0m \u001b[0;34m**\u001b[0m\u001b[0mkwargs\u001b[0m\u001b[0;34m)\u001b[0m\u001b[0;34m\u001b[0m\u001b[0;34m\u001b[0m\u001b[0m\n\u001b[0m\u001b[1;32m     28\u001b[0m         \u001b[0;32mreturn\u001b[0m \u001b[0mcast\u001b[0m\u001b[0;34m(\u001b[0m\u001b[0mF\u001b[0m\u001b[0;34m,\u001b[0m \u001b[0mdecorate_context\u001b[0m\u001b[0;34m)\u001b[0m\u001b[0;34m\u001b[0m\u001b[0;34m\u001b[0m\u001b[0m\n\u001b[1;32m     29\u001b[0m \u001b[0;34m\u001b[0m\u001b[0m\n",
      "\u001b[0;32m~/miniconda3/envs/asr/lib/python3.8/site-packages/torch/optim/adam.py\u001b[0m in \u001b[0;36mstep\u001b[0;34m(self, closure)\u001b[0m\n\u001b[1;32m    106\u001b[0m \u001b[0;34m\u001b[0m\u001b[0m\n\u001b[1;32m    107\u001b[0m             \u001b[0mbeta1\u001b[0m\u001b[0;34m,\u001b[0m \u001b[0mbeta2\u001b[0m \u001b[0;34m=\u001b[0m \u001b[0mgroup\u001b[0m\u001b[0;34m[\u001b[0m\u001b[0;34m'betas'\u001b[0m\u001b[0;34m]\u001b[0m\u001b[0;34m\u001b[0m\u001b[0;34m\u001b[0m\u001b[0m\n\u001b[0;32m--> 108\u001b[0;31m             F.adam(params_with_grad,\n\u001b[0m\u001b[1;32m    109\u001b[0m                    \u001b[0mgrads\u001b[0m\u001b[0;34m,\u001b[0m\u001b[0;34m\u001b[0m\u001b[0;34m\u001b[0m\u001b[0m\n\u001b[1;32m    110\u001b[0m                    \u001b[0mexp_avgs\u001b[0m\u001b[0;34m,\u001b[0m\u001b[0;34m\u001b[0m\u001b[0;34m\u001b[0m\u001b[0m\n",
      "\u001b[0;32m~/miniconda3/envs/asr/lib/python3.8/site-packages/torch/optim/_functional.py\u001b[0m in \u001b[0;36madam\u001b[0;34m(params, grads, exp_avgs, exp_avg_sqs, max_exp_avg_sqs, state_steps, amsgrad, beta1, beta2, lr, weight_decay, eps)\u001b[0m\n\u001b[1;32m     90\u001b[0m             \u001b[0mdenom\u001b[0m \u001b[0;34m=\u001b[0m \u001b[0;34m(\u001b[0m\u001b[0mmax_exp_avg_sqs\u001b[0m\u001b[0;34m[\u001b[0m\u001b[0mi\u001b[0m\u001b[0;34m]\u001b[0m\u001b[0;34m.\u001b[0m\u001b[0msqrt\u001b[0m\u001b[0;34m(\u001b[0m\u001b[0;34m)\u001b[0m \u001b[0;34m/\u001b[0m \u001b[0mmath\u001b[0m\u001b[0;34m.\u001b[0m\u001b[0msqrt\u001b[0m\u001b[0;34m(\u001b[0m\u001b[0mbias_correction2\u001b[0m\u001b[0;34m)\u001b[0m\u001b[0;34m)\u001b[0m\u001b[0;34m.\u001b[0m\u001b[0madd_\u001b[0m\u001b[0;34m(\u001b[0m\u001b[0meps\u001b[0m\u001b[0;34m)\u001b[0m\u001b[0;34m\u001b[0m\u001b[0;34m\u001b[0m\u001b[0m\n\u001b[1;32m     91\u001b[0m         \u001b[0;32melse\u001b[0m\u001b[0;34m:\u001b[0m\u001b[0;34m\u001b[0m\u001b[0;34m\u001b[0m\u001b[0m\n\u001b[0;32m---> 92\u001b[0;31m             \u001b[0mdenom\u001b[0m \u001b[0;34m=\u001b[0m \u001b[0;34m(\u001b[0m\u001b[0mexp_avg_sq\u001b[0m\u001b[0;34m.\u001b[0m\u001b[0msqrt\u001b[0m\u001b[0;34m(\u001b[0m\u001b[0;34m)\u001b[0m \u001b[0;34m/\u001b[0m \u001b[0mmath\u001b[0m\u001b[0;34m.\u001b[0m\u001b[0msqrt\u001b[0m\u001b[0;34m(\u001b[0m\u001b[0mbias_correction2\u001b[0m\u001b[0;34m)\u001b[0m\u001b[0;34m)\u001b[0m\u001b[0;34m.\u001b[0m\u001b[0madd_\u001b[0m\u001b[0;34m(\u001b[0m\u001b[0meps\u001b[0m\u001b[0;34m)\u001b[0m\u001b[0;34m\u001b[0m\u001b[0;34m\u001b[0m\u001b[0m\n\u001b[0m\u001b[1;32m     93\u001b[0m \u001b[0;34m\u001b[0m\u001b[0m\n\u001b[1;32m     94\u001b[0m         \u001b[0mstep_size\u001b[0m \u001b[0;34m=\u001b[0m \u001b[0mlr\u001b[0m \u001b[0;34m/\u001b[0m \u001b[0mbias_correction1\u001b[0m\u001b[0;34m\u001b[0m\u001b[0;34m\u001b[0m\u001b[0m\n",
      "\u001b[0;31mKeyboardInterrupt\u001b[0m: "
     ]
    }
   ],
   "source": [
    "train_best = 1000\n",
    "for epoch in range(EPOCH):\n",
    "    model.train()\n",
    "    train_total_acc = 0\n",
    "    \n",
    "    for feature, label in tqdm(train_loader):\n",
    "        feature = feature.cuda()\n",
    "        label = label.cuda()\n",
    "        optimizer.zero_grad()\n",
    "        preds = model(feature)\n",
    "        loss = lf(preds, label)\n",
    "        loss.backward()\n",
    "        optimizer.step()\n",
    "        \n",
    "        train_total_acc += model(feature).argmax(dim=1).eq(label).sum().item()\n",
    "        \n",
    "        feature.cpu()\n",
    "        label.cpu()\n",
    "    \n",
    "    model.eval()\n",
    "    with torch.no_grad():\n",
    "        val_total_acc = 0\n",
    "        for feature, label in tqdm(val_loader):\n",
    "            feature = feature.cuda()\n",
    "            label = label.cuda()\n",
    "            val_total_acc += model(feature).argmax(dim=1).eq(label).sum().item()\n",
    "            \n",
    "            feature.cpu()\n",
    "            label.cpu()\n",
    "    \n",
    "    scheduler.step()\n",
    "    print(f'epoch:{epoch:2} loss:{loss:4f} train_acc:{train_total_acc/len(train_label):4f}')\n",
    "    print('val_acc:{:4f}'.format(val_total_acc/len(val_label)))\n",
    "    \n",
    "    # 保存最佳的训练模型\n",
    "    if loss <= train_best:\n",
    "        train_best = loss\n",
    "        torch.save(model.state_dict(), './model.point')"
   ]
  },
  {
   "cell_type": "code",
   "execution_count": null,
   "id": "270d0b79",
   "metadata": {},
   "outputs": [],
   "source": []
  },
  {
   "cell_type": "code",
   "execution_count": null,
   "id": "5a8735c1",
   "metadata": {},
   "outputs": [],
   "source": []
  }
 ],
 "metadata": {
  "kernelspec": {
   "display_name": "Python 3",
   "language": "python",
   "name": "python3"
  },
  "language_info": {
   "codemirror_mode": {
    "name": "ipython",
    "version": 3
   },
   "file_extension": ".py",
   "mimetype": "text/x-python",
   "name": "python",
   "nbconvert_exporter": "python",
   "pygments_lexer": "ipython3",
   "version": "3.8.8"
  },
  "toc": {
   "base_numbering": 1,
   "nav_menu": {},
   "number_sections": true,
   "sideBar": true,
   "skip_h1_title": false,
   "title_cell": "Table of Contents",
   "title_sidebar": "Contents",
   "toc_cell": false,
   "toc_position": {
    "height": "calc(100% - 180px)",
    "left": "10px",
    "top": "150px",
    "width": "165px"
   },
   "toc_section_display": true,
   "toc_window_display": true
  }
 },
 "nbformat": 4,
 "nbformat_minor": 5
}
