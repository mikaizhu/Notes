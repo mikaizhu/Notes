{
 "cells": [
  {
   "cell_type": "markdown",
   "id": "cd24ebe8",
   "metadata": {},
   "source": [
    "# 模型boosting"
   ]
  },
  {
   "cell_type": "code",
   "execution_count": 1,
   "id": "38068292",
   "metadata": {},
   "outputs": [],
   "source": [
    "import numpy as np\n",
    "import pandas as pd\n",
    "from collections import Counter\n",
    "# dnn模型构建\n",
    "import torch\n",
    "import torch.nn as nn\n",
    "import torch.optim as optim\n",
    "from torch.utils.data import TensorDataset, DataLoader, Dataset\n",
    "import torch.nn.functional as F\n",
    "import random\n",
    "import logging\n",
    "\n",
    "logger = logging.getLogger(__name__)\n",
    "logging.basicConfig(format='%(asctime)s - %(levelname)s - %(name)s -   %(message)s',\n",
    "        datefmt='%m/%d/%Y %H:%M:%S',\n",
    "        level=logging.INFO)"
   ]
  },
  {
   "cell_type": "code",
   "execution_count": 2,
   "id": "feea2fd0",
   "metadata": {},
   "outputs": [],
   "source": [
    "# 固定随机数种子，确保实验的可重复性\n",
    "def set_seed(seed=42):\n",
    "    random.seed(seed)\n",
    "    np.random.seed(seed)\n",
    "    torch.manual_seed(seed)\n",
    "    torch.cuda.manual_seed_all(seed)\n",
    "    torch.backends.cudnn.deterministic = True\n",
    "\n",
    "set_seed(42)\n",
    "\n",
    "def get_fft_and_scaler(data, start=5192, end=8192):\n",
    "    data = np.fft.fft(data)\n",
    "    data = np.abs(data)\n",
    "    data = data/np.expand_dims(data.max(axis=1), axis=1)\n",
    "    return data[:, start:end]\n",
    "\n",
    "# 搭建DNN模型\n",
    "class DNN(nn.Module):\n",
    "    def __init__(self):\n",
    "        super().__init__()\n",
    "        self.dnn = nn.Sequential(\n",
    "            nn.BatchNorm1d(300),\n",
    "            nn.Linear(300, 1024),\n",
    "            nn.BatchNorm1d(1024),\n",
    "            nn.ReLU(),\n",
    "            nn.Dropout(p=0.2),\n",
    "            nn.Linear(1024, 256),\n",
    "            nn.BatchNorm1d(256),\n",
    "            nn.ReLU(),\n",
    "            nn.Dropout(p=0.2),\n",
    "            nn.Linear(256, 10),\n",
    "        )\n",
    "\n",
    "    def forward(self, x):\n",
    "        x = self.dnn(x)\n",
    "        return F.softmax(x, dim=1)\n",
    "\n",
    "def get_boost_data(feature, preds_label, true_label):\n",
    "    return feature[preds_label == true_label, :].detach().cpu(), true_label[preds_label == true_label].detach().cpu()\n",
    "\n",
    "def model_train(train_loader, model, optimizer, criterion, labels, boost=True):\n",
    "    model.train()\n",
    "    train_total_acc = 0\n",
    "    train_loss = 0\n",
    "    for feature, label in train_loader:\n",
    "        feature = feature.to(device)\n",
    "        label = label.to(device)\n",
    "\n",
    "        optimizer.zero_grad()\n",
    "        preds = model(feature)\n",
    "\n",
    "        loss = criterion(preds, label)\n",
    "        loss.backward()\n",
    "        optimizer.step()\n",
    "        # 存储boosting数据\n",
    "        if epoch >= epochs - boost_epoch_num  and boost:\n",
    "            d1, d2 = get_boost_data(feature, preds.argmax(dim=1), label)\n",
    "            boost_feature.append(d1)\n",
    "            boost_label.append(d2)\n",
    "\n",
    "        train_total_acc += model(feature).argmax(dim=1).eq(label).sum().item()\n",
    "        train_loss += loss.item()\n",
    "\n",
    "        feature.cpu()\n",
    "        label.cpu()\n",
    "\n",
    "    print(\n",
    "        f'Training loss: {train_loss/len(train_loader):.4f}',\n",
    "        f'Training  acc: {train_total_acc/len(labels):.4f}',\n",
    "         )\n",
    "\n",
    "def predict(val_loader, model, criterion, labels):\n",
    "    model.eval()\n",
    "    val_total_acc = 0\n",
    "    val_loss = 0\n",
    "    for feature, label in val_loader:\n",
    "        feature = feature.to(device)\n",
    "        label = label.to(device)\n",
    "        preds = model(feature)\n",
    "        loss = criterion(preds, label)\n",
    "\n",
    "        val_total_acc += model(feature).argmax(dim=1).eq(label).sum().item()\n",
    "        val_loss += loss.item()\n",
    "\n",
    "        feature.cpu()\n",
    "        label.cpu()\n",
    "\n",
    "    print(\n",
    "        f'Val loss: {val_loss/len(val_loader):.4f}',\n",
    "        f'Val  acc:{val_total_acc/len(labels):.4f}'\n",
    "    )\n",
    "    return val_loss"
   ]
  },
  {
   "cell_type": "code",
   "execution_count": 3,
   "id": "6577bc89",
   "metadata": {},
   "outputs": [
    {
     "name": "stdout",
     "output_type": "stream",
     "text": [
      "loading data\n"
     ]
    }
   ],
   "source": [
    "print('loading data')\n",
    "# 读取训练集，测试集和验证集\n",
    "train = np.load('../train/10type_sort_train_data_8192.npy')\n",
    "val = np.load('../val/10type_sort_eval_data_8192.npy')\n",
    "\n",
    "# 读取训练集和验证集的标签，测试集是没有标签的，需要你使用模型进行分类，并将结果进行提交\n",
    "train_label = np.load('../train/10type_sort_train_label_8192.npy')\n",
    "val_label = np.load('../val/10type_sort_eval_label_8192.npy')\n",
    "\n",
    "train_sp = get_fft_and_scaler(train, start=6892, end=7192)\n",
    "val_sp = get_fft_and_scaler(val, start=6892, end=7192)\n",
    "\n",
    "# 将数据转换成pytorch的tensor\n",
    "batch_size = 128\n",
    "\n",
    "train_tensor = torch.tensor(train_sp).float()\n",
    "y_train_tensor = torch.tensor(train_label).long()\n",
    "val_tensor = torch.tensor(val_sp).float()\n",
    "y_val_tensor = torch.tensor(val_label).long()\n",
    "\n",
    "# 使用Dataloader对数据进行封装\n",
    "val_tensor = TensorDataset(val_tensor, y_val_tensor)\n",
    "val_loader = DataLoader(val_tensor, shuffle=False, batch_size=batch_size)"
   ]
  },
  {
   "cell_type": "code",
   "execution_count": 4,
   "id": "4f9f8fdc",
   "metadata": {},
   "outputs": [],
   "source": [
    "lr = 0.0001\n",
    "gamma = 0.9\n",
    "step_size = 1\n",
    "epochs = 30\n",
    "device = torch.device('cuda:0' if torch.cuda.is_available else 'cpu')"
   ]
  },
  {
   "cell_type": "code",
   "execution_count": 5,
   "id": "247dc361",
   "metadata": {},
   "outputs": [
    {
     "name": "stdout",
     "output_type": "stream",
     "text": [
      "----------------boost round: 0/4----------------\n",
      "==================== Epoch: 0 ====================\n",
      "Training loss: 2.0387 Training  acc: 0.4588\n",
      "Val loss: 2.0017 Val  acc:0.4544\n",
      "==================== Epoch: 1 ====================\n",
      "Training loss: 1.9170 Training  acc: 0.5610\n",
      "Val loss: 1.9623 Val  acc:0.5002\n",
      "==================== Epoch: 2 ====================\n",
      "Training loss: 1.8857 Training  acc: 0.5879\n",
      "Val loss: 1.9482 Val  acc:0.5132\n",
      "==================== Epoch: 3 ====================\n",
      "Training loss: 1.8708 Training  acc: 0.6010\n",
      "Val loss: 1.9466 Val  acc:0.5114\n",
      "==================== Epoch: 4 ====================\n",
      "Training loss: 1.8485 Training  acc: 0.6259\n",
      "Val loss: 1.9138 Val  acc:0.5527\n",
      "==================== Epoch: 5 ====================\n",
      "Training loss: 1.8342 Training  acc: 0.6397\n",
      "Val loss: 1.9162 Val  acc:0.5462\n",
      "==================== Epoch: 6 ====================\n",
      "Training loss: 1.8256 Training  acc: 0.6471\n",
      "Val loss: 1.9051 Val  acc:0.5580\n",
      "==================== Epoch: 7 ====================\n",
      "Training loss: 1.8194 Training  acc: 0.6517\n",
      "Val loss: 1.8970 Val  acc:0.5663\n",
      "==================== Epoch: 8 ====================\n",
      "Training loss: 1.8123 Training  acc: 0.6582\n",
      "Val loss: 1.8909 Val  acc:0.5740\n",
      "==================== Epoch: 9 ====================\n",
      "Training loss: 1.8074 Training  acc: 0.6621\n",
      "Val loss: 1.8977 Val  acc:0.5652\n",
      "==================== Epoch: 10 ====================\n",
      "Training loss: 1.8032 Training  acc: 0.6658\n",
      "Val loss: 1.8961 Val  acc:0.5660\n",
      "==================== Epoch: 11 ====================\n",
      "Training loss: 1.7978 Training  acc: 0.6728\n",
      "Val loss: 1.8924 Val  acc:0.5705\n",
      "==================== Epoch: 12 ====================\n",
      "Training loss: 1.7941 Training  acc: 0.6755\n",
      "Val loss: 1.8828 Val  acc:0.5815\n",
      "==================== Epoch: 13 ====================\n",
      "Training loss: 1.7918 Training  acc: 0.6785\n",
      "Val loss: 1.8905 Val  acc:0.5724\n",
      "==================== Epoch: 14 ====================\n",
      "Training loss: 1.7876 Training  acc: 0.6819\n",
      "Val loss: 1.8851 Val  acc:0.5770\n",
      "==================== Epoch: 15 ====================\n",
      "Training loss: 1.7843 Training  acc: 0.6846\n",
      "Val loss: 1.8805 Val  acc:0.5848\n",
      "==================== Epoch: 16 ====================\n",
      "Training loss: 1.7807 Training  acc: 0.6872\n",
      "Val loss: 1.8786 Val  acc:0.5830\n",
      "==================== Epoch: 17 ====================\n",
      "Training loss: 1.7787 Training  acc: 0.6886\n",
      "Val loss: 1.8760 Val  acc:0.5866\n",
      "==================== Epoch: 18 ====================\n",
      "Training loss: 1.7754 Training  acc: 0.6925\n",
      "Val loss: 1.8842 Val  acc:0.5768\n",
      "==================== Epoch: 19 ====================\n",
      "Training loss: 1.7727 Training  acc: 0.6953\n",
      "Val loss: 1.8884 Val  acc:0.5704\n",
      "==================== Epoch: 20 ====================\n",
      "Training loss: 1.7696 Training  acc: 0.6986\n",
      "Val loss: 1.8862 Val  acc:0.5749\n",
      "==================== Epoch: 21 ====================\n",
      "Training loss: 1.7689 Training  acc: 0.6982\n",
      "Val loss: 1.8805 Val  acc:0.5805\n",
      "==================== Epoch: 22 ====================\n",
      "Training loss: 1.7667 Training  acc: 0.7012\n",
      "Val loss: 1.8794 Val  acc:0.5809\n",
      "==================== Epoch: 23 ====================\n",
      "Training loss: 1.7647 Training  acc: 0.7021\n",
      "Val loss: 1.8795 Val  acc:0.5811\n",
      "==================== Epoch: 24 ====================\n",
      "Training loss: 1.7621 Training  acc: 0.7050\n",
      "Val loss: 1.8819 Val  acc:0.5791\n",
      "==================== Epoch: 25 ====================\n",
      "Training loss: 1.7616 Training  acc: 0.7062\n",
      "Val loss: 1.8810 Val  acc:0.5803\n",
      "==================== Epoch: 26 ====================\n",
      "Training loss: 1.7596 Training  acc: 0.7092\n",
      "Val loss: 1.8758 Val  acc:0.5843\n",
      "==================== Epoch: 27 ====================\n",
      "Training loss: 1.7575 Training  acc: 0.7087\n",
      "Val loss: 1.8767 Val  acc:0.5839\n",
      "==================== Epoch: 28 ====================\n",
      "Training loss: 1.7565 Training  acc: 0.7103\n",
      "Val loss: 1.8746 Val  acc:0.5848\n",
      "==================== Epoch: 29 ====================\n",
      "Training loss: 1.7547 Training  acc: 0.7124\n",
      "Val loss: 1.8811 Val  acc:0.5782\n",
      "----------------boost round: 1/4----------------\n",
      "==================== Epoch: 0 ====================\n",
      "Training loss: 1.7528 Training  acc: 0.7513\n",
      "Val loss: 1.9307 Val  acc:0.5332\n",
      "==================== Epoch: 1 ====================\n",
      "Training loss: 1.6294 Training  acc: 0.8479\n",
      "Val loss: 1.9177 Val  acc:0.5405\n",
      "==================== Epoch: 2 ====================\n",
      "Training loss: 1.5930 Training  acc: 0.8796\n",
      "Val loss: 1.9084 Val  acc:0.5495\n",
      "==================== Epoch: 3 ====================\n",
      "Training loss: 1.5712 Training  acc: 0.9027\n",
      "Val loss: 1.8841 Val  acc:0.5773\n",
      "==================== Epoch: 4 ====================\n",
      "Training loss: 1.5492 Training  acc: 0.9247\n",
      "Val loss: 1.8772 Val  acc:0.5849\n",
      "==================== Epoch: 5 ====================\n",
      "Training loss: 1.5341 Training  acc: 0.9384\n",
      "Val loss: 1.8669 Val  acc:0.5956\n",
      "==================== Epoch: 6 ====================\n",
      "Training loss: 1.5241 Training  acc: 0.9475\n",
      "Val loss: 1.8728 Val  acc:0.5868\n",
      "==================== Epoch: 7 ====================\n",
      "Training loss: 1.5175 Training  acc: 0.9531\n",
      "Val loss: 1.8719 Val  acc:0.5886\n",
      "==================== Epoch: 8 ====================\n",
      "Training loss: 1.5127 Training  acc: 0.9568\n",
      "Val loss: 1.8761 Val  acc:0.5841\n",
      "==================== Epoch: 9 ====================\n",
      "Training loss: 1.5082 Training  acc: 0.9600\n",
      "Val loss: 1.8726 Val  acc:0.5861\n",
      "==================== Epoch: 10 ====================\n",
      "Training loss: 1.5058 Training  acc: 0.9626\n",
      "Val loss: 1.8740 Val  acc:0.5857\n",
      "==================== Epoch: 11 ====================\n",
      "Training loss: 1.5026 Training  acc: 0.9648\n",
      "Val loss: 1.8680 Val  acc:0.5922\n",
      "==================== Epoch: 12 ====================\n",
      "Training loss: 1.5002 Training  acc: 0.9673\n",
      "Val loss: 1.8667 Val  acc:0.5932\n",
      "==================== Epoch: 13 ====================\n",
      "Training loss: 1.4980 Training  acc: 0.9692\n",
      "Val loss: 1.8727 Val  acc:0.5865\n",
      "==================== Epoch: 14 ====================\n",
      "Training loss: 1.4967 Training  acc: 0.9697\n",
      "Val loss: 1.8713 Val  acc:0.5874\n",
      "==================== Epoch: 15 ====================\n",
      "Training loss: 1.4947 Training  acc: 0.9715\n",
      "Val loss: 1.8730 Val  acc:0.5862\n",
      "==================== Epoch: 16 ====================\n",
      "Training loss: 1.4931 Training  acc: 0.9726\n",
      "Val loss: 1.8734 Val  acc:0.5853\n",
      "==================== Epoch: 17 ====================\n",
      "Training loss: 1.4916 Training  acc: 0.9737\n",
      "Val loss: 1.8707 Val  acc:0.5882\n",
      "==================== Epoch: 18 ====================\n",
      "Training loss: 1.4909 Training  acc: 0.9746\n",
      "Val loss: 1.8756 Val  acc:0.5840\n",
      "==================== Epoch: 19 ====================\n",
      "Training loss: 1.4901 Training  acc: 0.9750\n",
      "Val loss: 1.8646 Val  acc:0.5946\n",
      "==================== Epoch: 20 ====================\n",
      "Training loss: 1.4882 Training  acc: 0.9769\n",
      "Val loss: 1.8743 Val  acc:0.5843\n",
      "==================== Epoch: 21 ====================\n",
      "Training loss: 1.4873 Training  acc: 0.9774\n",
      "Val loss: 1.8700 Val  acc:0.5890\n",
      "==================== Epoch: 22 ====================\n",
      "Training loss: 1.4871 Training  acc: 0.9780\n",
      "Val loss: 1.8697 Val  acc:0.5896\n",
      "==================== Epoch: 23 ====================\n",
      "Training loss: 1.4865 Training  acc: 0.9786\n",
      "Val loss: 1.8651 Val  acc:0.5937\n",
      "==================== Epoch: 24 ====================\n",
      "Training loss: 1.4850 Training  acc: 0.9797\n",
      "Val loss: 1.8739 Val  acc:0.5851\n",
      "==================== Epoch: 25 ====================\n",
      "Training loss: 1.4844 Training  acc: 0.9795\n",
      "Val loss: 1.8786 Val  acc:0.5794\n",
      "==================== Epoch: 26 ====================\n",
      "Training loss: 1.4843 Training  acc: 0.9798\n",
      "Val loss: 1.8706 Val  acc:0.5883\n",
      "==================== Epoch: 27 ====================\n",
      "Training loss: 1.4830 Training  acc: 0.9809\n",
      "Val loss: 1.8703 Val  acc:0.5892\n",
      "==================== Epoch: 28 ====================\n",
      "Training loss: 1.4834 Training  acc: 0.9808\n",
      "Val loss: 1.8683 Val  acc:0.5907\n",
      "==================== Epoch: 29 ====================\n",
      "Training loss: 1.4822 Training  acc: 0.9815\n",
      "Val loss: 1.8754 Val  acc:0.5830\n",
      "----------------boost round: 2/4----------------\n",
      "==================== Epoch: 0 ====================\n",
      "Training loss: 1.6260 Training  acc: 0.8550\n",
      "Val loss: 1.8748 Val  acc:0.5892\n",
      "==================== Epoch: 1 ====================\n",
      "Training loss: 1.5239 Training  acc: 0.9488\n",
      "Val loss: 1.8718 Val  acc:0.5888\n",
      "==================== Epoch: 2 ====================\n",
      "Training loss: 1.4990 Training  acc: 0.9693\n"
     ]
    },
    {
     "name": "stdout",
     "output_type": "stream",
     "text": [
      "Val loss: 1.8716 Val  acc:0.5878\n",
      "==================== Epoch: 3 ====================\n",
      "Training loss: 1.4893 Training  acc: 0.9772\n",
      "Val loss: 1.8683 Val  acc:0.5909\n",
      "==================== Epoch: 4 ====================\n",
      "Training loss: 1.4839 Training  acc: 0.9815\n",
      "Val loss: 1.8757 Val  acc:0.5833\n",
      "==================== Epoch: 5 ====================\n",
      "Training loss: 1.4806 Training  acc: 0.9842\n",
      "Val loss: 1.8717 Val  acc:0.5874\n",
      "==================== Epoch: 6 ====================\n",
      "Training loss: 1.4778 Training  acc: 0.9864\n",
      "Val loss: 1.8621 Val  acc:0.5970\n",
      "==================== Epoch: 7 ====================\n",
      "Training loss: 1.4761 Training  acc: 0.9877\n",
      "Val loss: 1.8665 Val  acc:0.5926\n",
      "==================== Epoch: 8 ====================\n",
      "Training loss: 1.4747 Training  acc: 0.9887\n",
      "Val loss: 1.8679 Val  acc:0.5909\n",
      "==================== Epoch: 9 ====================\n",
      "Training loss: 1.4737 Training  acc: 0.9897\n",
      "Val loss: 1.8677 Val  acc:0.5916\n",
      "==================== Epoch: 10 ====================\n",
      "Training loss: 1.4728 Training  acc: 0.9904\n",
      "Val loss: 1.8731 Val  acc:0.5856\n",
      "==================== Epoch: 11 ====================\n",
      "Training loss: 1.4722 Training  acc: 0.9909\n",
      "Val loss: 1.8719 Val  acc:0.5866\n",
      "==================== Epoch: 12 ====================\n",
      "Training loss: 1.4712 Training  acc: 0.9916\n",
      "Val loss: 1.8655 Val  acc:0.5939\n",
      "==================== Epoch: 13 ====================\n",
      "Training loss: 1.4707 Training  acc: 0.9921\n",
      "Val loss: 1.8713 Val  acc:0.5877\n",
      "==================== Epoch: 14 ====================\n",
      "Training loss: 1.4703 Training  acc: 0.9925\n",
      "Val loss: 1.8746 Val  acc:0.5851\n",
      "==================== Epoch: 15 ====================\n",
      "Training loss: 1.4698 Training  acc: 0.9928\n",
      "Val loss: 1.8700 Val  acc:0.5895\n",
      "==================== Epoch: 16 ====================\n",
      "Training loss: 1.4695 Training  acc: 0.9931\n",
      "Val loss: 1.8676 Val  acc:0.5916\n",
      "==================== Epoch: 17 ====================\n",
      "Training loss: 1.4690 Training  acc: 0.9934\n",
      "Val loss: 1.8710 Val  acc:0.5891\n",
      "==================== Epoch: 18 ====================\n",
      "Training loss: 1.4689 Training  acc: 0.9935\n",
      "Val loss: 1.8732 Val  acc:0.5864\n",
      "==================== Epoch: 19 ====================\n",
      "Training loss: 1.4685 Training  acc: 0.9938\n",
      "Val loss: 1.8655 Val  acc:0.5942\n",
      "==================== Epoch: 20 ====================\n",
      "Training loss: 1.4682 Training  acc: 0.9940\n",
      "Val loss: 1.8746 Val  acc:0.5845\n",
      "==================== Epoch: 21 ====================\n",
      "Training loss: 1.4681 Training  acc: 0.9942\n",
      "Val loss: 1.8712 Val  acc:0.5877\n",
      "==================== Epoch: 22 ====================\n",
      "Training loss: 1.4677 Training  acc: 0.9944\n",
      "Val loss: 1.8675 Val  acc:0.5917\n",
      "==================== Epoch: 23 ====================\n",
      "Training loss: 1.4675 Training  acc: 0.9946\n",
      "Val loss: 1.8658 Val  acc:0.5931\n",
      "==================== Epoch: 24 ====================\n",
      "Training loss: 1.4673 Training  acc: 0.9950\n",
      "Val loss: 1.8681 Val  acc:0.5918\n",
      "==================== Epoch: 25 ====================\n",
      "Training loss: 1.4671 Training  acc: 0.9950\n",
      "Val loss: 1.8679 Val  acc:0.5916\n",
      "==================== Epoch: 26 ====================\n",
      "Training loss: 1.4671 Training  acc: 0.9948\n",
      "Val loss: 1.8679 Val  acc:0.5912\n",
      "==================== Epoch: 27 ====================\n",
      "Training loss: 1.4670 Training  acc: 0.9951\n",
      "Val loss: 1.8699 Val  acc:0.5892\n",
      "==================== Epoch: 28 ====================\n",
      "Training loss: 1.4667 Training  acc: 0.9952\n",
      "Val loss: 1.8710 Val  acc:0.5879\n",
      "==================== Epoch: 29 ====================\n",
      "Training loss: 1.4666 Training  acc: 0.9953\n",
      "Val loss: 1.8602 Val  acc:0.5992\n",
      "----------------boost round: 3/4----------------\n",
      "==================== Epoch: 0 ====================\n"
     ]
    },
    {
     "ename": "KeyboardInterrupt",
     "evalue": "",
     "output_type": "error",
     "traceback": [
      "\u001b[0;31m---------------------------------------------------------------------------\u001b[0m",
      "\u001b[0;31mKeyboardInterrupt\u001b[0m                         Traceback (most recent call last)",
      "\u001b[0;32m<ipython-input-5-22a96f221d25>\u001b[0m in \u001b[0;36m<module>\u001b[0;34m\u001b[0m\n\u001b[1;32m     20\u001b[0m     \u001b[0;32mfor\u001b[0m \u001b[0mepoch\u001b[0m \u001b[0;32min\u001b[0m \u001b[0mrange\u001b[0m\u001b[0;34m(\u001b[0m\u001b[0mepochs\u001b[0m\u001b[0;34m)\u001b[0m\u001b[0;34m:\u001b[0m\u001b[0;34m\u001b[0m\u001b[0;34m\u001b[0m\u001b[0m\n\u001b[1;32m     21\u001b[0m         \u001b[0mprint\u001b[0m\u001b[0;34m(\u001b[0m\u001b[0;34m'='\u001b[0m\u001b[0;34m*\u001b[0m\u001b[0;36m20\u001b[0m \u001b[0;34m+\u001b[0m \u001b[0;34mf' Epoch: {epoch} '\u001b[0m\u001b[0;34m+\u001b[0m \u001b[0;34m'='\u001b[0m\u001b[0;34m*\u001b[0m\u001b[0;36m20\u001b[0m\u001b[0;34m)\u001b[0m\u001b[0;34m\u001b[0m\u001b[0;34m\u001b[0m\u001b[0m\n\u001b[0;32m---> 22\u001b[0;31m         \u001b[0mmodel_train\u001b[0m\u001b[0;34m(\u001b[0m\u001b[0mtrain_loader\u001b[0m\u001b[0;34m=\u001b[0m\u001b[0mtrain_loader\u001b[0m\u001b[0;34m,\u001b[0m \u001b[0moptimizer\u001b[0m\u001b[0;34m=\u001b[0m\u001b[0moptimizer\u001b[0m\u001b[0;34m,\u001b[0m \u001b[0mcriterion\u001b[0m\u001b[0;34m=\u001b[0m\u001b[0mcriterion\u001b[0m\u001b[0;34m,\u001b[0m \u001b[0mlabels\u001b[0m\u001b[0;34m=\u001b[0m\u001b[0my_train_tensor\u001b[0m\u001b[0;34m,\u001b[0m \u001b[0mmodel\u001b[0m\u001b[0;34m=\u001b[0m\u001b[0mmodel\u001b[0m\u001b[0;34m,\u001b[0m \u001b[0mboost\u001b[0m\u001b[0;34m=\u001b[0m\u001b[0;32mTrue\u001b[0m\u001b[0;34m)\u001b[0m\u001b[0;34m\u001b[0m\u001b[0;34m\u001b[0m\u001b[0m\n\u001b[0m\u001b[1;32m     23\u001b[0m         \u001b[0mloss\u001b[0m \u001b[0;34m=\u001b[0m \u001b[0mpredict\u001b[0m\u001b[0;34m(\u001b[0m\u001b[0mval_loader\u001b[0m\u001b[0;34m,\u001b[0m \u001b[0mmodel\u001b[0m\u001b[0;34m,\u001b[0m \u001b[0mcriterion\u001b[0m\u001b[0;34m=\u001b[0m\u001b[0mcriterion\u001b[0m\u001b[0;34m,\u001b[0m \u001b[0mlabels\u001b[0m\u001b[0;34m=\u001b[0m\u001b[0my_val_tensor\u001b[0m\u001b[0;34m)\u001b[0m\u001b[0;34m\u001b[0m\u001b[0;34m\u001b[0m\u001b[0m\n\u001b[1;32m     24\u001b[0m         \u001b[0;32mif\u001b[0m \u001b[0mloss\u001b[0m \u001b[0;34m<=\u001b[0m \u001b[0mtrain_best\u001b[0m\u001b[0;34m:\u001b[0m\u001b[0;34m\u001b[0m\u001b[0;34m\u001b[0m\u001b[0m\n",
      "\u001b[0;32m<ipython-input-2-7fac72fa817c>\u001b[0m in \u001b[0;36mmodel_train\u001b[0;34m(train_loader, model, optimizer, criterion, labels, boost)\u001b[0m\n\u001b[1;32m     43\u001b[0m     \u001b[0mtrain_total_acc\u001b[0m \u001b[0;34m=\u001b[0m \u001b[0;36m0\u001b[0m\u001b[0;34m\u001b[0m\u001b[0;34m\u001b[0m\u001b[0m\n\u001b[1;32m     44\u001b[0m     \u001b[0mtrain_loss\u001b[0m \u001b[0;34m=\u001b[0m \u001b[0;36m0\u001b[0m\u001b[0;34m\u001b[0m\u001b[0;34m\u001b[0m\u001b[0m\n\u001b[0;32m---> 45\u001b[0;31m     \u001b[0;32mfor\u001b[0m \u001b[0mfeature\u001b[0m\u001b[0;34m,\u001b[0m \u001b[0mlabel\u001b[0m \u001b[0;32min\u001b[0m \u001b[0mtrain_loader\u001b[0m\u001b[0;34m:\u001b[0m\u001b[0;34m\u001b[0m\u001b[0;34m\u001b[0m\u001b[0m\n\u001b[0m\u001b[1;32m     46\u001b[0m         \u001b[0mfeature\u001b[0m \u001b[0;34m=\u001b[0m \u001b[0mfeature\u001b[0m\u001b[0;34m.\u001b[0m\u001b[0mto\u001b[0m\u001b[0;34m(\u001b[0m\u001b[0mdevice\u001b[0m\u001b[0;34m)\u001b[0m\u001b[0;34m\u001b[0m\u001b[0;34m\u001b[0m\u001b[0m\n\u001b[1;32m     47\u001b[0m         \u001b[0mlabel\u001b[0m \u001b[0;34m=\u001b[0m \u001b[0mlabel\u001b[0m\u001b[0;34m.\u001b[0m\u001b[0mto\u001b[0m\u001b[0;34m(\u001b[0m\u001b[0mdevice\u001b[0m\u001b[0;34m)\u001b[0m\u001b[0;34m\u001b[0m\u001b[0;34m\u001b[0m\u001b[0m\n",
      "\u001b[0;32m~/miniconda3/envs/asr/lib/python3.8/site-packages/torch/utils/data/dataloader.py\u001b[0m in \u001b[0;36m__next__\u001b[0;34m(self)\u001b[0m\n\u001b[1;32m    515\u001b[0m             \u001b[0;32mif\u001b[0m \u001b[0mself\u001b[0m\u001b[0;34m.\u001b[0m\u001b[0m_sampler_iter\u001b[0m \u001b[0;32mis\u001b[0m \u001b[0;32mNone\u001b[0m\u001b[0;34m:\u001b[0m\u001b[0;34m\u001b[0m\u001b[0;34m\u001b[0m\u001b[0m\n\u001b[1;32m    516\u001b[0m                 \u001b[0mself\u001b[0m\u001b[0;34m.\u001b[0m\u001b[0m_reset\u001b[0m\u001b[0;34m(\u001b[0m\u001b[0;34m)\u001b[0m\u001b[0;34m\u001b[0m\u001b[0;34m\u001b[0m\u001b[0m\n\u001b[0;32m--> 517\u001b[0;31m             \u001b[0mdata\u001b[0m \u001b[0;34m=\u001b[0m \u001b[0mself\u001b[0m\u001b[0;34m.\u001b[0m\u001b[0m_next_data\u001b[0m\u001b[0;34m(\u001b[0m\u001b[0;34m)\u001b[0m\u001b[0;34m\u001b[0m\u001b[0;34m\u001b[0m\u001b[0m\n\u001b[0m\u001b[1;32m    518\u001b[0m             \u001b[0mself\u001b[0m\u001b[0;34m.\u001b[0m\u001b[0m_num_yielded\u001b[0m \u001b[0;34m+=\u001b[0m \u001b[0;36m1\u001b[0m\u001b[0;34m\u001b[0m\u001b[0;34m\u001b[0m\u001b[0m\n\u001b[1;32m    519\u001b[0m             \u001b[0;32mif\u001b[0m \u001b[0mself\u001b[0m\u001b[0;34m.\u001b[0m\u001b[0m_dataset_kind\u001b[0m \u001b[0;34m==\u001b[0m \u001b[0m_DatasetKind\u001b[0m\u001b[0;34m.\u001b[0m\u001b[0mIterable\u001b[0m \u001b[0;32mand\u001b[0m\u001b[0;31m \u001b[0m\u001b[0;31m\\\u001b[0m\u001b[0;34m\u001b[0m\u001b[0;34m\u001b[0m\u001b[0m\n",
      "\u001b[0;32m~/miniconda3/envs/asr/lib/python3.8/site-packages/torch/utils/data/dataloader.py\u001b[0m in \u001b[0;36m_next_data\u001b[0;34m(self)\u001b[0m\n\u001b[1;32m    555\u001b[0m     \u001b[0;32mdef\u001b[0m \u001b[0m_next_data\u001b[0m\u001b[0;34m(\u001b[0m\u001b[0mself\u001b[0m\u001b[0;34m)\u001b[0m\u001b[0;34m:\u001b[0m\u001b[0;34m\u001b[0m\u001b[0;34m\u001b[0m\u001b[0m\n\u001b[1;32m    556\u001b[0m         \u001b[0mindex\u001b[0m \u001b[0;34m=\u001b[0m \u001b[0mself\u001b[0m\u001b[0;34m.\u001b[0m\u001b[0m_next_index\u001b[0m\u001b[0;34m(\u001b[0m\u001b[0;34m)\u001b[0m  \u001b[0;31m# may raise StopIteration\u001b[0m\u001b[0;34m\u001b[0m\u001b[0;34m\u001b[0m\u001b[0m\n\u001b[0;32m--> 557\u001b[0;31m         \u001b[0mdata\u001b[0m \u001b[0;34m=\u001b[0m \u001b[0mself\u001b[0m\u001b[0;34m.\u001b[0m\u001b[0m_dataset_fetcher\u001b[0m\u001b[0;34m.\u001b[0m\u001b[0mfetch\u001b[0m\u001b[0;34m(\u001b[0m\u001b[0mindex\u001b[0m\u001b[0;34m)\u001b[0m  \u001b[0;31m# may raise StopIteration\u001b[0m\u001b[0;34m\u001b[0m\u001b[0;34m\u001b[0m\u001b[0m\n\u001b[0m\u001b[1;32m    558\u001b[0m         \u001b[0;32mif\u001b[0m \u001b[0mself\u001b[0m\u001b[0;34m.\u001b[0m\u001b[0m_pin_memory\u001b[0m\u001b[0;34m:\u001b[0m\u001b[0;34m\u001b[0m\u001b[0;34m\u001b[0m\u001b[0m\n\u001b[1;32m    559\u001b[0m             \u001b[0mdata\u001b[0m \u001b[0;34m=\u001b[0m \u001b[0m_utils\u001b[0m\u001b[0;34m.\u001b[0m\u001b[0mpin_memory\u001b[0m\u001b[0;34m.\u001b[0m\u001b[0mpin_memory\u001b[0m\u001b[0;34m(\u001b[0m\u001b[0mdata\u001b[0m\u001b[0;34m)\u001b[0m\u001b[0;34m\u001b[0m\u001b[0;34m\u001b[0m\u001b[0m\n",
      "\u001b[0;32m~/miniconda3/envs/asr/lib/python3.8/site-packages/torch/utils/data/_utils/fetch.py\u001b[0m in \u001b[0;36mfetch\u001b[0;34m(self, possibly_batched_index)\u001b[0m\n\u001b[1;32m     45\u001b[0m         \u001b[0;32melse\u001b[0m\u001b[0;34m:\u001b[0m\u001b[0;34m\u001b[0m\u001b[0;34m\u001b[0m\u001b[0m\n\u001b[1;32m     46\u001b[0m             \u001b[0mdata\u001b[0m \u001b[0;34m=\u001b[0m \u001b[0mself\u001b[0m\u001b[0;34m.\u001b[0m\u001b[0mdataset\u001b[0m\u001b[0;34m[\u001b[0m\u001b[0mpossibly_batched_index\u001b[0m\u001b[0;34m]\u001b[0m\u001b[0;34m\u001b[0m\u001b[0;34m\u001b[0m\u001b[0m\n\u001b[0;32m---> 47\u001b[0;31m         \u001b[0;32mreturn\u001b[0m \u001b[0mself\u001b[0m\u001b[0;34m.\u001b[0m\u001b[0mcollate_fn\u001b[0m\u001b[0;34m(\u001b[0m\u001b[0mdata\u001b[0m\u001b[0;34m)\u001b[0m\u001b[0;34m\u001b[0m\u001b[0;34m\u001b[0m\u001b[0m\n\u001b[0m",
      "\u001b[0;32m~/miniconda3/envs/asr/lib/python3.8/site-packages/torch/utils/data/_utils/collate.py\u001b[0m in \u001b[0;36mdefault_collate\u001b[0;34m(batch)\u001b[0m\n\u001b[1;32m     81\u001b[0m             \u001b[0;32mraise\u001b[0m \u001b[0mRuntimeError\u001b[0m\u001b[0;34m(\u001b[0m\u001b[0;34m'each element in list of batch should be of equal size'\u001b[0m\u001b[0;34m)\u001b[0m\u001b[0;34m\u001b[0m\u001b[0;34m\u001b[0m\u001b[0m\n\u001b[1;32m     82\u001b[0m         \u001b[0mtransposed\u001b[0m \u001b[0;34m=\u001b[0m \u001b[0mzip\u001b[0m\u001b[0;34m(\u001b[0m\u001b[0;34m*\u001b[0m\u001b[0mbatch\u001b[0m\u001b[0;34m)\u001b[0m\u001b[0;34m\u001b[0m\u001b[0;34m\u001b[0m\u001b[0m\n\u001b[0;32m---> 83\u001b[0;31m         \u001b[0;32mreturn\u001b[0m \u001b[0;34m[\u001b[0m\u001b[0mdefault_collate\u001b[0m\u001b[0;34m(\u001b[0m\u001b[0msamples\u001b[0m\u001b[0;34m)\u001b[0m \u001b[0;32mfor\u001b[0m \u001b[0msamples\u001b[0m \u001b[0;32min\u001b[0m \u001b[0mtransposed\u001b[0m\u001b[0;34m]\u001b[0m\u001b[0;34m\u001b[0m\u001b[0;34m\u001b[0m\u001b[0m\n\u001b[0m\u001b[1;32m     84\u001b[0m \u001b[0;34m\u001b[0m\u001b[0m\n\u001b[1;32m     85\u001b[0m     \u001b[0;32mraise\u001b[0m \u001b[0mTypeError\u001b[0m\u001b[0;34m(\u001b[0m\u001b[0mdefault_collate_err_msg_format\u001b[0m\u001b[0;34m.\u001b[0m\u001b[0mformat\u001b[0m\u001b[0;34m(\u001b[0m\u001b[0melem_type\u001b[0m\u001b[0;34m)\u001b[0m\u001b[0;34m)\u001b[0m\u001b[0;34m\u001b[0m\u001b[0;34m\u001b[0m\u001b[0m\n",
      "\u001b[0;32m~/miniconda3/envs/asr/lib/python3.8/site-packages/torch/utils/data/_utils/collate.py\u001b[0m in \u001b[0;36m<listcomp>\u001b[0;34m(.0)\u001b[0m\n\u001b[1;32m     81\u001b[0m             \u001b[0;32mraise\u001b[0m \u001b[0mRuntimeError\u001b[0m\u001b[0;34m(\u001b[0m\u001b[0;34m'each element in list of batch should be of equal size'\u001b[0m\u001b[0;34m)\u001b[0m\u001b[0;34m\u001b[0m\u001b[0;34m\u001b[0m\u001b[0m\n\u001b[1;32m     82\u001b[0m         \u001b[0mtransposed\u001b[0m \u001b[0;34m=\u001b[0m \u001b[0mzip\u001b[0m\u001b[0;34m(\u001b[0m\u001b[0;34m*\u001b[0m\u001b[0mbatch\u001b[0m\u001b[0;34m)\u001b[0m\u001b[0;34m\u001b[0m\u001b[0;34m\u001b[0m\u001b[0m\n\u001b[0;32m---> 83\u001b[0;31m         \u001b[0;32mreturn\u001b[0m \u001b[0;34m[\u001b[0m\u001b[0mdefault_collate\u001b[0m\u001b[0;34m(\u001b[0m\u001b[0msamples\u001b[0m\u001b[0;34m)\u001b[0m \u001b[0;32mfor\u001b[0m \u001b[0msamples\u001b[0m \u001b[0;32min\u001b[0m \u001b[0mtransposed\u001b[0m\u001b[0;34m]\u001b[0m\u001b[0;34m\u001b[0m\u001b[0;34m\u001b[0m\u001b[0m\n\u001b[0m\u001b[1;32m     84\u001b[0m \u001b[0;34m\u001b[0m\u001b[0m\n\u001b[1;32m     85\u001b[0m     \u001b[0;32mraise\u001b[0m \u001b[0mTypeError\u001b[0m\u001b[0;34m(\u001b[0m\u001b[0mdefault_collate_err_msg_format\u001b[0m\u001b[0;34m.\u001b[0m\u001b[0mformat\u001b[0m\u001b[0;34m(\u001b[0m\u001b[0melem_type\u001b[0m\u001b[0;34m)\u001b[0m\u001b[0;34m)\u001b[0m\u001b[0;34m\u001b[0m\u001b[0;34m\u001b[0m\u001b[0m\n",
      "\u001b[0;32m~/miniconda3/envs/asr/lib/python3.8/site-packages/torch/utils/data/_utils/collate.py\u001b[0m in \u001b[0;36mdefault_collate\u001b[0;34m(batch)\u001b[0m\n\u001b[1;32m     53\u001b[0m             \u001b[0mstorage\u001b[0m \u001b[0;34m=\u001b[0m \u001b[0melem\u001b[0m\u001b[0;34m.\u001b[0m\u001b[0mstorage\u001b[0m\u001b[0;34m(\u001b[0m\u001b[0;34m)\u001b[0m\u001b[0;34m.\u001b[0m\u001b[0m_new_shared\u001b[0m\u001b[0;34m(\u001b[0m\u001b[0mnumel\u001b[0m\u001b[0;34m)\u001b[0m\u001b[0;34m\u001b[0m\u001b[0;34m\u001b[0m\u001b[0m\n\u001b[1;32m     54\u001b[0m             \u001b[0mout\u001b[0m \u001b[0;34m=\u001b[0m \u001b[0melem\u001b[0m\u001b[0;34m.\u001b[0m\u001b[0mnew\u001b[0m\u001b[0;34m(\u001b[0m\u001b[0mstorage\u001b[0m\u001b[0;34m)\u001b[0m\u001b[0;34m\u001b[0m\u001b[0;34m\u001b[0m\u001b[0m\n\u001b[0;32m---> 55\u001b[0;31m         \u001b[0;32mreturn\u001b[0m \u001b[0mtorch\u001b[0m\u001b[0;34m.\u001b[0m\u001b[0mstack\u001b[0m\u001b[0;34m(\u001b[0m\u001b[0mbatch\u001b[0m\u001b[0;34m,\u001b[0m \u001b[0;36m0\u001b[0m\u001b[0;34m,\u001b[0m \u001b[0mout\u001b[0m\u001b[0;34m=\u001b[0m\u001b[0mout\u001b[0m\u001b[0;34m)\u001b[0m\u001b[0;34m\u001b[0m\u001b[0;34m\u001b[0m\u001b[0m\n\u001b[0m\u001b[1;32m     56\u001b[0m     \u001b[0;32melif\u001b[0m \u001b[0melem_type\u001b[0m\u001b[0;34m.\u001b[0m\u001b[0m__module__\u001b[0m \u001b[0;34m==\u001b[0m \u001b[0;34m'numpy'\u001b[0m \u001b[0;32mand\u001b[0m \u001b[0melem_type\u001b[0m\u001b[0;34m.\u001b[0m\u001b[0m__name__\u001b[0m \u001b[0;34m!=\u001b[0m \u001b[0;34m'str_'\u001b[0m\u001b[0;31m \u001b[0m\u001b[0;31m\\\u001b[0m\u001b[0;34m\u001b[0m\u001b[0;34m\u001b[0m\u001b[0m\n\u001b[1;32m     57\u001b[0m             \u001b[0;32mand\u001b[0m \u001b[0melem_type\u001b[0m\u001b[0;34m.\u001b[0m\u001b[0m__name__\u001b[0m \u001b[0;34m!=\u001b[0m \u001b[0;34m'string_'\u001b[0m\u001b[0;34m:\u001b[0m\u001b[0;34m\u001b[0m\u001b[0;34m\u001b[0m\u001b[0m\n",
      "\u001b[0;31mKeyboardInterrupt\u001b[0m: "
     ]
    }
   ],
   "source": [
    "# 使用boost ing的想法，让神经网络学习错误的类别\n",
    "# boosting 的想法：训练后面几次，分类错误的数据\n",
    "# 重新定义一个新的分类器进行学习错误的数据, 保存这些模型的参数\n",
    "# 然后使用模型融合\n",
    "boost_epoch_num = 4\n",
    "for boost_num in range(boost_epoch_num):\n",
    "    # 分类器学习, 更新训练集\n",
    "    train_dataset = TensorDataset(train_tensor, y_train_tensor)\n",
    "    train_loader = DataLoader(train_dataset, shuffle=True, batch_size=batch_size, drop_last=True)\n",
    "    model = DNN().to(device)\n",
    "    boost_feature = []\n",
    "    boost_label = []\n",
    "    optimizer = optim.Adam(model.parameters(), lr=lr)\n",
    "    criterion = nn.CrossEntropyLoss()\n",
    "    scheduler = optim.lr_scheduler.StepLR(optimizer, step_size=step_size, gamma=gamma)\n",
    "    train_best = float('inf')\n",
    "    best_model = None\n",
    "    \n",
    "    print('--'*8 + f'boost round: {boost_num}/{boost_epoch_num}' + '--'*8)\n",
    "    print(train_tensor.shape, y_train_tensor.shape)\n",
    "    for epoch in range(epochs):\n",
    "        print('='*20 + f' Epoch: {epoch} '+ '='*20)\n",
    "        model_train(train_loader=train_loader, optimizer=optimizer, criterion=criterion, labels=y_train_tensor, model=model, boost=True)\n",
    "        loss = predict(val_loader, model, criterion=criterion, labels=y_val_tensor)\n",
    "        if loss <= train_best:\n",
    "            train_best = loss\n",
    "            best_model = model\n",
    "    torch.save(best_model.state_dict(), f'./best_model{str(boost_num)}.point')\n",
    "    # 开始boosting\n",
    "    train_tensor = torch.cat(boost_feature, dim=0)\n",
    "    y_train_tensor = torch.cat(boost_label, dim=0)"
   ]
  },
  {
   "cell_type": "markdown",
   "id": "4ed5ae33",
   "metadata": {},
   "source": [
    "# 模型stacking"
   ]
  },
  {
   "cell_type": "code",
   "execution_count": 63,
   "id": "74c89c15",
   "metadata": {},
   "outputs": [
    {
     "data": {
      "text/plain": [
       "<All keys matched successfully>"
      ]
     },
     "execution_count": 63,
     "metadata": {},
     "output_type": "execute_result"
    }
   ],
   "source": [
    "model0 = DNN().to(device)\n",
    "model1 = DNN().to(device)\n",
    "model2 = DNN().to(device)\n",
    "model3 = DNN().to(device)\n",
    "model0.load_state_dict(torch.load('best_model0.point'))\n",
    "model1.load_state_dict(torch.load('best_model1.point'))\n",
    "model2.load_state_dict(torch.load('best_model2.point'))\n",
    "model3.load_state_dict(torch.load('best_model3.point'))"
   ]
  },
  {
   "cell_type": "code",
   "execution_count": 64,
   "id": "27c5441b",
   "metadata": {},
   "outputs": [],
   "source": [
    "model0.eval()\n",
    "model1.eval()\n",
    "model2.eval()\n",
    "model3.eval()\n",
    "preds0 = model0(torch.FloatTensor(val_sp).to(device)).argmax(dim=1).cpu().numpy()\n",
    "preds1 = model1(torch.FloatTensor(val_sp).to(device)).argmax(dim=1).cpu().numpy()\n",
    "preds2 = model2(torch.FloatTensor(val_sp).to(device)).argmax(dim=1).cpu().numpy()\n",
    "preds3 = model3(torch.FloatTensor(val_sp).to(device)).argmax(dim=1).cpu().numpy()"
   ]
  },
  {
   "cell_type": "code",
   "execution_count": 65,
   "id": "588b0d85",
   "metadata": {},
   "outputs": [],
   "source": [
    "ans0 = model0(torch.FloatTensor(val_sp).to(device)).cpu()\n",
    "ans1 = model1(torch.FloatTensor(val_sp).to(device)).cpu()\n",
    "ans2 = model2(torch.FloatTensor(val_sp).to(device)).cpu()\n",
    "ans3 = model3(torch.FloatTensor(val_sp).to(device)).cpu()"
   ]
  },
  {
   "cell_type": "code",
   "execution_count": 66,
   "id": "53a7b8a9",
   "metadata": {},
   "outputs": [
    {
     "data": {
      "text/plain": [
       "0.3131649788488655"
      ]
     },
     "execution_count": 66,
     "metadata": {},
     "output_type": "execute_result"
    }
   ],
   "source": [
    "(preds3 == val_label).sum()/len(val_label)"
   ]
  },
  {
   "cell_type": "code",
   "execution_count": 44,
   "id": "76d48896",
   "metadata": {},
   "outputs": [],
   "source": [
    "feature = np.stack([preds0, preds1, preds2], axis=1)"
   ]
  },
  {
   "cell_type": "code",
   "execution_count": 45,
   "id": "844f0aa3",
   "metadata": {},
   "outputs": [
    {
     "data": {
      "text/plain": [
       "(23403, 3)"
      ]
     },
     "execution_count": 45,
     "metadata": {},
     "output_type": "execute_result"
    }
   ],
   "source": [
    "feature.shape"
   ]
  },
  {
   "cell_type": "code",
   "execution_count": 60,
   "id": "6ab1d554",
   "metadata": {},
   "outputs": [],
   "source": [
    "from sklearn.model_selection import train_test_split"
   ]
  },
  {
   "cell_type": "code",
   "execution_count": 61,
   "id": "a91f7f50",
   "metadata": {},
   "outputs": [],
   "source": [
    "x_train, x_test, y_train, y_test = train_test_split(feature, val_label)"
   ]
  },
  {
   "cell_type": "code",
   "execution_count": 67,
   "id": "5686cc76",
   "metadata": {},
   "outputs": [],
   "source": [
    "from catboost import Pool, CatBoostClassifier"
   ]
  },
  {
   "cell_type": "code",
   "execution_count": 76,
   "id": "49f27314",
   "metadata": {},
   "outputs": [],
   "source": [
    "model = CatBoostClassifier(#loss_function=\"Logloss\",\n",
    "                           eval_metric=\"AUC\",\n",
    "                           task_type=\"GPU\",\n",
    "                           learning_rate=0.1,\n",
    "                           iterations=50,\n",
    "                           l2_leaf_reg=50,\n",
    "                           random_seed=43,\n",
    "                           od_type=\"Iter\",\n",
    "                           depth=5,\n",
    "                           early_stopping_rounds=1000,\n",
    "                           border_count=64,\n",
    "                           loss_function='MultiClass',\n",
    "                           #has_time= True\n",
    "                          )"
   ]
  },
  {
   "cell_type": "code",
   "execution_count": 77,
   "id": "5fd7eee2",
   "metadata": {},
   "outputs": [
    {
     "name": "stderr",
     "output_type": "stream",
     "text": [
      "AUC is not implemented on GPU. Will use CPU for metric computation, this could significantly affect learning time\n"
     ]
    },
    {
     "name": "stdout",
     "output_type": "stream",
     "text": [
      "0:\ttest: 0.8581913\tbest: 0.8581913 (0)\ttotal: 68ms\tremaining: 3.33s\n",
      "1:\ttest: 0.8734694\tbest: 0.8734694 (1)\ttotal: 156ms\tremaining: 3.73s\n",
      "2:\ttest: 0.8753030\tbest: 0.8753030 (2)\ttotal: 237ms\tremaining: 3.72s\n",
      "3:\ttest: 0.8783921\tbest: 0.8783921 (3)\ttotal: 344ms\tremaining: 3.95s\n",
      "4:\ttest: 0.8863586\tbest: 0.8863586 (4)\ttotal: 429ms\tremaining: 3.86s\n",
      "5:\ttest: 0.8881551\tbest: 0.8881551 (5)\ttotal: 506ms\tremaining: 3.71s\n",
      "6:\ttest: 0.8926710\tbest: 0.8926710 (6)\ttotal: 592ms\tremaining: 3.64s\n",
      "7:\ttest: 0.8927174\tbest: 0.8927174 (7)\ttotal: 686ms\tremaining: 3.6s\n",
      "8:\ttest: 0.8940856\tbest: 0.8940856 (8)\ttotal: 774ms\tremaining: 3.52s\n",
      "9:\ttest: 0.8958414\tbest: 0.8958414 (9)\ttotal: 879ms\tremaining: 3.52s\n",
      "10:\ttest: 0.8964050\tbest: 0.8964050 (10)\ttotal: 960ms\tremaining: 3.4s\n",
      "11:\ttest: 0.8967690\tbest: 0.8967690 (11)\ttotal: 1.03s\tremaining: 3.26s\n",
      "12:\ttest: 0.8978529\tbest: 0.8978529 (12)\ttotal: 1.1s\tremaining: 3.12s\n",
      "13:\ttest: 0.8980099\tbest: 0.8980099 (13)\ttotal: 1.16s\tremaining: 2.99s\n",
      "14:\ttest: 0.8989150\tbest: 0.8989150 (14)\ttotal: 1.23s\tremaining: 2.88s\n",
      "15:\ttest: 0.8993402\tbest: 0.8993402 (15)\ttotal: 1.3s\tremaining: 2.75s\n",
      "16:\ttest: 0.8996862\tbest: 0.8996862 (16)\ttotal: 1.36s\tremaining: 2.64s\n",
      "17:\ttest: 0.9002900\tbest: 0.9002900 (17)\ttotal: 1.43s\tremaining: 2.54s\n",
      "18:\ttest: 0.9007042\tbest: 0.9007042 (18)\ttotal: 1.49s\tremaining: 2.43s\n",
      "19:\ttest: 0.9010417\tbest: 0.9010417 (19)\ttotal: 1.55s\tremaining: 2.33s\n",
      "20:\ttest: 0.9017178\tbest: 0.9017178 (20)\ttotal: 1.61s\tremaining: 2.22s\n",
      "21:\ttest: 0.9027838\tbest: 0.9027838 (21)\ttotal: 1.68s\tremaining: 2.13s\n",
      "22:\ttest: 0.9033130\tbest: 0.9033130 (22)\ttotal: 1.73s\tremaining: 2.04s\n",
      "23:\ttest: 0.9035994\tbest: 0.9035994 (23)\ttotal: 1.79s\tremaining: 1.94s\n",
      "24:\ttest: 0.9038694\tbest: 0.9038694 (24)\ttotal: 1.86s\tremaining: 1.86s\n",
      "25:\ttest: 0.9039295\tbest: 0.9039295 (25)\ttotal: 1.93s\tremaining: 1.78s\n",
      "26:\ttest: 0.9043766\tbest: 0.9043766 (26)\ttotal: 2s\tremaining: 1.71s\n",
      "27:\ttest: 0.9045276\tbest: 0.9045276 (27)\ttotal: 2.06s\tremaining: 1.62s\n",
      "28:\ttest: 0.9047814\tbest: 0.9047814 (28)\ttotal: 2.13s\tremaining: 1.54s\n",
      "29:\ttest: 0.9050033\tbest: 0.9050033 (29)\ttotal: 2.2s\tremaining: 1.47s\n",
      "30:\ttest: 0.9054341\tbest: 0.9054341 (30)\ttotal: 2.27s\tremaining: 1.39s\n",
      "31:\ttest: 0.9056523\tbest: 0.9056523 (31)\ttotal: 2.34s\tremaining: 1.31s\n",
      "32:\ttest: 0.9058112\tbest: 0.9058112 (32)\ttotal: 2.39s\tremaining: 1.23s\n",
      "33:\ttest: 0.9059432\tbest: 0.9059432 (33)\ttotal: 2.46s\tremaining: 1.16s\n",
      "34:\ttest: 0.9060708\tbest: 0.9060708 (34)\ttotal: 2.52s\tremaining: 1.08s\n",
      "35:\ttest: 0.9062955\tbest: 0.9062955 (35)\ttotal: 2.6s\tremaining: 1.01s\n",
      "36:\ttest: 0.9064224\tbest: 0.9064224 (36)\ttotal: 2.66s\tremaining: 935ms\n",
      "37:\ttest: 0.9064522\tbest: 0.9064522 (37)\ttotal: 2.75s\tremaining: 867ms\n",
      "38:\ttest: 0.9066250\tbest: 0.9066250 (38)\ttotal: 2.81s\tremaining: 792ms\n",
      "39:\ttest: 0.9066875\tbest: 0.9066875 (39)\ttotal: 2.87s\tremaining: 717ms\n",
      "40:\ttest: 0.9067206\tbest: 0.9067206 (40)\ttotal: 2.93s\tremaining: 644ms\n",
      "41:\ttest: 0.9070910\tbest: 0.9070910 (41)\ttotal: 3.03s\tremaining: 577ms\n",
      "42:\ttest: 0.9072158\tbest: 0.9072158 (42)\ttotal: 3.11s\tremaining: 506ms\n",
      "43:\ttest: 0.9073845\tbest: 0.9073845 (43)\ttotal: 3.18s\tremaining: 434ms\n",
      "44:\ttest: 0.9074748\tbest: 0.9074748 (44)\ttotal: 3.25s\tremaining: 361ms\n",
      "45:\ttest: 0.9076261\tbest: 0.9076261 (45)\ttotal: 3.33s\tremaining: 289ms\n",
      "46:\ttest: 0.9076391\tbest: 0.9076391 (46)\ttotal: 3.4s\tremaining: 217ms\n",
      "47:\ttest: 0.9077120\tbest: 0.9077120 (47)\ttotal: 3.48s\tremaining: 145ms\n",
      "48:\ttest: 0.9078907\tbest: 0.9078907 (48)\ttotal: 3.59s\tremaining: 73.2ms\n",
      "49:\ttest: 0.9079729\tbest: 0.9079729 (49)\ttotal: 3.69s\tremaining: 0us\n",
      "bestTest = 0.9079729261\n",
      "bestIteration = 49\n",
      "0.6239958981370706\n"
     ]
    }
   ],
   "source": [
    "model.fit(\n",
    "    x_train, y_train,\n",
    "    eval_set=(x_test, y_test),\n",
    ")\n",
    "preds = model.predict(x_test)\n",
    "print((preds.flatten() == y_test).sum() / len(y_test))"
   ]
  },
  {
   "cell_type": "markdown",
   "id": "ae01014d",
   "metadata": {},
   "source": [
    "# boosting test"
   ]
  },
  {
   "cell_type": "code",
   "execution_count": 67,
   "id": "681e525b",
   "metadata": {},
   "outputs": [
    {
     "data": {
      "text/plain": [
       "['.ipynb_checkpoints',\n",
       " 'best_model1.point',\n",
       " 'boost_dnn.py',\n",
       " 't.log',\n",
       " 'eda.ipynb',\n",
       " 'best_model.point']"
      ]
     },
     "execution_count": 67,
     "metadata": {},
     "output_type": "execute_result"
    }
   ],
   "source": [
    "import os\n",
    "os.listdir()"
   ]
  },
  {
   "cell_type": "code",
   "execution_count": 16,
   "id": "34601891",
   "metadata": {},
   "outputs": [],
   "source": [
    "model1.eval()\n",
    "model2.eval()\n",
    "model1 = DNN().to(device)\n",
    "model2 = DNN().to(device)"
   ]
  },
  {
   "cell_type": "code",
   "execution_count": 17,
   "id": "af2b6ea3",
   "metadata": {},
   "outputs": [
    {
     "data": {
      "text/plain": [
       "<All keys matched successfully>"
      ]
     },
     "execution_count": 17,
     "metadata": {},
     "output_type": "execute_result"
    }
   ],
   "source": [
    "model1.load_state_dict(torch.load('best_model0.point'))\n",
    "model2.load_state_dict(torch.load('best_model1.point'))"
   ]
  },
  {
   "cell_type": "code",
   "execution_count": 8,
   "id": "fd572cf1",
   "metadata": {},
   "outputs": [
    {
     "name": "stderr",
     "output_type": "stream",
     "text": [
      "06/14/2021 12:50:14 - WARNING - matplotlib.style.core -   In /home/zwl/miniconda3/envs/asr/lib/python3.8/site-packages/matplotlib/mpl-data/stylelib/_classic_test.mplstyle: \n",
      "The text.latex.preview rcparam was deprecated in Matplotlib 3.3 and will be removed two minor releases later.\n",
      "06/14/2021 12:50:14 - WARNING - matplotlib.style.core -   In /home/zwl/miniconda3/envs/asr/lib/python3.8/site-packages/matplotlib/mpl-data/stylelib/_classic_test.mplstyle: \n",
      "The mathtext.fallback_to_cm rcparam was deprecated in Matplotlib 3.3 and will be removed two minor releases later.\n",
      "06/14/2021 12:50:14 - WARNING - matplotlib.style.core -   In /home/zwl/miniconda3/envs/asr/lib/python3.8/site-packages/matplotlib/mpl-data/stylelib/_classic_test.mplstyle: Support for setting the 'mathtext.fallback_to_cm' rcParam is deprecated since 3.3 and will be removed two minor releases later; use 'mathtext.fallback : 'cm' instead.\n",
      "06/14/2021 12:50:14 - WARNING - matplotlib.style.core -   In /home/zwl/miniconda3/envs/asr/lib/python3.8/site-packages/matplotlib/mpl-data/stylelib/_classic_test.mplstyle: \n",
      "The validate_bool_maybe_none function was deprecated in Matplotlib 3.3 and will be removed two minor releases later.\n",
      "06/14/2021 12:50:14 - WARNING - matplotlib.style.core -   In /home/zwl/miniconda3/envs/asr/lib/python3.8/site-packages/matplotlib/mpl-data/stylelib/_classic_test.mplstyle: \n",
      "The savefig.jpeg_quality rcparam was deprecated in Matplotlib 3.3 and will be removed two minor releases later.\n",
      "06/14/2021 12:50:14 - WARNING - matplotlib.style.core -   In /home/zwl/miniconda3/envs/asr/lib/python3.8/site-packages/matplotlib/mpl-data/stylelib/_classic_test.mplstyle: \n",
      "The keymap.all_axes rcparam was deprecated in Matplotlib 3.3 and will be removed two minor releases later.\n",
      "06/14/2021 12:50:14 - WARNING - matplotlib.style.core -   In /home/zwl/miniconda3/envs/asr/lib/python3.8/site-packages/matplotlib/mpl-data/stylelib/_classic_test.mplstyle: \n",
      "The animation.avconv_path rcparam was deprecated in Matplotlib 3.3 and will be removed two minor releases later.\n",
      "06/14/2021 12:50:14 - WARNING - matplotlib.style.core -   In /home/zwl/miniconda3/envs/asr/lib/python3.8/site-packages/matplotlib/mpl-data/stylelib/_classic_test.mplstyle: \n",
      "The animation.avconv_args rcparam was deprecated in Matplotlib 3.3 and will be removed two minor releases later.\n"
     ]
    }
   ],
   "source": [
    "from sklearn.metrics import confusion_matrix\n",
    "import matplotlib.pyplot as plt"
   ]
  },
  {
   "cell_type": "code",
   "execution_count": 9,
   "id": "3f24054d",
   "metadata": {},
   "outputs": [],
   "source": [
    "def plot_cm(preds, label, file_name, n_classes=10):\n",
    "    '''\n",
    "    label:真实标签，一维ndarray或者数组都行\n",
    "    preds:模型的预测值\n",
    "    n_classes:看问题是几分类问题, 默认是10分类问题\n",
    "    '''\n",
    "    cm = confusion_matrix(label, preds)\n",
    "    def plot_Matrix(cm, classes, title=None,  cmap=plt.cm.Blues):\n",
    "        plt.rc('font',family='Times New Roman',size='8')   # 设置字体样式、大小\n",
    "        \n",
    "        # 按行进行归一化\n",
    "        cm = cm.astype('float') / cm.sum(axis=1)[:, np.newaxis]\n",
    "        # 占比1%以下的单元格，设为0，防止在最后的颜色中体现出来\n",
    "        for i in range(cm.shape[0]):\n",
    "            for j in range(cm.shape[1]):\n",
    "                if int(cm[i, j]*100 + 0.5) == 0:\n",
    "                    cm[i, j]=0\n",
    "\n",
    "        fig, ax = plt.subplots()\n",
    "        im = ax.imshow(cm, interpolation='nearest', cmap=cmap)\n",
    "        # ax.figure.colorbar(im, ax=ax) # 侧边的颜色条带\n",
    "        \n",
    "        ax.set(xticks=np.arange(cm.shape[1]),\n",
    "            yticks=np.arange(cm.shape[0]),\n",
    "            xticklabels=classes, yticklabels=classes,\n",
    "            title=title,\n",
    "            ylabel='Actual',\n",
    "            xlabel='Predicted')\n",
    "\n",
    "        # 通过绘制格网，模拟每个单元格的边框\n",
    "        ax.set_xticks(np.arange(cm.shape[1]+1)-.5, minor=True)\n",
    "        ax.set_yticks(np.arange(cm.shape[0]+1)-.5, minor=True)\n",
    "        ax.grid(which=\"minor\", color=\"gray\", linestyle='-', linewidth=0.2)\n",
    "        ax.tick_params(which=\"minor\", bottom=False, left=False)\n",
    "\n",
    "        # 将x轴上的lables旋转45度\n",
    "        plt.setp(ax.get_xticklabels(), rotation=45, ha=\"right\",\n",
    "                rotation_mode=\"anchor\")\n",
    "\n",
    "        # 标注百分比信息\n",
    "        fmt = 'd'\n",
    "        thresh = cm.max() / 2.\n",
    "        for i in range(cm.shape[0]):\n",
    "            for j in range(cm.shape[1]):\n",
    "                if int(cm[i, j]*100 + 0.5) > 0:\n",
    "                    ax.text(j, i, format(int(cm[i, j]*100 + 0.5) , fmt) + '%',\n",
    "                            ha=\"center\", va=\"center\",\n",
    "                            color=\"white\"  if cm[i, j] > thresh else \"black\")\n",
    "        fig.tight_layout()\n",
    "        plt.savefig(file_name, dpi=300)\n",
    "        plt.show()\n",
    "\n",
    "    plot_Matrix(cm, range(n_classes))"
   ]
  },
  {
   "cell_type": "code",
   "execution_count": 10,
   "id": "28d05f13",
   "metadata": {},
   "outputs": [
    {
     "name": "stderr",
     "output_type": "stream",
     "text": [
      "06/14/2021 12:50:14 - WARNING - matplotlib.font_manager -   findfont: Font family ['Times New Roman'] not found. Falling back to DejaVu Sans.\n"
     ]
    },
    {
     "data": {
      "image/png": "[encoded data removed]",
      "text/plain": [
       "<Figure size 432x288 with 1 Axes>"
      ]
     },
     "metadata": {
      "needs_background": "light"
     },
     "output_type": "display_data"
    }
   ],
   "source": [
    "plot_cm(model1(torch.FloatTensor(val_sp).to(device)).argmax(dim=1).detach().cpu(), torch.LongTensor(val_label), 'model1.png')"
   ]
  },
  {
   "cell_type": "code",
   "execution_count": 11,
   "id": "4a88800d",
   "metadata": {},
   "outputs": [
    {
     "data": {
      "image/png": "[encoded data removed]",
      "text/plain": [
       "<Figure size 432x288 with 1 Axes>"
      ]
     },
     "metadata": {
      "needs_background": "light"
     },
     "output_type": "display_data"
    }
   ],
   "source": [
    "plot_cm(model2(torch.FloatTensor(val_sp).to(device)).argmax(dim=1).detach().cpu(), torch.LongTensor(val_label), 'model2.png')"
   ]
  },
  {
   "cell_type": "code",
   "execution_count": 18,
   "id": "aa02f7e5",
   "metadata": {},
   "outputs": [],
   "source": [
    "preds1 = model1(torch.FloatTensor(val_sp).to(device))\n",
    "preds2 = model2(torch.FloatTensor(val_sp).to(device))"
   ]
  },
  {
   "cell_type": "code",
   "execution_count": 13,
   "id": "c963c5f4",
   "metadata": {},
   "outputs": [
    {
     "data": {
      "text/plain": [
       "torch.Size([23403, 10])"
      ]
     },
     "execution_count": 13,
     "metadata": {},
     "output_type": "execute_result"
    }
   ],
   "source": [
    "preds1.shape"
   ]
  },
  {
   "cell_type": "code",
   "execution_count": 113,
   "id": "f574e946",
   "metadata": {},
   "outputs": [],
   "source": [
    "preds = preds1 * 0.9 + preds2 * 0.1"
   ]
  },
  {
   "cell_type": "code",
   "execution_count": 114,
   "id": "9b62c99a",
   "metadata": {},
   "outputs": [],
   "source": [
    "ans = preds.argmax(dim=1)"
   ]
  },
  {
   "cell_type": "code",
   "execution_count": 115,
   "id": "b1f91b27",
   "metadata": {},
   "outputs": [
    {
     "data": {
      "text/plain": [
       "0.5734307567405889"
      ]
     },
     "execution_count": 115,
     "metadata": {},
     "output_type": "execute_result"
    }
   ],
   "source": [
    "(ans.cpu().numpy() == val_label).sum()/len(val_label)"
   ]
  },
  {
   "cell_type": "code",
   "execution_count": 20,
   "id": "708e6c96",
   "metadata": {},
   "outputs": [
    {
     "data": {
      "text/plain": [
       "0.5719779515446738"
      ]
     },
     "execution_count": 20,
     "metadata": {},
     "output_type": "execute_result"
    }
   ],
   "source": [
    "(preds1.argmax(dim=1).cpu().numpy() == val_label).sum()/len(val_label)"
   ]
  },
  {
   "cell_type": "code",
   "execution_count": null,
   "id": "46e10cca",
   "metadata": {},
   "outputs": [],
   "source": []
  },
  {
   "cell_type": "code",
   "execution_count": 119,
   "id": "876712ca",
   "metadata": {},
   "outputs": [
    {
     "ename": "AttributeError",
     "evalue": "'TensorDataset' object has no attribute 'size'",
     "output_type": "error",
     "traceback": [
      "\u001b[0;31m---------------------------------------------------------------------------\u001b[0m",
      "\u001b[0;31mAttributeError\u001b[0m                            Traceback (most recent call last)",
      "\u001b[0;32m<ipython-input-119-f8d23f3f0dd2>\u001b[0m in \u001b[0;36m<module>\u001b[0;34m\u001b[0m\n\u001b[1;32m      2\u001b[0m \u001b[0;32mfor\u001b[0m \u001b[0mboost_num\u001b[0m \u001b[0;32min\u001b[0m \u001b[0mrange\u001b[0m\u001b[0;34m(\u001b[0m\u001b[0mboost_epoch_num\u001b[0m\u001b[0;34m)\u001b[0m\u001b[0;34m:\u001b[0m\u001b[0;34m\u001b[0m\u001b[0;34m\u001b[0m\u001b[0m\n\u001b[1;32m      3\u001b[0m     \u001b[0;31m# 分类器学习, 更新训练集\u001b[0m\u001b[0;34m\u001b[0m\u001b[0;34m\u001b[0m\u001b[0;34m\u001b[0m\u001b[0m\n\u001b[0;32m----> 4\u001b[0;31m     \u001b[0mtrain_dataset\u001b[0m \u001b[0;34m=\u001b[0m \u001b[0mTensorDataset\u001b[0m\u001b[0;34m(\u001b[0m\u001b[0mtrain_tensor\u001b[0m\u001b[0;34m,\u001b[0m \u001b[0my_train_tensor\u001b[0m\u001b[0;34m)\u001b[0m\u001b[0;34m\u001b[0m\u001b[0;34m\u001b[0m\u001b[0m\n\u001b[0m\u001b[1;32m      5\u001b[0m     \u001b[0mtrain_loader\u001b[0m \u001b[0;34m=\u001b[0m \u001b[0mDataLoader\u001b[0m\u001b[0;34m(\u001b[0m\u001b[0mtrain_dataset\u001b[0m\u001b[0;34m,\u001b[0m \u001b[0mshuffle\u001b[0m\u001b[0;34m=\u001b[0m\u001b[0;32mTrue\u001b[0m\u001b[0;34m,\u001b[0m \u001b[0mbatch_size\u001b[0m\u001b[0;34m=\u001b[0m\u001b[0mbatch_size\u001b[0m\u001b[0;34m,\u001b[0m \u001b[0mdrop_last\u001b[0m\u001b[0;34m=\u001b[0m\u001b[0;32mTrue\u001b[0m\u001b[0;34m)\u001b[0m\u001b[0;34m\u001b[0m\u001b[0;34m\u001b[0m\u001b[0m\n\u001b[1;32m      6\u001b[0m     \u001b[0mmodel\u001b[0m \u001b[0;34m=\u001b[0m \u001b[0mDNN\u001b[0m\u001b[0;34m(\u001b[0m\u001b[0;34m)\u001b[0m\u001b[0;34m.\u001b[0m\u001b[0mto\u001b[0m\u001b[0;34m(\u001b[0m\u001b[0mdevice\u001b[0m\u001b[0;34m)\u001b[0m\u001b[0;34m\u001b[0m\u001b[0;34m\u001b[0m\u001b[0m\n",
      "\u001b[0;32m~/miniconda3/envs/asr/lib/python3.8/site-packages/torch/utils/data/dataset.py\u001b[0m in \u001b[0;36m__init__\u001b[0;34m(self, *tensors)\u001b[0m\n\u001b[1;32m    165\u001b[0m \u001b[0;34m\u001b[0m\u001b[0m\n\u001b[1;32m    166\u001b[0m     \u001b[0;32mdef\u001b[0m \u001b[0m__init__\u001b[0m\u001b[0;34m(\u001b[0m\u001b[0mself\u001b[0m\u001b[0;34m,\u001b[0m \u001b[0;34m*\u001b[0m\u001b[0mtensors\u001b[0m\u001b[0;34m:\u001b[0m \u001b[0mTensor\u001b[0m\u001b[0;34m)\u001b[0m \u001b[0;34m->\u001b[0m \u001b[0;32mNone\u001b[0m\u001b[0;34m:\u001b[0m\u001b[0;34m\u001b[0m\u001b[0;34m\u001b[0m\u001b[0m\n\u001b[0;32m--> 167\u001b[0;31m         \u001b[0;32massert\u001b[0m \u001b[0mall\u001b[0m\u001b[0;34m(\u001b[0m\u001b[0mtensors\u001b[0m\u001b[0;34m[\u001b[0m\u001b[0;36m0\u001b[0m\u001b[0;34m]\u001b[0m\u001b[0;34m.\u001b[0m\u001b[0msize\u001b[0m\u001b[0;34m(\u001b[0m\u001b[0;36m0\u001b[0m\u001b[0;34m)\u001b[0m \u001b[0;34m==\u001b[0m \u001b[0mtensor\u001b[0m\u001b[0;34m.\u001b[0m\u001b[0msize\u001b[0m\u001b[0;34m(\u001b[0m\u001b[0;36m0\u001b[0m\u001b[0;34m)\u001b[0m \u001b[0;32mfor\u001b[0m \u001b[0mtensor\u001b[0m \u001b[0;32min\u001b[0m \u001b[0mtensors\u001b[0m\u001b[0;34m)\u001b[0m\u001b[0;34m,\u001b[0m \u001b[0;34m\"Size mismatch between tensors\"\u001b[0m\u001b[0;34m\u001b[0m\u001b[0;34m\u001b[0m\u001b[0m\n\u001b[0m\u001b[1;32m    168\u001b[0m         \u001b[0mself\u001b[0m\u001b[0;34m.\u001b[0m\u001b[0mtensors\u001b[0m \u001b[0;34m=\u001b[0m \u001b[0mtensors\u001b[0m\u001b[0;34m\u001b[0m\u001b[0;34m\u001b[0m\u001b[0m\n\u001b[1;32m    169\u001b[0m \u001b[0;34m\u001b[0m\u001b[0m\n",
      "\u001b[0;32m~/miniconda3/envs/asr/lib/python3.8/site-packages/torch/utils/data/dataset.py\u001b[0m in \u001b[0;36m<genexpr>\u001b[0;34m(.0)\u001b[0m\n\u001b[1;32m    165\u001b[0m \u001b[0;34m\u001b[0m\u001b[0m\n\u001b[1;32m    166\u001b[0m     \u001b[0;32mdef\u001b[0m \u001b[0m__init__\u001b[0m\u001b[0;34m(\u001b[0m\u001b[0mself\u001b[0m\u001b[0;34m,\u001b[0m \u001b[0;34m*\u001b[0m\u001b[0mtensors\u001b[0m\u001b[0;34m:\u001b[0m \u001b[0mTensor\u001b[0m\u001b[0;34m)\u001b[0m \u001b[0;34m->\u001b[0m \u001b[0;32mNone\u001b[0m\u001b[0;34m:\u001b[0m\u001b[0;34m\u001b[0m\u001b[0;34m\u001b[0m\u001b[0m\n\u001b[0;32m--> 167\u001b[0;31m         \u001b[0;32massert\u001b[0m \u001b[0mall\u001b[0m\u001b[0;34m(\u001b[0m\u001b[0mtensors\u001b[0m\u001b[0;34m[\u001b[0m\u001b[0;36m0\u001b[0m\u001b[0;34m]\u001b[0m\u001b[0;34m.\u001b[0m\u001b[0msize\u001b[0m\u001b[0;34m(\u001b[0m\u001b[0;36m0\u001b[0m\u001b[0;34m)\u001b[0m \u001b[0;34m==\u001b[0m \u001b[0mtensor\u001b[0m\u001b[0;34m.\u001b[0m\u001b[0msize\u001b[0m\u001b[0;34m(\u001b[0m\u001b[0;36m0\u001b[0m\u001b[0;34m)\u001b[0m \u001b[0;32mfor\u001b[0m \u001b[0mtensor\u001b[0m \u001b[0;32min\u001b[0m \u001b[0mtensors\u001b[0m\u001b[0;34m)\u001b[0m\u001b[0;34m,\u001b[0m \u001b[0;34m\"Size mismatch between tensors\"\u001b[0m\u001b[0;34m\u001b[0m\u001b[0;34m\u001b[0m\u001b[0m\n\u001b[0m\u001b[1;32m    168\u001b[0m         \u001b[0mself\u001b[0m\u001b[0;34m.\u001b[0m\u001b[0mtensors\u001b[0m \u001b[0;34m=\u001b[0m \u001b[0mtensors\u001b[0m\u001b[0;34m\u001b[0m\u001b[0;34m\u001b[0m\u001b[0m\n\u001b[1;32m    169\u001b[0m \u001b[0;34m\u001b[0m\u001b[0m\n",
      "\u001b[0;31mAttributeError\u001b[0m: 'TensorDataset' object has no attribute 'size'"
     ]
    }
   ],
   "source": [
    "boost_epoch_num = 4\n",
    "for boost_num in range(boost_epoch_num):\n",
    "    # 分类器学习, 更新训练集\n",
    "    train_dataset = TensorDataset(train_tensor, y_train_tensor)\n",
    "    train_loader = DataLoader(train_dataset, shuffle=True, batch_size=batch_size, drop_last=True)\n",
    "    model = DNN().to(device)\n",
    "    boost_feature = []\n",
    "    boost_label = []\n",
    "    optimizer = optim.Adam(model.parameters(), lr=lr)\n",
    "    criterion = nn.CrossEntropyLoss()\n",
    "    scheduler = optim.lr_scheduler.StepLR(optimizer, step_size=step_size, gamma=gamma)\n",
    "    train_best = float('inf')\n",
    "    best_model = None\n",
    "    print(f'boost round: {boost_num}/{boost_epoch_num}')\n",
    "    for epoch in range(epochs):\n",
    "        print('='*20 + f' Epoch: {epoch} '+ '='*20)\n",
    "        train(train_loader, model, optimizer, criterion=criterion, labels=train_label)\n",
    "        loss = predict(val_loader, model, criterion=criterion, labels=val_label)\n",
    "        if loss <= train_best:\n",
    "            train_best = loss\n",
    "            best_model = model\n",
    "    torch.save(best_model.state_dict(), f'./best_model{str(boost_epoch_num)}.point')\n",
    "    # 开始boosting\n",
    "    train_tensor = torch.cat(boost_label, dim=0)\n",
    "    y_train_tensor = torch.cat(boost_feature, dim=0)\n"
   ]
  }
 ],
 "metadata": {
  "kernelspec": {
   "display_name": "Python 3",
   "language": "python",
   "name": "python3"
  },
  "language_info": {
   "codemirror_mode": {
    "name": "ipython",
    "version": 3
   },
   "file_extension": ".py",
   "mimetype": "text/x-python",
   "name": "python",
   "nbconvert_exporter": "python",
   "pygments_lexer": "ipython3",
   "version": "3.8.8"
  },
  "toc": {
   "base_numbering": 1,
   "nav_menu": {},
   "number_sections": true,
   "sideBar": true,
   "skip_h1_title": false,
   "title_cell": "Table of Contents",
   "title_sidebar": "Contents",
   "toc_cell": false,
   "toc_position": {},
   "toc_section_display": true,
   "toc_window_display": false
  }
 },
 "nbformat": 4,
 "nbformat_minor": 5
}
