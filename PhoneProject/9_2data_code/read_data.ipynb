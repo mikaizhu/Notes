{
 "cells": [
  {
   "cell_type": "code",
   "execution_count": 1,
   "id": "4f5ea3f9",
   "metadata": {},
   "outputs": [],
   "source": [
    "#!/home/zwl/miniconda3/envs/asr/bin/python3\n",
    "import torch\n",
    "from torchvision.models import resnet18\n",
    "import torch.nn as nn\n",
    "import torch.optim as optim\n",
    "from data import Data, MyDataLoader, MyDataset\n",
    "from trainer import Trainer\n",
    "from utils import set_seed\n",
    "from pathlib import Path\n",
    "\n",
    "import logging\n",
    "import logging.config\n",
    "from utils import get_logging_config\n",
    "import gc\n",
    "import numpy as np"
   ]
  },
  {
   "cell_type": "code",
   "execution_count": 2,
   "id": "445f07d9",
   "metadata": {
    "scrolled": false
   },
   "outputs": [
    {
     "name": "stdout",
     "output_type": "stream",
     "text": [
      "Stage1: data load\n"
     ]
    },
    {
     "name": "stderr",
     "output_type": "stream",
     "text": [
      "y_test bincount :[24305 32163 56972 35924 21128 37325 21668 33597 39180 41764 48416 21767\n",
      " 27981 23206 30245 43291 26684 39425 22082 22419 21028 43255 41950 24148\n",
      " 23184 53472 31008 23939 46712 32136]\n",
      "y_train bincount:[24194 32102 56964 35904 21110 37128 21652 33770 39282 41724 48391 21573\n",
      " 27892 23200 30154 43178 26551 39411 21985 22405 21024 43342 41989 24026\n",
      " 23117 53214 30826 24090 46866 32149]\n",
      "y_test bincount :[39180 41764 48416 21767 27981 23206 30245 43291 26684 39425 22082 22419\n",
      " 21028 43255 41950 24148 23184 53472 31008 23939 46712 32136]\n",
      "y_train bincount:[39282 41724 48391 21573 27892 23200 30154 43178 26551 39411 21985 22405\n",
      " 21024 43342 41989 24026 23117 53214 30826 24090 46866 32149]\n",
      "y_val bincount:[525906 436375]\n"
     ]
    },
    {
     "name": "stdout",
     "output_type": "stream",
     "text": [
      "load data successful\n"
     ]
    }
   ],
   "source": [
    "# logger set\n",
    "logging.config.dictConfig(get_logging_config(file_name='recogization_test.log'))\n",
    "logger = logging.getLogger('logger')\n",
    "\n",
    "set_seed(42)\n",
    "\n",
    "train_config = {\n",
    "    'batch_size':128,\n",
    "    'shuffle':True,\n",
    "    'drop_last':True,\n",
    "    'pin_memory':True,\n",
    "}\n",
    "\n",
    "test_config = {\n",
    "    'batch_size':128,\n",
    "    'shuffle':True,\n",
    "    'drop_last':True,\n",
    "    'pin_memory':True,\n",
    "}\n",
    "\n",
    "print('Stage1: data load')\n",
    "data = Data(logger)\n",
    "x_train, x_test, y_train, y_test = data.read_9_2_data_as_30_phones_by_day()\n",
    "# 如果只是单纯训练模型，则只要将下面注释即可，如果要未知源识别，则取消注释下面代码\n",
    "x_train, x_test, x_val, y_train, y_test, y_val = data.recognization_data_process(x_train, x_test, y_train, y_test)\n",
    "gc.collect()\n",
    "print('load data successful')\n",
    "x_train = data.process(x_train)\n",
    "x_test = data.process(x_test)\n",
    "x_val = data.process(x_val) #模型训练部分不需要val"
   ]
  },
  {
   "cell_type": "code",
   "execution_count": 4,
   "id": "557e783b",
   "metadata": {},
   "outputs": [],
   "source": [
    "del x_train, y_train"
   ]
  },
  {
   "cell_type": "code",
   "execution_count": 5,
   "id": "40f1af2d",
   "metadata": {},
   "outputs": [],
   "source": [
    "del x_test, y_test"
   ]
  },
  {
   "cell_type": "code",
   "execution_count": 3,
   "id": "21f21476",
   "metadata": {},
   "outputs": [],
   "source": [
    "device = torch.device('cuda:0' if torch.cuda.is_available() else 'cpu')\n",
    "model = resnet18()\n",
    "model.conv1 = nn.Conv2d(2, 64, kernel_size=(7, 7), stride=(2, 2), padding=(3, 3), bias=False)\n",
    "model.maxpool = nn.AdaptiveAvgPool2d(output_size=(7, 7))\n",
    "model.fc = nn.Linear(512, len(np.bincount(y_test)), bias=True)\n",
    "model.load_state_dict(torch.load('./model/9_2data_read_data_as_30_phones_by_day_resnet_StandarScale.model'))\n",
    "model = model.to(device)"
   ]
  },
  {
   "cell_type": "code",
   "execution_count": 16,
   "id": "5d39e4dc",
   "metadata": {},
   "outputs": [
    {
     "data": {
      "text/plain": [
       "array([525906, 436375])"
      ]
     },
     "execution_count": 16,
     "metadata": {},
     "output_type": "execute_result"
    }
   ],
   "source": [
    "np.bincount(y_val)"
   ]
  },
  {
   "cell_type": "code",
   "execution_count": 17,
   "id": "86f9231c",
   "metadata": {},
   "outputs": [],
   "source": [
    "# 特征提取测试，看神经网络哪一层的输出事比较好的结果\n",
    "# 1. 直接提取输出层\n",
    "#type(x_val[0])\n",
    "unrecog = model(torch.tensor(x_val[0:2, :]).cuda().float()).cpu()\n",
    "recog = model(torch.tensor(x_val[600000:600000+2, :]).cuda().float()).cpu()"
   ]
  },
  {
   "cell_type": "code",
   "execution_count": 18,
   "id": "b71db3c1",
   "metadata": {},
   "outputs": [
    {
     "name": "stdout",
     "output_type": "stream",
     "text": [
      "tensor([[ -7.3342, -11.0766,  -3.7140,  -9.4895,  -5.6619,  -2.6834,  -3.5643,\n",
      "          -7.3402,  -3.3576,  -6.2765,  -9.7875,  -9.2831,  -4.5601,  -8.5839,\n",
      "          -1.7162,  -5.9391,  -6.7807,  -8.0487,  -4.2620,  -9.3888,  -6.3493,\n",
      "          -9.6943],\n",
      "        [ -9.5175,  -0.1114,  -9.7081,  -8.6638, -10.1976,  -9.5350, -11.1217,\n",
      "          -4.1878, -12.0176,  -8.2710,  -4.2189,  -9.6429,  -9.1712,  -0.7747,\n",
      "         -13.8330,  -8.6009, -11.7026,  -4.6962,  -9.6907, -10.8896,  -4.4016,\n",
      "          -6.1932]], grad_fn=<CopyBackwards>)\n",
      "tensor([[-10.5961,  -3.4720, -16.9160, -14.9896,  -8.0082,  -2.8703, -11.1524,\n",
      "         -12.0226,  -3.9791,  -7.0316, -11.4799,  -9.0377,  -7.7611,  -4.3624,\n",
      "          -4.1402,  -9.6177,  -6.5700,  -9.9683,  -7.0765, -11.7273,  -2.4924,\n",
      "          -3.3978],\n",
      "        [ -7.2578, -11.2299,   3.7462,  -2.5240,  -8.6796, -10.7125,  -8.8843,\n",
      "          -0.5616, -11.6816,  -8.3758,  -6.0592, -11.2445,  -7.6342,  -7.7002,\n",
      "         -15.1438,  -6.8952, -13.0014,  -3.3724, -10.3162, -11.9541, -12.9164,\n",
      "         -11.5799]], grad_fn=<CopyBackwards>)\n"
     ]
    }
   ],
   "source": [
    "print(unrecog)\n",
    "print(recog)"
   ]
  },
  {
   "cell_type": "code",
   "execution_count": 81,
   "id": "2b0746cc",
   "metadata": {},
   "outputs": [
    {
     "data": {
      "text/plain": [
       "array([19, 19, 19, 19])"
      ]
     },
     "execution_count": 81,
     "metadata": {},
     "output_type": "execute_result"
    }
   ],
   "source": [
    "# 使用下面方法获得中间层特征\n",
    "def get_activation(name):\n",
    "    def hook(model, input, output):\n",
    "        activation[name] = output.detach()\n",
    "    return hook\n",
    "\n",
    "model.avgpool.register_forward_hook(get_activation(model.avgpool))\n",
    "tensor = torch.FloatTensor(test).to(device)\n",
    "model(tensor).argmax(dim=1).cpu().numpy()\n",
    "\n",
    "# 查看字典，会发现中间层特征已经存储到字典中了"
   ]
  },
  {
   "cell_type": "code",
   "execution_count": 82,
   "id": "d9c3d8da",
   "metadata": {},
   "outputs": [],
   "source": [
    "for key, value in activation.items():\n",
    "    activation[key] = value.reshape(-1, 512)"
   ]
  },
  {
   "cell_type": "code",
   "execution_count": 83,
   "id": "80c9050a",
   "metadata": {},
   "outputs": [
    {
     "name": "stdout",
     "output_type": "stream",
     "text": [
      "torch.Size([4, 512])\n"
     ]
    }
   ],
   "source": [
    "for key, value in activation.items():\n",
    "    print(value.shape)"
   ]
  },
  {
   "cell_type": "code",
   "execution_count": 33,
   "id": "fe70fb8c",
   "metadata": {},
   "outputs": [
    {
     "data": {
      "text/plain": [
       "array([39282, 41724, 48391, 21573, 27892, 23200, 30154, 43178, 26551,\n",
       "       39411, 21985, 22405, 21024, 43342, 41989, 24026, 23117, 53214,\n",
       "       30826, 24090, 46866, 32149])"
      ]
     },
     "execution_count": 33,
     "metadata": {},
     "output_type": "execute_result"
    }
   ],
   "source": [
    "np.bincount(y_train)"
   ]
  },
  {
   "cell_type": "code",
   "execution_count": 36,
   "id": "36f65f8a",
   "metadata": {},
   "outputs": [
    {
     "data": {
      "text/plain": [
       "[15, 2, 16, 14, 17, 4, 8, 13, 9, 0]"
      ]
     },
     "execution_count": 36,
     "metadata": {},
     "output_type": "execute_result"
    }
   ],
   "source": [
    "import random\n",
    "random.sample(range(20), 10)"
   ]
  },
  {
   "cell_type": "code",
   "execution_count": 44,
   "id": "0fdafa2f",
   "metadata": {},
   "outputs": [],
   "source": [
    "train_idx = random.sample(range(len(y_train)), int(len(y_train)*0.3))"
   ]
  },
  {
   "cell_type": "code",
   "execution_count": 45,
   "id": "813493b6",
   "metadata": {},
   "outputs": [
    {
     "data": {
      "text/plain": [
       "array([11801, 12617, 14580,  6468,  8320,  6969,  9044, 12939,  7916,\n",
       "       11815,  6462,  6750,  6435, 12998, 12554,  7162,  6864, 15952,\n",
       "        9359,  7259, 14012,  9640])"
      ]
     },
     "execution_count": 45,
     "metadata": {},
     "output_type": "execute_result"
    }
   ],
   "source": [
    "np.bincount(y_train[train_idx])"
   ]
  },
  {
   "cell_type": "code",
   "execution_count": 46,
   "id": "1e86b7a4",
   "metadata": {},
   "outputs": [],
   "source": [
    "train_sample = x_train[train_idx, :]"
   ]
  },
  {
   "cell_type": "code",
   "execution_count": 57,
   "id": "5ad82825",
   "metadata": {},
   "outputs": [],
   "source": [
    "train_dataset = MyDataset(train_sample, y_train[train_idx])"
   ]
  },
  {
   "cell_type": "code",
   "execution_count": 73,
   "id": "56c35601",
   "metadata": {},
   "outputs": [],
   "source": [
    "train_loader = MyDataLoader(train_dataset, shuffle=False, batch_size=128)"
   ]
  },
  {
   "cell_type": "code",
   "execution_count": 61,
   "id": "7ae0e750",
   "metadata": {},
   "outputs": [],
   "source": [
    "print_base = {key:[] for key in range(10)}"
   ]
  },
  {
   "cell_type": "code",
   "execution_count": 284,
   "id": "f2195b9f",
   "metadata": {},
   "outputs": [],
   "source": [
    "def get_activation(name):\n",
    "    def hook(model, input, output):\n",
    "        activation[name] = output.detach()\n",
    "    return hook\n",
    "\n",
    "def regroup(print_base, activation, label):\n",
    "    for key, value in activation.items():\n",
    "        activation[key] = value.reshape(-1, 512).cpu()\n",
    "        for i in range(num_classes):\n",
    "            idx = (label == i)\n",
    "            print_base[i].extend(activation[key][idx, :])\n",
    "    return print_base\n",
    "        \n",
    "num_classes = len(np.bincount(y_train))\n",
    "print_base = {key:[] for key in range(num_classes)}\n",
    "with torch.no_grad():\n",
    "    model.eval()\n",
    "    #model.avgpool.register_forward_hook(get_activation(model.avgpool))\n",
    "    model.avgpool.register_forward_hook(get_activation(model.fc))\n",
    "    for feature, label in train_loader:\n",
    "        activation = {}\n",
    "        feature = feature.reshape(-1, 2, 64, 64).to(device)\n",
    "        label = label.to(device)\n",
    "        model(feature)\n",
    "        print_base = regroup(print_base, activation, label)"
   ]
  },
  {
   "cell_type": "code",
   "execution_count": 290,
   "id": "b4b48449",
   "metadata": {},
   "outputs": [
    {
     "data": {
      "text/plain": [
       "2818"
      ]
     },
     "execution_count": 290,
     "metadata": {},
     "output_type": "execute_result"
    }
   ],
   "source": [
    "gc.collect()"
   ]
  },
  {
   "cell_type": "code",
   "execution_count": 288,
   "id": "8ebed328",
   "metadata": {},
   "outputs": [
    {
     "ename": "RuntimeError",
     "evalue": "shape '[-1, 22]' is invalid for input of size 12084224",
     "output_type": "error",
     "traceback": [
      "\u001b[0;31m---------------------------------------------------------------------------\u001b[0m",
      "\u001b[0;31mRuntimeError\u001b[0m                              Traceback (most recent call last)",
      "\u001b[0;32m<ipython-input-288-200620b74c82>\u001b[0m in \u001b[0;36m<module>\u001b[0;34m\u001b[0m\n\u001b[1;32m      1\u001b[0m \u001b[0;32mfor\u001b[0m \u001b[0mkey\u001b[0m\u001b[0;34m,\u001b[0m \u001b[0mvalue\u001b[0m \u001b[0;32min\u001b[0m \u001b[0mprint_base\u001b[0m\u001b[0;34m.\u001b[0m\u001b[0mitems\u001b[0m\u001b[0;34m(\u001b[0m\u001b[0;34m)\u001b[0m\u001b[0;34m:\u001b[0m\u001b[0;34m\u001b[0m\u001b[0;34m\u001b[0m\u001b[0m\n\u001b[1;32m      2\u001b[0m     \u001b[0;31m#value = torch.cat(value).reshape(-1, 512)\u001b[0m\u001b[0;34m\u001b[0m\u001b[0;34m\u001b[0m\u001b[0;34m\u001b[0m\u001b[0m\n\u001b[0;32m----> 3\u001b[0;31m     \u001b[0mvalue\u001b[0m \u001b[0;34m=\u001b[0m \u001b[0mtorch\u001b[0m\u001b[0;34m.\u001b[0m\u001b[0mcat\u001b[0m\u001b[0;34m(\u001b[0m\u001b[0mvalue\u001b[0m\u001b[0;34m)\u001b[0m\u001b[0;34m.\u001b[0m\u001b[0mreshape\u001b[0m\u001b[0;34m(\u001b[0m\u001b[0;34m-\u001b[0m\u001b[0;36m1\u001b[0m\u001b[0;34m,\u001b[0m \u001b[0mnum_classes\u001b[0m\u001b[0;34m)\u001b[0m\u001b[0;34m\u001b[0m\u001b[0;34m\u001b[0m\u001b[0m\n\u001b[0m\u001b[1;32m      4\u001b[0m     \u001b[0mprint\u001b[0m\u001b[0;34m(\u001b[0m\u001b[0mvalue\u001b[0m\u001b[0;34m.\u001b[0m\u001b[0mshape\u001b[0m\u001b[0;34m)\u001b[0m\u001b[0;34m\u001b[0m\u001b[0;34m\u001b[0m\u001b[0m\n\u001b[1;32m      5\u001b[0m     \u001b[0;32massert\u001b[0m \u001b[0;36m0\u001b[0m\u001b[0;34m\u001b[0m\u001b[0;34m\u001b[0m\u001b[0m\n",
      "\u001b[0;31mRuntimeError\u001b[0m: shape '[-1, 22]' is invalid for input of size 12084224"
     ]
    }
   ],
   "source": [
    "for key, value in print_base.items():\n",
    "    #value = torch.cat(value).reshape(-1, 512)\n",
    "    value = torch.cat(value).reshape(-1, num_classes)\n",
    "    print(value.shape)\n",
    "    assert 0\n",
    "    print_base[key] = torch.sum(value, 0) / value.shape[0] # 对向量求和 并求平均"
   ]
  },
  {
   "cell_type": "code",
   "execution_count": 94,
   "id": "e41f6d5f",
   "metadata": {},
   "outputs": [
    {
     "data": {
      "text/plain": [
       "array([11801, 12617, 14580,  6468,  8320,  6969,  9044, 12939,  7916,\n",
       "       11815,  6462,  6750,  6435, 12998, 12554,  7162,  6864, 15952,\n",
       "        9359,  7259, 14012,  9640])"
      ]
     },
     "execution_count": 94,
     "metadata": {},
     "output_type": "execute_result"
    }
   ],
   "source": [
    "np.bincount(y_train[train_idx])"
   ]
  },
  {
   "cell_type": "code",
   "execution_count": 97,
   "id": "c8e33c37",
   "metadata": {},
   "outputs": [],
   "source": [
    "val_config = {\n",
    "    'batch_size':128,\n",
    "    'shuffle':False,\n",
    "    'drop_last':False,\n",
    "    'pin_memory':True,\n",
    "}\n",
    "val_dataset = MyDataset(x_val, y_val)\n",
    "val_loader = MyDataLoader(val_dataset, **val_config)"
   ]
  },
  {
   "cell_type": "code",
   "execution_count": 107,
   "id": "1a6fa51d",
   "metadata": {},
   "outputs": [],
   "source": [
    "val_feature = []\n",
    "val_label = []\n",
    "with torch.no_grad():\n",
    "    model.eval()\n",
    "    model.avgpool.register_forward_hook(get_activation(model.avgpool))\n",
    "    for feature, label in val_loader:\n",
    "        activation = {}\n",
    "        feature = feature.reshape(-1, 2, 64, 64).to(device)\n",
    "        label = label.to(device)\n",
    "        model(feature)\n",
    "        for key, value in activation.items():\n",
    "            val_feature.append(value.reshape(-1, 512).cpu().numpy())\n",
    "            val_label.extend(label.cpu().numpy())"
   ]
  },
  {
   "cell_type": "code",
   "execution_count": 111,
   "id": "607d853f",
   "metadata": {},
   "outputs": [
    {
     "ename": "TypeError",
     "evalue": "cat(): argument 'tensors' (position 1) must be tuple of Tensors, not numpy.ndarray",
     "output_type": "error",
     "traceback": [
      "\u001b[0;31m---------------------------------------------------------------------------\u001b[0m",
      "\u001b[0;31mTypeError\u001b[0m                                 Traceback (most recent call last)",
      "\u001b[0;32m<ipython-input-111-f19c22b3da30>\u001b[0m in \u001b[0;36m<module>\u001b[0;34m\u001b[0m\n\u001b[0;32m----> 1\u001b[0;31m \u001b[0mval_feature\u001b[0m \u001b[0;34m=\u001b[0m \u001b[0mtorch\u001b[0m\u001b[0;34m.\u001b[0m\u001b[0mcat\u001b[0m\u001b[0;34m(\u001b[0m\u001b[0mval_feature\u001b[0m\u001b[0;34m)\u001b[0m\u001b[0;34m\u001b[0m\u001b[0;34m\u001b[0m\u001b[0m\n\u001b[0m\u001b[1;32m      2\u001b[0m \u001b[0mval_label\u001b[0m \u001b[0;34m=\u001b[0m \u001b[0mnp\u001b[0m\u001b[0;34m.\u001b[0m\u001b[0mtensor\u001b[0m\u001b[0;34m(\u001b[0m\u001b[0mval_label\u001b[0m\u001b[0;34m)\u001b[0m\u001b[0;34m.\u001b[0m\u001b[0mlong\u001b[0m\u001b[0;34m(\u001b[0m\u001b[0;34m)\u001b[0m\u001b[0;34m\u001b[0m\u001b[0;34m\u001b[0m\u001b[0m\n\u001b[1;32m      3\u001b[0m \u001b[0mgc\u001b[0m\u001b[0;34m.\u001b[0m\u001b[0mcollect\u001b[0m\u001b[0;34m(\u001b[0m\u001b[0;34m)\u001b[0m\u001b[0;34m\u001b[0m\u001b[0;34m\u001b[0m\u001b[0m\n",
      "\u001b[0;31mTypeError\u001b[0m: cat(): argument 'tensors' (position 1) must be tuple of Tensors, not numpy.ndarray"
     ]
    }
   ],
   "source": [
    "val_feature = torch.cat(val_feature)\n",
    "val_label = np.tensor(val_label).long()\n",
    "gc.collect()"
   ]
  },
  {
   "cell_type": "code",
   "execution_count": 112,
   "id": "80a699e0",
   "metadata": {},
   "outputs": [
    {
     "data": {
      "text/plain": [
       "(962281, 512)"
      ]
     },
     "execution_count": 112,
     "metadata": {},
     "output_type": "execute_result"
    }
   ],
   "source": [
    "val_feature.shape"
   ]
  },
  {
   "cell_type": "code",
   "execution_count": 113,
   "id": "017ac548",
   "metadata": {},
   "outputs": [
    {
     "data": {
      "text/plain": [
       "(962281,)"
      ]
     },
     "execution_count": 113,
     "metadata": {},
     "output_type": "execute_result"
    }
   ],
   "source": [
    "val_label.shape"
   ]
  },
  {
   "cell_type": "code",
   "execution_count": 124,
   "id": "fed3ca45",
   "metadata": {},
   "outputs": [],
   "source": [
    "val_feature = torch.tensor(val_feature).float()\n",
    "val_label = torch.tensor(val_label).long()"
   ]
  },
  {
   "cell_type": "code",
   "execution_count": 137,
   "id": "dfd3a790",
   "metadata": {},
   "outputs": [
    {
     "ename": "IndexError",
     "evalue": "Dimension out of range (expected to be in range of [-1, 0], but got 1)",
     "output_type": "error",
     "traceback": [
      "\u001b[0;31m---------------------------------------------------------------------------\u001b[0m",
      "\u001b[0;31mIndexError\u001b[0m                                Traceback (most recent call last)",
      "\u001b[0;32m<ipython-input-137-93052a1f2d8e>\u001b[0m in \u001b[0;36m<module>\u001b[0;34m\u001b[0m\n\u001b[0;32m----> 1\u001b[0;31m \u001b[0mtorch\u001b[0m\u001b[0;34m.\u001b[0m\u001b[0mcosine_similarity\u001b[0m\u001b[0;34m(\u001b[0m\u001b[0mt1\u001b[0m\u001b[0;34m,\u001b[0m \u001b[0mt2\u001b[0m\u001b[0;34m,\u001b[0m \u001b[0mdim\u001b[0m\u001b[0;34m=\u001b[0m\u001b[0;36m1\u001b[0m\u001b[0;34m)\u001b[0m\u001b[0;34m\u001b[0m\u001b[0;34m\u001b[0m\u001b[0m\n\u001b[0m",
      "\u001b[0;31mIndexError\u001b[0m: Dimension out of range (expected to be in range of [-1, 0], but got 1)"
     ]
    }
   ],
   "source": [
    "torch.cosine_similarity(t1, t2, dim=1)"
   ]
  },
  {
   "cell_type": "code",
   "execution_count": 277,
   "id": "a04865af",
   "metadata": {},
   "outputs": [
    {
     "name": "stderr",
     "output_type": "stream",
     "text": [
      "100%|██████████| 962281/962281 [07:35<00:00, 2112.21it/s]\n"
     ]
    }
   ],
   "source": [
    "from tqdm import tqdm\n",
    "res = []\n",
    "for source_tensor in tqdm(val_feature):\n",
    "    for key, value in print_base.items():\n",
    "        attention_score = torch.cosine_similarity(source_tensor, value, dim=0)\n",
    "        res.append(attention_score)"
   ]
  },
  {
   "cell_type": "code",
   "execution_count": 278,
   "id": "d7837641",
   "metadata": {},
   "outputs": [],
   "source": [
    "res = np.array(res).reshape(-1, 22)"
   ]
  },
  {
   "cell_type": "code",
   "execution_count": 279,
   "id": "d53915a2",
   "metadata": {},
   "outputs": [
    {
     "data": {
      "text/plain": [
       "(962281, 22)"
      ]
     },
     "execution_count": 279,
     "metadata": {},
     "output_type": "execute_result"
    }
   ],
   "source": [
    "res.shape"
   ]
  },
  {
   "cell_type": "code",
   "execution_count": 280,
   "id": "6debe6eb",
   "metadata": {},
   "outputs": [],
   "source": [
    "max_res = np.max(res, 1)"
   ]
  },
  {
   "cell_type": "code",
   "execution_count": 281,
   "id": "12ca1971",
   "metadata": {},
   "outputs": [
    {
     "data": {
      "text/plain": [
       "array([0.9855907 , 0.99236864, 0.9857584 , ..., 0.9400834 , 0.9842423 ,\n",
       "       0.96428245], dtype=float32)"
      ]
     },
     "execution_count": 281,
     "metadata": {},
     "output_type": "execute_result"
    }
   ],
   "source": [
    "max_res"
   ]
  },
  {
   "cell_type": "code",
   "execution_count": 282,
   "id": "7cd5ee87",
   "metadata": {},
   "outputs": [],
   "source": [
    "result = ((max_res > 0.95).astype(int) == val_label.numpy())"
   ]
  },
  {
   "cell_type": "code",
   "execution_count": 150,
   "id": "30dc1b1d",
   "metadata": {},
   "outputs": [
    {
     "data": {
      "text/plain": [
       "22"
      ]
     },
     "execution_count": 150,
     "metadata": {},
     "output_type": "execute_result"
    }
   ],
   "source": [
    "len(res)"
   ]
  },
  {
   "cell_type": "code",
   "execution_count": 283,
   "id": "d7b5c420",
   "metadata": {},
   "outputs": [
    {
     "data": {
      "text/plain": [
       "0.4465701806436997"
      ]
     },
     "execution_count": 283,
     "metadata": {},
     "output_type": "execute_result"
    }
   ],
   "source": [
    "sum(result) / len(result)"
   ]
  },
  {
   "cell_type": "code",
   "execution_count": null,
   "id": "b6c1fa5e",
   "metadata": {},
   "outputs": [],
   "source": []
  }
 ],
 "metadata": {
  "kernelspec": {
   "display_name": "Python 3",
   "language": "python",
   "name": "python3"
  },
  "language_info": {
   "codemirror_mode": {
    "name": "ipython",
    "version": 3
   },
   "file_extension": ".py",
   "mimetype": "text/x-python",
   "name": "python",
   "nbconvert_exporter": "python",
   "pygments_lexer": "ipython3",
   "version": "3.8.8"
  },
  "toc": {
   "base_numbering": 1,
   "nav_menu": {},
   "number_sections": true,
   "sideBar": true,
   "skip_h1_title": false,
   "title_cell": "Table of Contents",
   "title_sidebar": "Contents",
   "toc_cell": false,
   "toc_position": {},
   "toc_section_display": true,
   "toc_window_display": false
  }
 },
 "nbformat": 4,
 "nbformat_minor": 5
}
